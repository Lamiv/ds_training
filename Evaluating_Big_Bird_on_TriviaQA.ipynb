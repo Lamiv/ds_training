{
  "nbformat": 4,
  "nbformat_minor": 0,
  "metadata": {
    "colab": {
      "provenance": [],
      "include_colab_link": true
    },
    "kernelspec": {
      "display_name": "Python 3",
      "name": "python3"
    },
    "widgets": {
      "application/vnd.jupyter.widget-state+json": {
        "0a5b23345dbd4cb09d194fe723817a4f": {
          "model_module": "@jupyter-widgets/controls",
          "model_name": "HBoxModel",
          "state": {
            "_view_name": "HBoxView",
            "_dom_classes": [],
            "_model_name": "HBoxModel",
            "_view_module": "@jupyter-widgets/controls",
            "_model_module_version": "1.5.0",
            "_view_count": null,
            "_view_module_version": "1.5.0",
            "box_style": "",
            "layout": "IPY_MODEL_8c66f5cadbad47b4b864c2159422f15e",
            "_model_module": "@jupyter-widgets/controls",
            "children": [
              "IPY_MODEL_6b0e39f862734b889d54108819cf3c56",
              "IPY_MODEL_930d5fa55fdd468999268de3f3cc43d6"
            ]
          },
          "model_module_version": "1.5.0"
        },
        "8c66f5cadbad47b4b864c2159422f15e": {
          "model_module": "@jupyter-widgets/base",
          "model_name": "LayoutModel",
          "state": {
            "_view_name": "LayoutView",
            "grid_template_rows": null,
            "right": null,
            "justify_content": null,
            "_view_module": "@jupyter-widgets/base",
            "overflow": null,
            "_model_module_version": "1.2.0",
            "_view_count": null,
            "flex_flow": null,
            "width": null,
            "min_width": null,
            "border": null,
            "align_items": null,
            "bottom": null,
            "_model_module": "@jupyter-widgets/base",
            "top": null,
            "grid_column": null,
            "overflow_y": null,
            "overflow_x": null,
            "grid_auto_flow": null,
            "grid_area": null,
            "grid_template_columns": null,
            "flex": null,
            "_model_name": "LayoutModel",
            "justify_items": null,
            "grid_row": null,
            "max_height": null,
            "align_content": null,
            "visibility": null,
            "align_self": null,
            "height": null,
            "min_height": null,
            "padding": null,
            "grid_auto_rows": null,
            "grid_gap": null,
            "max_width": null,
            "order": null,
            "_view_module_version": "1.2.0",
            "grid_template_areas": null,
            "object_position": null,
            "object_fit": null,
            "grid_auto_columns": null,
            "margin": null,
            "display": null,
            "left": null
          },
          "model_module_version": "1.2.0"
        },
        "6b0e39f862734b889d54108819cf3c56": {
          "model_module": "@jupyter-widgets/controls",
          "model_name": "FloatProgressModel",
          "state": {
            "_view_name": "ProgressView",
            "style": "IPY_MODEL_80d1d8a5e2684dca946f45f5be80f713",
            "_dom_classes": [],
            "description": "Downloading: ",
            "_model_name": "FloatProgressModel",
            "bar_style": "success",
            "max": 3456,
            "_view_module": "@jupyter-widgets/controls",
            "_model_module_version": "1.5.0",
            "value": 3456,
            "_view_count": null,
            "_view_module_version": "1.5.0",
            "orientation": "horizontal",
            "min": 0,
            "description_tooltip": null,
            "_model_module": "@jupyter-widgets/controls",
            "layout": "IPY_MODEL_416264e3ca9841b4bc42aa081c485c79"
          },
          "model_module_version": "1.5.0"
        },
        "930d5fa55fdd468999268de3f3cc43d6": {
          "model_module": "@jupyter-widgets/controls",
          "model_name": "HTMLModel",
          "state": {
            "_view_name": "HTMLView",
            "style": "IPY_MODEL_512ddc846d7342a18d1f69ba02ff1543",
            "_dom_classes": [],
            "description": "",
            "_model_name": "HTMLModel",
            "placeholder": "​",
            "_view_module": "@jupyter-widgets/controls",
            "_model_module_version": "1.5.0",
            "value": " 12.6k/? [02:02&lt;00:00, 103B/s]",
            "_view_count": null,
            "_view_module_version": "1.5.0",
            "description_tooltip": null,
            "_model_module": "@jupyter-widgets/controls",
            "layout": "IPY_MODEL_54f505cf7cd3428ab50138fcaa696def"
          },
          "model_module_version": "1.5.0"
        },
        "80d1d8a5e2684dca946f45f5be80f713": {
          "model_module": "@jupyter-widgets/controls",
          "model_name": "ProgressStyleModel",
          "state": {
            "_view_name": "StyleView",
            "_model_name": "ProgressStyleModel",
            "description_width": "initial",
            "_view_module": "@jupyter-widgets/base",
            "_model_module_version": "1.5.0",
            "_view_count": null,
            "_view_module_version": "1.2.0",
            "bar_color": null,
            "_model_module": "@jupyter-widgets/controls"
          },
          "model_module_version": "1.5.0"
        },
        "416264e3ca9841b4bc42aa081c485c79": {
          "model_module": "@jupyter-widgets/base",
          "model_name": "LayoutModel",
          "state": {
            "_view_name": "LayoutView",
            "grid_template_rows": null,
            "right": null,
            "justify_content": null,
            "_view_module": "@jupyter-widgets/base",
            "overflow": null,
            "_model_module_version": "1.2.0",
            "_view_count": null,
            "flex_flow": null,
            "width": null,
            "min_width": null,
            "border": null,
            "align_items": null,
            "bottom": null,
            "_model_module": "@jupyter-widgets/base",
            "top": null,
            "grid_column": null,
            "overflow_y": null,
            "overflow_x": null,
            "grid_auto_flow": null,
            "grid_area": null,
            "grid_template_columns": null,
            "flex": null,
            "_model_name": "LayoutModel",
            "justify_items": null,
            "grid_row": null,
            "max_height": null,
            "align_content": null,
            "visibility": null,
            "align_self": null,
            "height": null,
            "min_height": null,
            "padding": null,
            "grid_auto_rows": null,
            "grid_gap": null,
            "max_width": null,
            "order": null,
            "_view_module_version": "1.2.0",
            "grid_template_areas": null,
            "object_position": null,
            "object_fit": null,
            "grid_auto_columns": null,
            "margin": null,
            "display": null,
            "left": null
          },
          "model_module_version": "1.2.0"
        },
        "512ddc846d7342a18d1f69ba02ff1543": {
          "model_module": "@jupyter-widgets/controls",
          "model_name": "DescriptionStyleModel",
          "state": {
            "_view_name": "StyleView",
            "_model_name": "DescriptionStyleModel",
            "description_width": "",
            "_view_module": "@jupyter-widgets/base",
            "_model_module_version": "1.5.0",
            "_view_count": null,
            "_view_module_version": "1.2.0",
            "_model_module": "@jupyter-widgets/controls"
          },
          "model_module_version": "1.5.0"
        },
        "54f505cf7cd3428ab50138fcaa696def": {
          "model_module": "@jupyter-widgets/base",
          "model_name": "LayoutModel",
          "state": {
            "_view_name": "LayoutView",
            "grid_template_rows": null,
            "right": null,
            "justify_content": null,
            "_view_module": "@jupyter-widgets/base",
            "overflow": null,
            "_model_module_version": "1.2.0",
            "_view_count": null,
            "flex_flow": null,
            "width": null,
            "min_width": null,
            "border": null,
            "align_items": null,
            "bottom": null,
            "_model_module": "@jupyter-widgets/base",
            "top": null,
            "grid_column": null,
            "overflow_y": null,
            "overflow_x": null,
            "grid_auto_flow": null,
            "grid_area": null,
            "grid_template_columns": null,
            "flex": null,
            "_model_name": "LayoutModel",
            "justify_items": null,
            "grid_row": null,
            "max_height": null,
            "align_content": null,
            "visibility": null,
            "align_self": null,
            "height": null,
            "min_height": null,
            "padding": null,
            "grid_auto_rows": null,
            "grid_gap": null,
            "max_width": null,
            "order": null,
            "_view_module_version": "1.2.0",
            "grid_template_areas": null,
            "object_position": null,
            "object_fit": null,
            "grid_auto_columns": null,
            "margin": null,
            "display": null,
            "left": null
          },
          "model_module_version": "1.2.0"
        },
        "300e0030ac854cf7934d4cd540507cbd": {
          "model_module": "@jupyter-widgets/controls",
          "model_name": "HBoxModel",
          "state": {
            "_view_name": "HBoxView",
            "_dom_classes": [],
            "_model_name": "HBoxModel",
            "_view_module": "@jupyter-widgets/controls",
            "_model_module_version": "1.5.0",
            "_view_count": null,
            "_view_module_version": "1.5.0",
            "box_style": "",
            "layout": "IPY_MODEL_d5dca27071da46fd91fad522b96df1aa",
            "_model_module": "@jupyter-widgets/controls",
            "children": [
              "IPY_MODEL_f02e53c0ee2a4d4cb857b254fbc36686",
              "IPY_MODEL_690a2ecebd4c41d489309c72c127cd04"
            ]
          },
          "model_module_version": "1.5.0"
        },
        "d5dca27071da46fd91fad522b96df1aa": {
          "model_module": "@jupyter-widgets/base",
          "model_name": "LayoutModel",
          "state": {
            "_view_name": "LayoutView",
            "grid_template_rows": null,
            "right": null,
            "justify_content": null,
            "_view_module": "@jupyter-widgets/base",
            "overflow": null,
            "_model_module_version": "1.2.0",
            "_view_count": null,
            "flex_flow": null,
            "width": null,
            "min_width": null,
            "border": null,
            "align_items": null,
            "bottom": null,
            "_model_module": "@jupyter-widgets/base",
            "top": null,
            "grid_column": null,
            "overflow_y": null,
            "overflow_x": null,
            "grid_auto_flow": null,
            "grid_area": null,
            "grid_template_columns": null,
            "flex": null,
            "_model_name": "LayoutModel",
            "justify_items": null,
            "grid_row": null,
            "max_height": null,
            "align_content": null,
            "visibility": null,
            "align_self": null,
            "height": null,
            "min_height": null,
            "padding": null,
            "grid_auto_rows": null,
            "grid_gap": null,
            "max_width": null,
            "order": null,
            "_view_module_version": "1.2.0",
            "grid_template_areas": null,
            "object_position": null,
            "object_fit": null,
            "grid_auto_columns": null,
            "margin": null,
            "display": null,
            "left": null
          },
          "model_module_version": "1.2.0"
        },
        "f02e53c0ee2a4d4cb857b254fbc36686": {
          "model_module": "@jupyter-widgets/controls",
          "model_name": "FloatProgressModel",
          "state": {
            "_view_name": "ProgressView",
            "style": "IPY_MODEL_484665eed89e47bdb4359ae69c5c11c8",
            "_dom_classes": [],
            "description": "Downloading: ",
            "_model_name": "FloatProgressModel",
            "bar_style": "success",
            "max": 1408,
            "_view_module": "@jupyter-widgets/controls",
            "_model_module_version": "1.5.0",
            "value": 1408,
            "_view_count": null,
            "_view_module_version": "1.5.0",
            "orientation": "horizontal",
            "min": 0,
            "description_tooltip": null,
            "_model_module": "@jupyter-widgets/controls",
            "layout": "IPY_MODEL_60b19f5a74aa48a29c941e19eff5db14"
          },
          "model_module_version": "1.5.0"
        },
        "690a2ecebd4c41d489309c72c127cd04": {
          "model_module": "@jupyter-widgets/controls",
          "model_name": "HTMLModel",
          "state": {
            "_view_name": "HTMLView",
            "style": "IPY_MODEL_a084b46ef85f4d56ad703ee379c6a240",
            "_dom_classes": [],
            "description": "",
            "_model_name": "HTMLModel",
            "placeholder": "​",
            "_view_module": "@jupyter-widgets/controls",
            "_model_module_version": "1.5.0",
            "value": " 13.6k/? [00:00&lt;00:00, 184kB/s]",
            "_view_count": null,
            "_view_module_version": "1.5.0",
            "description_tooltip": null,
            "_model_module": "@jupyter-widgets/controls",
            "layout": "IPY_MODEL_5a8db468395d4ff3a9277db0b9f62caf"
          },
          "model_module_version": "1.5.0"
        },
        "484665eed89e47bdb4359ae69c5c11c8": {
          "model_module": "@jupyter-widgets/controls",
          "model_name": "ProgressStyleModel",
          "state": {
            "_view_name": "StyleView",
            "_model_name": "ProgressStyleModel",
            "description_width": "initial",
            "_view_module": "@jupyter-widgets/base",
            "_model_module_version": "1.5.0",
            "_view_count": null,
            "_view_module_version": "1.2.0",
            "bar_color": null,
            "_model_module": "@jupyter-widgets/controls"
          },
          "model_module_version": "1.5.0"
        },
        "60b19f5a74aa48a29c941e19eff5db14": {
          "model_module": "@jupyter-widgets/base",
          "model_name": "LayoutModel",
          "state": {
            "_view_name": "LayoutView",
            "grid_template_rows": null,
            "right": null,
            "justify_content": null,
            "_view_module": "@jupyter-widgets/base",
            "overflow": null,
            "_model_module_version": "1.2.0",
            "_view_count": null,
            "flex_flow": null,
            "width": null,
            "min_width": null,
            "border": null,
            "align_items": null,
            "bottom": null,
            "_model_module": "@jupyter-widgets/base",
            "top": null,
            "grid_column": null,
            "overflow_y": null,
            "overflow_x": null,
            "grid_auto_flow": null,
            "grid_area": null,
            "grid_template_columns": null,
            "flex": null,
            "_model_name": "LayoutModel",
            "justify_items": null,
            "grid_row": null,
            "max_height": null,
            "align_content": null,
            "visibility": null,
            "align_self": null,
            "height": null,
            "min_height": null,
            "padding": null,
            "grid_auto_rows": null,
            "grid_gap": null,
            "max_width": null,
            "order": null,
            "_view_module_version": "1.2.0",
            "grid_template_areas": null,
            "object_position": null,
            "object_fit": null,
            "grid_auto_columns": null,
            "margin": null,
            "display": null,
            "left": null
          },
          "model_module_version": "1.2.0"
        },
        "a084b46ef85f4d56ad703ee379c6a240": {
          "model_module": "@jupyter-widgets/controls",
          "model_name": "DescriptionStyleModel",
          "state": {
            "_view_name": "StyleView",
            "_model_name": "DescriptionStyleModel",
            "description_width": "",
            "_view_module": "@jupyter-widgets/base",
            "_model_module_version": "1.5.0",
            "_view_count": null,
            "_view_module_version": "1.2.0",
            "_model_module": "@jupyter-widgets/controls"
          },
          "model_module_version": "1.5.0"
        },
        "5a8db468395d4ff3a9277db0b9f62caf": {
          "model_module": "@jupyter-widgets/base",
          "model_name": "LayoutModel",
          "state": {
            "_view_name": "LayoutView",
            "grid_template_rows": null,
            "right": null,
            "justify_content": null,
            "_view_module": "@jupyter-widgets/base",
            "overflow": null,
            "_model_module_version": "1.2.0",
            "_view_count": null,
            "flex_flow": null,
            "width": null,
            "min_width": null,
            "border": null,
            "align_items": null,
            "bottom": null,
            "_model_module": "@jupyter-widgets/base",
            "top": null,
            "grid_column": null,
            "overflow_y": null,
            "overflow_x": null,
            "grid_auto_flow": null,
            "grid_area": null,
            "grid_template_columns": null,
            "flex": null,
            "_model_name": "LayoutModel",
            "justify_items": null,
            "grid_row": null,
            "max_height": null,
            "align_content": null,
            "visibility": null,
            "align_self": null,
            "height": null,
            "min_height": null,
            "padding": null,
            "grid_auto_rows": null,
            "grid_gap": null,
            "max_width": null,
            "order": null,
            "_view_module_version": "1.2.0",
            "grid_template_areas": null,
            "object_position": null,
            "object_fit": null,
            "grid_auto_columns": null,
            "margin": null,
            "display": null,
            "left": null
          },
          "model_module_version": "1.2.0"
        },
        "25b4252eb2804d76a683864cad30acec": {
          "model_module": "@jupyter-widgets/controls",
          "model_name": "HBoxModel",
          "state": {
            "_view_name": "HBoxView",
            "_dom_classes": [],
            "_model_name": "HBoxModel",
            "_view_module": "@jupyter-widgets/controls",
            "_model_module_version": "1.5.0",
            "_view_count": null,
            "_view_module_version": "1.5.0",
            "box_style": "",
            "layout": "IPY_MODEL_2f63b054cd224313ad2191430d90e810",
            "_model_module": "@jupyter-widgets/controls",
            "children": [
              "IPY_MODEL_5eb01431f8d349b4bad5239b01e7acd4",
              "IPY_MODEL_32982f5f32a74d869fe52190cca7284a"
            ]
          },
          "model_module_version": "1.5.0"
        },
        "2f63b054cd224313ad2191430d90e810": {
          "model_module": "@jupyter-widgets/base",
          "model_name": "LayoutModel",
          "state": {
            "_view_name": "LayoutView",
            "grid_template_rows": null,
            "right": null,
            "justify_content": null,
            "_view_module": "@jupyter-widgets/base",
            "overflow": null,
            "_model_module_version": "1.2.0",
            "_view_count": null,
            "flex_flow": null,
            "width": null,
            "min_width": null,
            "border": null,
            "align_items": null,
            "bottom": null,
            "_model_module": "@jupyter-widgets/base",
            "top": null,
            "grid_column": null,
            "overflow_y": null,
            "overflow_x": null,
            "grid_auto_flow": null,
            "grid_area": null,
            "grid_template_columns": null,
            "flex": null,
            "_model_name": "LayoutModel",
            "justify_items": null,
            "grid_row": null,
            "max_height": null,
            "align_content": null,
            "visibility": null,
            "align_self": null,
            "height": null,
            "min_height": null,
            "padding": null,
            "grid_auto_rows": null,
            "grid_gap": null,
            "max_width": null,
            "order": null,
            "_view_module_version": "1.2.0",
            "grid_template_areas": null,
            "object_position": null,
            "object_fit": null,
            "grid_auto_columns": null,
            "margin": null,
            "display": null,
            "left": null
          },
          "model_module_version": "1.2.0"
        },
        "5eb01431f8d349b4bad5239b01e7acd4": {
          "model_module": "@jupyter-widgets/controls",
          "model_name": "FloatProgressModel",
          "state": {
            "_view_name": "ProgressView",
            "style": "IPY_MODEL_084c97beaca642d0a7e6c80b00dbf3df",
            "_dom_classes": [],
            "description": "Downloading: 100%",
            "_model_name": "FloatProgressModel",
            "bar_style": "success",
            "max": 2665779500,
            "_view_module": "@jupyter-widgets/controls",
            "_model_module_version": "1.5.0",
            "value": 2665779500,
            "_view_count": null,
            "_view_module_version": "1.5.0",
            "orientation": "horizontal",
            "min": 0,
            "description_tooltip": null,
            "_model_module": "@jupyter-widgets/controls",
            "layout": "IPY_MODEL_3e09beaeda0740a5923743456493b60f"
          },
          "model_module_version": "1.5.0"
        },
        "32982f5f32a74d869fe52190cca7284a": {
          "model_module": "@jupyter-widgets/controls",
          "model_name": "HTMLModel",
          "state": {
            "_view_name": "HTMLView",
            "style": "IPY_MODEL_b8f6edb2a19b4aeeba6f7653219fc7e8",
            "_dom_classes": [],
            "description": "",
            "_model_name": "HTMLModel",
            "placeholder": "​",
            "_view_module": "@jupyter-widgets/controls",
            "_model_module_version": "1.5.0",
            "value": " 2.67G/2.67G [02:01&lt;00:00, 21.9MB/s]",
            "_view_count": null,
            "_view_module_version": "1.5.0",
            "description_tooltip": null,
            "_model_module": "@jupyter-widgets/controls",
            "layout": "IPY_MODEL_34d01ad5090b45dcaf171bcd8b1f5b8c"
          },
          "model_module_version": "1.5.0"
        },
        "084c97beaca642d0a7e6c80b00dbf3df": {
          "model_module": "@jupyter-widgets/controls",
          "model_name": "ProgressStyleModel",
          "state": {
            "_view_name": "StyleView",
            "_model_name": "ProgressStyleModel",
            "description_width": "initial",
            "_view_module": "@jupyter-widgets/base",
            "_model_module_version": "1.5.0",
            "_view_count": null,
            "_view_module_version": "1.2.0",
            "bar_color": null,
            "_model_module": "@jupyter-widgets/controls"
          },
          "model_module_version": "1.5.0"
        },
        "3e09beaeda0740a5923743456493b60f": {
          "model_module": "@jupyter-widgets/base",
          "model_name": "LayoutModel",
          "state": {
            "_view_name": "LayoutView",
            "grid_template_rows": null,
            "right": null,
            "justify_content": null,
            "_view_module": "@jupyter-widgets/base",
            "overflow": null,
            "_model_module_version": "1.2.0",
            "_view_count": null,
            "flex_flow": null,
            "width": null,
            "min_width": null,
            "border": null,
            "align_items": null,
            "bottom": null,
            "_model_module": "@jupyter-widgets/base",
            "top": null,
            "grid_column": null,
            "overflow_y": null,
            "overflow_x": null,
            "grid_auto_flow": null,
            "grid_area": null,
            "grid_template_columns": null,
            "flex": null,
            "_model_name": "LayoutModel",
            "justify_items": null,
            "grid_row": null,
            "max_height": null,
            "align_content": null,
            "visibility": null,
            "align_self": null,
            "height": null,
            "min_height": null,
            "padding": null,
            "grid_auto_rows": null,
            "grid_gap": null,
            "max_width": null,
            "order": null,
            "_view_module_version": "1.2.0",
            "grid_template_areas": null,
            "object_position": null,
            "object_fit": null,
            "grid_auto_columns": null,
            "margin": null,
            "display": null,
            "left": null
          },
          "model_module_version": "1.2.0"
        },
        "b8f6edb2a19b4aeeba6f7653219fc7e8": {
          "model_module": "@jupyter-widgets/controls",
          "model_name": "DescriptionStyleModel",
          "state": {
            "_view_name": "StyleView",
            "_model_name": "DescriptionStyleModel",
            "description_width": "",
            "_view_module": "@jupyter-widgets/base",
            "_model_module_version": "1.5.0",
            "_view_count": null,
            "_view_module_version": "1.2.0",
            "_model_module": "@jupyter-widgets/controls"
          },
          "model_module_version": "1.5.0"
        },
        "34d01ad5090b45dcaf171bcd8b1f5b8c": {
          "model_module": "@jupyter-widgets/base",
          "model_name": "LayoutModel",
          "state": {
            "_view_name": "LayoutView",
            "grid_template_rows": null,
            "right": null,
            "justify_content": null,
            "_view_module": "@jupyter-widgets/base",
            "overflow": null,
            "_model_module_version": "1.2.0",
            "_view_count": null,
            "flex_flow": null,
            "width": null,
            "min_width": null,
            "border": null,
            "align_items": null,
            "bottom": null,
            "_model_module": "@jupyter-widgets/base",
            "top": null,
            "grid_column": null,
            "overflow_y": null,
            "overflow_x": null,
            "grid_auto_flow": null,
            "grid_area": null,
            "grid_template_columns": null,
            "flex": null,
            "_model_name": "LayoutModel",
            "justify_items": null,
            "grid_row": null,
            "max_height": null,
            "align_content": null,
            "visibility": null,
            "align_self": null,
            "height": null,
            "min_height": null,
            "padding": null,
            "grid_auto_rows": null,
            "grid_gap": null,
            "max_width": null,
            "order": null,
            "_view_module_version": "1.2.0",
            "grid_template_areas": null,
            "object_position": null,
            "object_fit": null,
            "grid_auto_columns": null,
            "margin": null,
            "display": null,
            "left": null
          },
          "model_module_version": "1.2.0"
        },
        "ba2126d6f8324934a5f0e443e5a10664": {
          "model_module": "@jupyter-widgets/controls",
          "model_name": "HBoxModel",
          "state": {
            "_view_name": "HBoxView",
            "_dom_classes": [],
            "_model_name": "HBoxModel",
            "_view_module": "@jupyter-widgets/controls",
            "_model_module_version": "1.5.0",
            "_view_count": null,
            "_view_module_version": "1.5.0",
            "box_style": "",
            "layout": "IPY_MODEL_04e652c43f1d4bb191b5a79f3d41bb4a",
            "_model_module": "@jupyter-widgets/controls",
            "children": [
              "IPY_MODEL_f5857e99190d41628671fda0370a0146",
              "IPY_MODEL_72b7dd893575486c95eee577083a1788"
            ]
          },
          "model_module_version": "1.5.0"
        },
        "04e652c43f1d4bb191b5a79f3d41bb4a": {
          "model_module": "@jupyter-widgets/base",
          "model_name": "LayoutModel",
          "state": {
            "_view_name": "LayoutView",
            "grid_template_rows": null,
            "right": null,
            "justify_content": null,
            "_view_module": "@jupyter-widgets/base",
            "overflow": null,
            "_model_module_version": "1.2.0",
            "_view_count": null,
            "flex_flow": null,
            "width": null,
            "min_width": null,
            "border": null,
            "align_items": null,
            "bottom": null,
            "_model_module": "@jupyter-widgets/base",
            "top": null,
            "grid_column": null,
            "overflow_y": null,
            "overflow_x": null,
            "grid_auto_flow": null,
            "grid_area": null,
            "grid_template_columns": null,
            "flex": null,
            "_model_name": "LayoutModel",
            "justify_items": null,
            "grid_row": null,
            "max_height": null,
            "align_content": null,
            "visibility": null,
            "align_self": null,
            "height": null,
            "min_height": null,
            "padding": null,
            "grid_auto_rows": null,
            "grid_gap": null,
            "max_width": null,
            "order": null,
            "_view_module_version": "1.2.0",
            "grid_template_areas": null,
            "object_position": null,
            "object_fit": null,
            "grid_auto_columns": null,
            "margin": null,
            "display": null,
            "left": null
          },
          "model_module_version": "1.2.0"
        },
        "f5857e99190d41628671fda0370a0146": {
          "model_module": "@jupyter-widgets/controls",
          "model_name": "FloatProgressModel",
          "state": {
            "_view_name": "ProgressView",
            "style": "IPY_MODEL_f41da1d72551435ab1c6d765c2c6a41e",
            "_dom_classes": [],
            "description": "",
            "_model_name": "FloatProgressModel",
            "bar_style": "info",
            "max": 1,
            "_view_module": "@jupyter-widgets/controls",
            "_model_module_version": "1.5.0",
            "value": 1,
            "_view_count": null,
            "_view_module_version": "1.5.0",
            "orientation": "horizontal",
            "min": 0,
            "description_tooltip": null,
            "_model_module": "@jupyter-widgets/controls",
            "layout": "IPY_MODEL_e9845e9c68294f70b94eec93ab3b2aff"
          },
          "model_module_version": "1.5.0"
        },
        "72b7dd893575486c95eee577083a1788": {
          "model_module": "@jupyter-widgets/controls",
          "model_name": "HTMLModel",
          "state": {
            "_view_name": "HTMLView",
            "style": "IPY_MODEL_cb22d126394f402da5e9394cfe6cb92f",
            "_dom_classes": [],
            "description": "",
            "_model_name": "HTMLModel",
            "placeholder": "​",
            "_view_module": "@jupyter-widgets/controls",
            "_model_module_version": "1.5.0",
            "value": " 138384/0 [09:20&lt;00:00, 1131.22 examples/s]",
            "_view_count": null,
            "_view_module_version": "1.5.0",
            "description_tooltip": null,
            "_model_module": "@jupyter-widgets/controls",
            "layout": "IPY_MODEL_5c1da230ec99484d97e9ec340e017aeb"
          },
          "model_module_version": "1.5.0"
        },
        "f41da1d72551435ab1c6d765c2c6a41e": {
          "model_module": "@jupyter-widgets/controls",
          "model_name": "ProgressStyleModel",
          "state": {
            "_view_name": "StyleView",
            "_model_name": "ProgressStyleModel",
            "description_width": "initial",
            "_view_module": "@jupyter-widgets/base",
            "_model_module_version": "1.5.0",
            "_view_count": null,
            "_view_module_version": "1.2.0",
            "bar_color": null,
            "_model_module": "@jupyter-widgets/controls"
          },
          "model_module_version": "1.5.0"
        },
        "e9845e9c68294f70b94eec93ab3b2aff": {
          "model_module": "@jupyter-widgets/base",
          "model_name": "LayoutModel",
          "state": {
            "_view_name": "LayoutView",
            "grid_template_rows": null,
            "right": null,
            "justify_content": null,
            "_view_module": "@jupyter-widgets/base",
            "overflow": null,
            "_model_module_version": "1.2.0",
            "_view_count": null,
            "flex_flow": null,
            "width": null,
            "min_width": null,
            "border": null,
            "align_items": null,
            "bottom": null,
            "_model_module": "@jupyter-widgets/base",
            "top": null,
            "grid_column": null,
            "overflow_y": null,
            "overflow_x": null,
            "grid_auto_flow": null,
            "grid_area": null,
            "grid_template_columns": null,
            "flex": null,
            "_model_name": "LayoutModel",
            "justify_items": null,
            "grid_row": null,
            "max_height": null,
            "align_content": null,
            "visibility": null,
            "align_self": null,
            "height": null,
            "min_height": null,
            "padding": null,
            "grid_auto_rows": null,
            "grid_gap": null,
            "max_width": null,
            "order": null,
            "_view_module_version": "1.2.0",
            "grid_template_areas": null,
            "object_position": null,
            "object_fit": null,
            "grid_auto_columns": null,
            "margin": null,
            "display": null,
            "left": null
          },
          "model_module_version": "1.2.0"
        },
        "cb22d126394f402da5e9394cfe6cb92f": {
          "model_module": "@jupyter-widgets/controls",
          "model_name": "DescriptionStyleModel",
          "state": {
            "_view_name": "StyleView",
            "_model_name": "DescriptionStyleModel",
            "description_width": "",
            "_view_module": "@jupyter-widgets/base",
            "_model_module_version": "1.5.0",
            "_view_count": null,
            "_view_module_version": "1.2.0",
            "_model_module": "@jupyter-widgets/controls"
          },
          "model_module_version": "1.5.0"
        },
        "5c1da230ec99484d97e9ec340e017aeb": {
          "model_module": "@jupyter-widgets/base",
          "model_name": "LayoutModel",
          "state": {
            "_view_name": "LayoutView",
            "grid_template_rows": null,
            "right": null,
            "justify_content": null,
            "_view_module": "@jupyter-widgets/base",
            "overflow": null,
            "_model_module_version": "1.2.0",
            "_view_count": null,
            "flex_flow": null,
            "width": null,
            "min_width": null,
            "border": null,
            "align_items": null,
            "bottom": null,
            "_model_module": "@jupyter-widgets/base",
            "top": null,
            "grid_column": null,
            "overflow_y": null,
            "overflow_x": null,
            "grid_auto_flow": null,
            "grid_area": null,
            "grid_template_columns": null,
            "flex": null,
            "_model_name": "LayoutModel",
            "justify_items": null,
            "grid_row": null,
            "max_height": null,
            "align_content": null,
            "visibility": null,
            "align_self": null,
            "height": null,
            "min_height": null,
            "padding": null,
            "grid_auto_rows": null,
            "grid_gap": null,
            "max_width": null,
            "order": null,
            "_view_module_version": "1.2.0",
            "grid_template_areas": null,
            "object_position": null,
            "object_fit": null,
            "grid_auto_columns": null,
            "margin": null,
            "display": null,
            "left": null
          },
          "model_module_version": "1.2.0"
        },
        "4d659b88a58d4911b0ca6db8e34cf9e5": {
          "model_module": "@jupyter-widgets/controls",
          "model_name": "HBoxModel",
          "state": {
            "_view_name": "HBoxView",
            "_dom_classes": [],
            "_model_name": "HBoxModel",
            "_view_module": "@jupyter-widgets/controls",
            "_model_module_version": "1.5.0",
            "_view_count": null,
            "_view_module_version": "1.5.0",
            "box_style": "",
            "layout": "IPY_MODEL_36ba1f29f4f74278a38b27ce7c970d08",
            "_model_module": "@jupyter-widgets/controls",
            "children": [
              "IPY_MODEL_61fcabab7c9c4999b4886a63e6060a92",
              "IPY_MODEL_57d047d23c134e1eb332a6375e4c6fcf"
            ]
          },
          "model_module_version": "1.5.0"
        },
        "36ba1f29f4f74278a38b27ce7c970d08": {
          "model_module": "@jupyter-widgets/base",
          "model_name": "LayoutModel",
          "state": {
            "_view_name": "LayoutView",
            "grid_template_rows": null,
            "right": null,
            "justify_content": null,
            "_view_module": "@jupyter-widgets/base",
            "overflow": null,
            "_model_module_version": "1.2.0",
            "_view_count": null,
            "flex_flow": null,
            "width": null,
            "min_width": null,
            "border": null,
            "align_items": null,
            "bottom": null,
            "_model_module": "@jupyter-widgets/base",
            "top": null,
            "grid_column": null,
            "overflow_y": null,
            "overflow_x": null,
            "grid_auto_flow": null,
            "grid_area": null,
            "grid_template_columns": null,
            "flex": null,
            "_model_name": "LayoutModel",
            "justify_items": null,
            "grid_row": null,
            "max_height": null,
            "align_content": null,
            "visibility": null,
            "align_self": null,
            "height": null,
            "min_height": null,
            "padding": null,
            "grid_auto_rows": null,
            "grid_gap": null,
            "max_width": null,
            "order": null,
            "_view_module_version": "1.2.0",
            "grid_template_areas": null,
            "object_position": null,
            "object_fit": null,
            "grid_auto_columns": null,
            "margin": null,
            "display": null,
            "left": null
          },
          "model_module_version": "1.2.0"
        },
        "61fcabab7c9c4999b4886a63e6060a92": {
          "model_module": "@jupyter-widgets/controls",
          "model_name": "FloatProgressModel",
          "state": {
            "_view_name": "ProgressView",
            "style": "IPY_MODEL_979659f5dbd44734a25f5fa3ed5701cc",
            "_dom_classes": [],
            "description": "",
            "_model_name": "FloatProgressModel",
            "bar_style": "info",
            "max": 1,
            "_view_module": "@jupyter-widgets/controls",
            "_model_module_version": "1.5.0",
            "value": 1,
            "_view_count": null,
            "_view_module_version": "1.5.0",
            "orientation": "horizontal",
            "min": 0,
            "description_tooltip": null,
            "_model_module": "@jupyter-widgets/controls",
            "layout": "IPY_MODEL_26b2b2f7ecdf441983082b4639d2e7d3"
          },
          "model_module_version": "1.5.0"
        },
        "57d047d23c134e1eb332a6375e4c6fcf": {
          "model_module": "@jupyter-widgets/controls",
          "model_name": "HTMLModel",
          "state": {
            "_view_name": "HTMLView",
            "style": "IPY_MODEL_632cf08e44a54bfabead8bcc6287de2b",
            "_dom_classes": [],
            "description": "",
            "_model_name": "HTMLModel",
            "placeholder": "​",
            "_view_module": "@jupyter-widgets/controls",
            "_model_module_version": "1.5.0",
            "value": " 18669/0 [01:11&lt;00:00, 1823.32 examples/s]",
            "_view_count": null,
            "_view_module_version": "1.5.0",
            "description_tooltip": null,
            "_model_module": "@jupyter-widgets/controls",
            "layout": "IPY_MODEL_885aefedcf82454da2fb5ea4d8c7d69e"
          },
          "model_module_version": "1.5.0"
        },
        "979659f5dbd44734a25f5fa3ed5701cc": {
          "model_module": "@jupyter-widgets/controls",
          "model_name": "ProgressStyleModel",
          "state": {
            "_view_name": "StyleView",
            "_model_name": "ProgressStyleModel",
            "description_width": "initial",
            "_view_module": "@jupyter-widgets/base",
            "_model_module_version": "1.5.0",
            "_view_count": null,
            "_view_module_version": "1.2.0",
            "bar_color": null,
            "_model_module": "@jupyter-widgets/controls"
          },
          "model_module_version": "1.5.0"
        },
        "26b2b2f7ecdf441983082b4639d2e7d3": {
          "model_module": "@jupyter-widgets/base",
          "model_name": "LayoutModel",
          "state": {
            "_view_name": "LayoutView",
            "grid_template_rows": null,
            "right": null,
            "justify_content": null,
            "_view_module": "@jupyter-widgets/base",
            "overflow": null,
            "_model_module_version": "1.2.0",
            "_view_count": null,
            "flex_flow": null,
            "width": null,
            "min_width": null,
            "border": null,
            "align_items": null,
            "bottom": null,
            "_model_module": "@jupyter-widgets/base",
            "top": null,
            "grid_column": null,
            "overflow_y": null,
            "overflow_x": null,
            "grid_auto_flow": null,
            "grid_area": null,
            "grid_template_columns": null,
            "flex": null,
            "_model_name": "LayoutModel",
            "justify_items": null,
            "grid_row": null,
            "max_height": null,
            "align_content": null,
            "visibility": null,
            "align_self": null,
            "height": null,
            "min_height": null,
            "padding": null,
            "grid_auto_rows": null,
            "grid_gap": null,
            "max_width": null,
            "order": null,
            "_view_module_version": "1.2.0",
            "grid_template_areas": null,
            "object_position": null,
            "object_fit": null,
            "grid_auto_columns": null,
            "margin": null,
            "display": null,
            "left": null
          },
          "model_module_version": "1.2.0"
        },
        "632cf08e44a54bfabead8bcc6287de2b": {
          "model_module": "@jupyter-widgets/controls",
          "model_name": "DescriptionStyleModel",
          "state": {
            "_view_name": "StyleView",
            "_model_name": "DescriptionStyleModel",
            "description_width": "",
            "_view_module": "@jupyter-widgets/base",
            "_model_module_version": "1.5.0",
            "_view_count": null,
            "_view_module_version": "1.2.0",
            "_model_module": "@jupyter-widgets/controls"
          },
          "model_module_version": "1.5.0"
        },
        "885aefedcf82454da2fb5ea4d8c7d69e": {
          "model_module": "@jupyter-widgets/base",
          "model_name": "LayoutModel",
          "state": {
            "_view_name": "LayoutView",
            "grid_template_rows": null,
            "right": null,
            "justify_content": null,
            "_view_module": "@jupyter-widgets/base",
            "overflow": null,
            "_model_module_version": "1.2.0",
            "_view_count": null,
            "flex_flow": null,
            "width": null,
            "min_width": null,
            "border": null,
            "align_items": null,
            "bottom": null,
            "_model_module": "@jupyter-widgets/base",
            "top": null,
            "grid_column": null,
            "overflow_y": null,
            "overflow_x": null,
            "grid_auto_flow": null,
            "grid_area": null,
            "grid_template_columns": null,
            "flex": null,
            "_model_name": "LayoutModel",
            "justify_items": null,
            "grid_row": null,
            "max_height": null,
            "align_content": null,
            "visibility": null,
            "align_self": null,
            "height": null,
            "min_height": null,
            "padding": null,
            "grid_auto_rows": null,
            "grid_gap": null,
            "max_width": null,
            "order": null,
            "_view_module_version": "1.2.0",
            "grid_template_areas": null,
            "object_position": null,
            "object_fit": null,
            "grid_auto_columns": null,
            "margin": null,
            "display": null,
            "left": null
          },
          "model_module_version": "1.2.0"
        },
        "fb5371fdbd104113bed282090194affe": {
          "model_module": "@jupyter-widgets/controls",
          "model_name": "HBoxModel",
          "state": {
            "_view_name": "HBoxView",
            "_dom_classes": [],
            "_model_name": "HBoxModel",
            "_view_module": "@jupyter-widgets/controls",
            "_model_module_version": "1.5.0",
            "_view_count": null,
            "_view_module_version": "1.5.0",
            "box_style": "",
            "layout": "IPY_MODEL_d3faa305db38495c8d53279adce0f39f",
            "_model_module": "@jupyter-widgets/controls",
            "children": [
              "IPY_MODEL_10313716436d4d258ce92e7d8b9bfca3",
              "IPY_MODEL_0b010e8076ab413cb423de9f29a986d8"
            ]
          },
          "model_module_version": "1.5.0"
        },
        "d3faa305db38495c8d53279adce0f39f": {
          "model_module": "@jupyter-widgets/base",
          "model_name": "LayoutModel",
          "state": {
            "_view_name": "LayoutView",
            "grid_template_rows": null,
            "right": null,
            "justify_content": null,
            "_view_module": "@jupyter-widgets/base",
            "overflow": null,
            "_model_module_version": "1.2.0",
            "_view_count": null,
            "flex_flow": null,
            "width": null,
            "min_width": null,
            "border": null,
            "align_items": null,
            "bottom": null,
            "_model_module": "@jupyter-widgets/base",
            "top": null,
            "grid_column": null,
            "overflow_y": null,
            "overflow_x": null,
            "grid_auto_flow": null,
            "grid_area": null,
            "grid_template_columns": null,
            "flex": null,
            "_model_name": "LayoutModel",
            "justify_items": null,
            "grid_row": null,
            "max_height": null,
            "align_content": null,
            "visibility": null,
            "align_self": null,
            "height": null,
            "min_height": null,
            "padding": null,
            "grid_auto_rows": null,
            "grid_gap": null,
            "max_width": null,
            "order": null,
            "_view_module_version": "1.2.0",
            "grid_template_areas": null,
            "object_position": null,
            "object_fit": null,
            "grid_auto_columns": null,
            "margin": null,
            "display": null,
            "left": null
          },
          "model_module_version": "1.2.0"
        },
        "10313716436d4d258ce92e7d8b9bfca3": {
          "model_module": "@jupyter-widgets/controls",
          "model_name": "FloatProgressModel",
          "state": {
            "_view_name": "ProgressView",
            "style": "IPY_MODEL_1deed11cd8f044f5a8f7f6bbe6feeb22",
            "_dom_classes": [],
            "description": "",
            "_model_name": "FloatProgressModel",
            "bar_style": "info",
            "max": 1,
            "_view_module": "@jupyter-widgets/controls",
            "_model_module_version": "1.5.0",
            "value": 1,
            "_view_count": null,
            "_view_module_version": "1.5.0",
            "orientation": "horizontal",
            "min": 0,
            "description_tooltip": null,
            "_model_module": "@jupyter-widgets/controls",
            "layout": "IPY_MODEL_d905befe6b04443e942416b69934385b"
          },
          "model_module_version": "1.5.0"
        },
        "0b010e8076ab413cb423de9f29a986d8": {
          "model_module": "@jupyter-widgets/controls",
          "model_name": "HTMLModel",
          "state": {
            "_view_name": "HTMLView",
            "style": "IPY_MODEL_01183d2d452e45599f8518e5be17f5ba",
            "_dom_classes": [],
            "description": "",
            "_model_name": "HTMLModel",
            "placeholder": "​",
            "_view_module": "@jupyter-widgets/controls",
            "_model_module_version": "1.5.0",
            "value": " 17210/0 [00:59&lt;00:00, 2842.04 examples/s]",
            "_view_count": null,
            "_view_module_version": "1.5.0",
            "description_tooltip": null,
            "_model_module": "@jupyter-widgets/controls",
            "layout": "IPY_MODEL_4ee422ee4ac54638956b8a8192044ca7"
          },
          "model_module_version": "1.5.0"
        },
        "1deed11cd8f044f5a8f7f6bbe6feeb22": {
          "model_module": "@jupyter-widgets/controls",
          "model_name": "ProgressStyleModel",
          "state": {
            "_view_name": "StyleView",
            "_model_name": "ProgressStyleModel",
            "description_width": "initial",
            "_view_module": "@jupyter-widgets/base",
            "_model_module_version": "1.5.0",
            "_view_count": null,
            "_view_module_version": "1.2.0",
            "bar_color": null,
            "_model_module": "@jupyter-widgets/controls"
          },
          "model_module_version": "1.5.0"
        },
        "d905befe6b04443e942416b69934385b": {
          "model_module": "@jupyter-widgets/base",
          "model_name": "LayoutModel",
          "state": {
            "_view_name": "LayoutView",
            "grid_template_rows": null,
            "right": null,
            "justify_content": null,
            "_view_module": "@jupyter-widgets/base",
            "overflow": null,
            "_model_module_version": "1.2.0",
            "_view_count": null,
            "flex_flow": null,
            "width": null,
            "min_width": null,
            "border": null,
            "align_items": null,
            "bottom": null,
            "_model_module": "@jupyter-widgets/base",
            "top": null,
            "grid_column": null,
            "overflow_y": null,
            "overflow_x": null,
            "grid_auto_flow": null,
            "grid_area": null,
            "grid_template_columns": null,
            "flex": null,
            "_model_name": "LayoutModel",
            "justify_items": null,
            "grid_row": null,
            "max_height": null,
            "align_content": null,
            "visibility": null,
            "align_self": null,
            "height": null,
            "min_height": null,
            "padding": null,
            "grid_auto_rows": null,
            "grid_gap": null,
            "max_width": null,
            "order": null,
            "_view_module_version": "1.2.0",
            "grid_template_areas": null,
            "object_position": null,
            "object_fit": null,
            "grid_auto_columns": null,
            "margin": null,
            "display": null,
            "left": null
          },
          "model_module_version": "1.2.0"
        },
        "01183d2d452e45599f8518e5be17f5ba": {
          "model_module": "@jupyter-widgets/controls",
          "model_name": "DescriptionStyleModel",
          "state": {
            "_view_name": "StyleView",
            "_model_name": "DescriptionStyleModel",
            "description_width": "",
            "_view_module": "@jupyter-widgets/base",
            "_model_module_version": "1.5.0",
            "_view_count": null,
            "_view_module_version": "1.2.0",
            "_model_module": "@jupyter-widgets/controls"
          },
          "model_module_version": "1.5.0"
        },
        "4ee422ee4ac54638956b8a8192044ca7": {
          "model_module": "@jupyter-widgets/base",
          "model_name": "LayoutModel",
          "state": {
            "_view_name": "LayoutView",
            "grid_template_rows": null,
            "right": null,
            "justify_content": null,
            "_view_module": "@jupyter-widgets/base",
            "overflow": null,
            "_model_module_version": "1.2.0",
            "_view_count": null,
            "flex_flow": null,
            "width": null,
            "min_width": null,
            "border": null,
            "align_items": null,
            "bottom": null,
            "_model_module": "@jupyter-widgets/base",
            "top": null,
            "grid_column": null,
            "overflow_y": null,
            "overflow_x": null,
            "grid_auto_flow": null,
            "grid_area": null,
            "grid_template_columns": null,
            "flex": null,
            "_model_name": "LayoutModel",
            "justify_items": null,
            "grid_row": null,
            "max_height": null,
            "align_content": null,
            "visibility": null,
            "align_self": null,
            "height": null,
            "min_height": null,
            "padding": null,
            "grid_auto_rows": null,
            "grid_gap": null,
            "max_width": null,
            "order": null,
            "_view_module_version": "1.2.0",
            "grid_template_areas": null,
            "object_position": null,
            "object_fit": null,
            "grid_auto_columns": null,
            "margin": null,
            "display": null,
            "left": null
          },
          "model_module_version": "1.2.0"
        },
        "3b8689b2aabd4984a01b5d13c112ae77": {
          "model_module": "@jupyter-widgets/controls",
          "model_name": "HBoxModel",
          "state": {
            "_view_name": "HBoxView",
            "_dom_classes": [],
            "_model_name": "HBoxModel",
            "_view_module": "@jupyter-widgets/controls",
            "_model_module_version": "1.5.0",
            "_view_count": null,
            "_view_module_version": "1.5.0",
            "box_style": "",
            "layout": "IPY_MODEL_f2b3fa3c0f444b1383b9d2217d3e0f05",
            "_model_module": "@jupyter-widgets/controls",
            "children": [
              "IPY_MODEL_94b6d1f89c644363a3c55628124fc6bc",
              "IPY_MODEL_53de60c801654f648498cb4de3a5eb48"
            ]
          },
          "model_module_version": "1.5.0"
        },
        "f2b3fa3c0f444b1383b9d2217d3e0f05": {
          "model_module": "@jupyter-widgets/base",
          "model_name": "LayoutModel",
          "state": {
            "_view_name": "LayoutView",
            "grid_template_rows": null,
            "right": null,
            "justify_content": null,
            "_view_module": "@jupyter-widgets/base",
            "overflow": null,
            "_model_module_version": "1.2.0",
            "_view_count": null,
            "flex_flow": null,
            "width": null,
            "min_width": null,
            "border": null,
            "align_items": null,
            "bottom": null,
            "_model_module": "@jupyter-widgets/base",
            "top": null,
            "grid_column": null,
            "overflow_y": null,
            "overflow_x": null,
            "grid_auto_flow": null,
            "grid_area": null,
            "grid_template_columns": null,
            "flex": null,
            "_model_name": "LayoutModel",
            "justify_items": null,
            "grid_row": null,
            "max_height": null,
            "align_content": null,
            "visibility": null,
            "align_self": null,
            "height": null,
            "min_height": null,
            "padding": null,
            "grid_auto_rows": null,
            "grid_gap": null,
            "max_width": null,
            "order": null,
            "_view_module_version": "1.2.0",
            "grid_template_areas": null,
            "object_position": null,
            "object_fit": null,
            "grid_auto_columns": null,
            "margin": null,
            "display": null,
            "left": null
          },
          "model_module_version": "1.2.0"
        },
        "94b6d1f89c644363a3c55628124fc6bc": {
          "model_module": "@jupyter-widgets/controls",
          "model_name": "FloatProgressModel",
          "state": {
            "_view_name": "ProgressView",
            "style": "IPY_MODEL_323cff8ba4444d0aaeda693dde91b73f",
            "_dom_classes": [],
            "description": "100%",
            "_model_name": "FloatProgressModel",
            "bar_style": "success",
            "max": 933,
            "_view_module": "@jupyter-widgets/controls",
            "_model_module_version": "1.5.0",
            "value": 933,
            "_view_count": null,
            "_view_module_version": "1.5.0",
            "orientation": "horizontal",
            "min": 0,
            "description_tooltip": null,
            "_model_module": "@jupyter-widgets/controls",
            "layout": "IPY_MODEL_e0011f14c4eb458b8ba33b75a7a579b7"
          },
          "model_module_version": "1.5.0"
        },
        "53de60c801654f648498cb4de3a5eb48": {
          "model_module": "@jupyter-widgets/controls",
          "model_name": "HTMLModel",
          "state": {
            "_view_name": "HTMLView",
            "style": "IPY_MODEL_a3879c6b52c849b5ae9777cf4da7a880",
            "_dom_classes": [],
            "description": "",
            "_model_name": "HTMLModel",
            "placeholder": "​",
            "_view_module": "@jupyter-widgets/controls",
            "_model_module_version": "1.5.0",
            "value": " 933/933 [00:07&lt;00:00, 131.16ex/s]",
            "_view_count": null,
            "_view_module_version": "1.5.0",
            "description_tooltip": null,
            "_model_module": "@jupyter-widgets/controls",
            "layout": "IPY_MODEL_81152216e0c84499be53adb2d29acccd"
          },
          "model_module_version": "1.5.0"
        },
        "323cff8ba4444d0aaeda693dde91b73f": {
          "model_module": "@jupyter-widgets/controls",
          "model_name": "ProgressStyleModel",
          "state": {
            "_view_name": "StyleView",
            "_model_name": "ProgressStyleModel",
            "description_width": "initial",
            "_view_module": "@jupyter-widgets/base",
            "_model_module_version": "1.5.0",
            "_view_count": null,
            "_view_module_version": "1.2.0",
            "bar_color": null,
            "_model_module": "@jupyter-widgets/controls"
          },
          "model_module_version": "1.5.0"
        },
        "e0011f14c4eb458b8ba33b75a7a579b7": {
          "model_module": "@jupyter-widgets/base",
          "model_name": "LayoutModel",
          "state": {
            "_view_name": "LayoutView",
            "grid_template_rows": null,
            "right": null,
            "justify_content": null,
            "_view_module": "@jupyter-widgets/base",
            "overflow": null,
            "_model_module_version": "1.2.0",
            "_view_count": null,
            "flex_flow": null,
            "width": null,
            "min_width": null,
            "border": null,
            "align_items": null,
            "bottom": null,
            "_model_module": "@jupyter-widgets/base",
            "top": null,
            "grid_column": null,
            "overflow_y": null,
            "overflow_x": null,
            "grid_auto_flow": null,
            "grid_area": null,
            "grid_template_columns": null,
            "flex": null,
            "_model_name": "LayoutModel",
            "justify_items": null,
            "grid_row": null,
            "max_height": null,
            "align_content": null,
            "visibility": null,
            "align_self": null,
            "height": null,
            "min_height": null,
            "padding": null,
            "grid_auto_rows": null,
            "grid_gap": null,
            "max_width": null,
            "order": null,
            "_view_module_version": "1.2.0",
            "grid_template_areas": null,
            "object_position": null,
            "object_fit": null,
            "grid_auto_columns": null,
            "margin": null,
            "display": null,
            "left": null
          },
          "model_module_version": "1.2.0"
        },
        "a3879c6b52c849b5ae9777cf4da7a880": {
          "model_module": "@jupyter-widgets/controls",
          "model_name": "DescriptionStyleModel",
          "state": {
            "_view_name": "StyleView",
            "_model_name": "DescriptionStyleModel",
            "description_width": "",
            "_view_module": "@jupyter-widgets/base",
            "_model_module_version": "1.5.0",
            "_view_count": null,
            "_view_module_version": "1.2.0",
            "_model_module": "@jupyter-widgets/controls"
          },
          "model_module_version": "1.5.0"
        },
        "81152216e0c84499be53adb2d29acccd": {
          "model_module": "@jupyter-widgets/base",
          "model_name": "LayoutModel",
          "state": {
            "_view_name": "LayoutView",
            "grid_template_rows": null,
            "right": null,
            "justify_content": null,
            "_view_module": "@jupyter-widgets/base",
            "overflow": null,
            "_model_module_version": "1.2.0",
            "_view_count": null,
            "flex_flow": null,
            "width": null,
            "min_width": null,
            "border": null,
            "align_items": null,
            "bottom": null,
            "_model_module": "@jupyter-widgets/base",
            "top": null,
            "grid_column": null,
            "overflow_y": null,
            "overflow_x": null,
            "grid_auto_flow": null,
            "grid_area": null,
            "grid_template_columns": null,
            "flex": null,
            "_model_name": "LayoutModel",
            "justify_items": null,
            "grid_row": null,
            "max_height": null,
            "align_content": null,
            "visibility": null,
            "align_self": null,
            "height": null,
            "min_height": null,
            "padding": null,
            "grid_auto_rows": null,
            "grid_gap": null,
            "max_width": null,
            "order": null,
            "_view_module_version": "1.2.0",
            "grid_template_areas": null,
            "object_position": null,
            "object_fit": null,
            "grid_auto_columns": null,
            "margin": null,
            "display": null,
            "left": null
          },
          "model_module_version": "1.2.0"
        },
        "12b030e5779c4177b76f6edd78fbe8e3": {
          "model_module": "@jupyter-widgets/controls",
          "model_name": "HBoxModel",
          "state": {
            "_view_name": "HBoxView",
            "_dom_classes": [],
            "_model_name": "HBoxModel",
            "_view_module": "@jupyter-widgets/controls",
            "_model_module_version": "1.5.0",
            "_view_count": null,
            "_view_module_version": "1.5.0",
            "box_style": "",
            "layout": "IPY_MODEL_a10fb126fb9f4e42a22bd3c2e3301c32",
            "_model_module": "@jupyter-widgets/controls",
            "children": [
              "IPY_MODEL_838d851498a54162bfb98647d6cec0f5",
              "IPY_MODEL_7276482512b24cd5b93db231cf734429"
            ]
          },
          "model_module_version": "1.5.0"
        },
        "a10fb126fb9f4e42a22bd3c2e3301c32": {
          "model_module": "@jupyter-widgets/base",
          "model_name": "LayoutModel",
          "state": {
            "_view_name": "LayoutView",
            "grid_template_rows": null,
            "right": null,
            "justify_content": null,
            "_view_module": "@jupyter-widgets/base",
            "overflow": null,
            "_model_module_version": "1.2.0",
            "_view_count": null,
            "flex_flow": null,
            "width": null,
            "min_width": null,
            "border": null,
            "align_items": null,
            "bottom": null,
            "_model_module": "@jupyter-widgets/base",
            "top": null,
            "grid_column": null,
            "overflow_y": null,
            "overflow_x": null,
            "grid_auto_flow": null,
            "grid_area": null,
            "grid_template_columns": null,
            "flex": null,
            "_model_name": "LayoutModel",
            "justify_items": null,
            "grid_row": null,
            "max_height": null,
            "align_content": null,
            "visibility": null,
            "align_self": null,
            "height": null,
            "min_height": null,
            "padding": null,
            "grid_auto_rows": null,
            "grid_gap": null,
            "max_width": null,
            "order": null,
            "_view_module_version": "1.2.0",
            "grid_template_areas": null,
            "object_position": null,
            "object_fit": null,
            "grid_auto_columns": null,
            "margin": null,
            "display": null,
            "left": null
          },
          "model_module_version": "1.2.0"
        },
        "838d851498a54162bfb98647d6cec0f5": {
          "model_module": "@jupyter-widgets/controls",
          "model_name": "FloatProgressModel",
          "state": {
            "_view_name": "ProgressView",
            "style": "IPY_MODEL_5e1387416684460782ab3decfc18a3e4",
            "_dom_classes": [],
            "description": "100%",
            "_model_name": "FloatProgressModel",
            "bar_style": "success",
            "max": 1,
            "_view_module": "@jupyter-widgets/controls",
            "_model_module_version": "1.5.0",
            "value": 1,
            "_view_count": null,
            "_view_module_version": "1.5.0",
            "orientation": "horizontal",
            "min": 0,
            "description_tooltip": null,
            "_model_module": "@jupyter-widgets/controls",
            "layout": "IPY_MODEL_ca6cfdac053947a091ac5a2214f2007b"
          },
          "model_module_version": "1.5.0"
        },
        "7276482512b24cd5b93db231cf734429": {
          "model_module": "@jupyter-widgets/controls",
          "model_name": "HTMLModel",
          "state": {
            "_view_name": "HTMLView",
            "style": "IPY_MODEL_7828be992b3c4a2da1cb37db968cc122",
            "_dom_classes": [],
            "description": "",
            "_model_name": "HTMLModel",
            "placeholder": "​",
            "_view_module": "@jupyter-widgets/controls",
            "_model_module_version": "1.5.0",
            "value": " 1/1 [00:05&lt;00:00,  5.02s/ba]",
            "_view_count": null,
            "_view_module_version": "1.5.0",
            "description_tooltip": null,
            "_model_module": "@jupyter-widgets/controls",
            "layout": "IPY_MODEL_38d4163986c44fe4b34510ff43ecbd0e"
          },
          "model_module_version": "1.5.0"
        },
        "5e1387416684460782ab3decfc18a3e4": {
          "model_module": "@jupyter-widgets/controls",
          "model_name": "ProgressStyleModel",
          "state": {
            "_view_name": "StyleView",
            "_model_name": "ProgressStyleModel",
            "description_width": "initial",
            "_view_module": "@jupyter-widgets/base",
            "_model_module_version": "1.5.0",
            "_view_count": null,
            "_view_module_version": "1.2.0",
            "bar_color": null,
            "_model_module": "@jupyter-widgets/controls"
          },
          "model_module_version": "1.5.0"
        },
        "ca6cfdac053947a091ac5a2214f2007b": {
          "model_module": "@jupyter-widgets/base",
          "model_name": "LayoutModel",
          "state": {
            "_view_name": "LayoutView",
            "grid_template_rows": null,
            "right": null,
            "justify_content": null,
            "_view_module": "@jupyter-widgets/base",
            "overflow": null,
            "_model_module_version": "1.2.0",
            "_view_count": null,
            "flex_flow": null,
            "width": null,
            "min_width": null,
            "border": null,
            "align_items": null,
            "bottom": null,
            "_model_module": "@jupyter-widgets/base",
            "top": null,
            "grid_column": null,
            "overflow_y": null,
            "overflow_x": null,
            "grid_auto_flow": null,
            "grid_area": null,
            "grid_template_columns": null,
            "flex": null,
            "_model_name": "LayoutModel",
            "justify_items": null,
            "grid_row": null,
            "max_height": null,
            "align_content": null,
            "visibility": null,
            "align_self": null,
            "height": null,
            "min_height": null,
            "padding": null,
            "grid_auto_rows": null,
            "grid_gap": null,
            "max_width": null,
            "order": null,
            "_view_module_version": "1.2.0",
            "grid_template_areas": null,
            "object_position": null,
            "object_fit": null,
            "grid_auto_columns": null,
            "margin": null,
            "display": null,
            "left": null
          },
          "model_module_version": "1.2.0"
        },
        "7828be992b3c4a2da1cb37db968cc122": {
          "model_module": "@jupyter-widgets/controls",
          "model_name": "DescriptionStyleModel",
          "state": {
            "_view_name": "StyleView",
            "_model_name": "DescriptionStyleModel",
            "description_width": "",
            "_view_module": "@jupyter-widgets/base",
            "_model_module_version": "1.5.0",
            "_view_count": null,
            "_view_module_version": "1.2.0",
            "_model_module": "@jupyter-widgets/controls"
          },
          "model_module_version": "1.5.0"
        },
        "38d4163986c44fe4b34510ff43ecbd0e": {
          "model_module": "@jupyter-widgets/base",
          "model_name": "LayoutModel",
          "state": {
            "_view_name": "LayoutView",
            "grid_template_rows": null,
            "right": null,
            "justify_content": null,
            "_view_module": "@jupyter-widgets/base",
            "overflow": null,
            "_model_module_version": "1.2.0",
            "_view_count": null,
            "flex_flow": null,
            "width": null,
            "min_width": null,
            "border": null,
            "align_items": null,
            "bottom": null,
            "_model_module": "@jupyter-widgets/base",
            "top": null,
            "grid_column": null,
            "overflow_y": null,
            "overflow_x": null,
            "grid_auto_flow": null,
            "grid_area": null,
            "grid_template_columns": null,
            "flex": null,
            "_model_name": "LayoutModel",
            "justify_items": null,
            "grid_row": null,
            "max_height": null,
            "align_content": null,
            "visibility": null,
            "align_self": null,
            "height": null,
            "min_height": null,
            "padding": null,
            "grid_auto_rows": null,
            "grid_gap": null,
            "max_width": null,
            "order": null,
            "_view_module_version": "1.2.0",
            "grid_template_areas": null,
            "object_position": null,
            "object_fit": null,
            "grid_auto_columns": null,
            "margin": null,
            "display": null,
            "left": null
          },
          "model_module_version": "1.2.0"
        },
        "5baf3819739347ab81d94fb03858973c": {
          "model_module": "@jupyter-widgets/controls",
          "model_name": "HBoxModel",
          "state": {
            "_view_name": "HBoxView",
            "_dom_classes": [],
            "_model_name": "HBoxModel",
            "_view_module": "@jupyter-widgets/controls",
            "_model_module_version": "1.5.0",
            "_view_count": null,
            "_view_module_version": "1.5.0",
            "box_style": "",
            "layout": "IPY_MODEL_f100b73379b14ba58e0e4bbea67a2877",
            "_model_module": "@jupyter-widgets/controls",
            "children": [
              "IPY_MODEL_ce549c99222646c99ec0ea7b0a2cc527",
              "IPY_MODEL_785185abd95b4f1db6a9415c1d2ca31b"
            ]
          },
          "model_module_version": "1.5.0"
        },
        "f100b73379b14ba58e0e4bbea67a2877": {
          "model_module": "@jupyter-widgets/base",
          "model_name": "LayoutModel",
          "state": {
            "_view_name": "LayoutView",
            "grid_template_rows": null,
            "right": null,
            "justify_content": null,
            "_view_module": "@jupyter-widgets/base",
            "overflow": null,
            "_model_module_version": "1.2.0",
            "_view_count": null,
            "flex_flow": null,
            "width": null,
            "min_width": null,
            "border": null,
            "align_items": null,
            "bottom": null,
            "_model_module": "@jupyter-widgets/base",
            "top": null,
            "grid_column": null,
            "overflow_y": null,
            "overflow_x": null,
            "grid_auto_flow": null,
            "grid_area": null,
            "grid_template_columns": null,
            "flex": null,
            "_model_name": "LayoutModel",
            "justify_items": null,
            "grid_row": null,
            "max_height": null,
            "align_content": null,
            "visibility": null,
            "align_self": null,
            "height": null,
            "min_height": null,
            "padding": null,
            "grid_auto_rows": null,
            "grid_gap": null,
            "max_width": null,
            "order": null,
            "_view_module_version": "1.2.0",
            "grid_template_areas": null,
            "object_position": null,
            "object_fit": null,
            "grid_auto_columns": null,
            "margin": null,
            "display": null,
            "left": null
          },
          "model_module_version": "1.2.0"
        },
        "ce549c99222646c99ec0ea7b0a2cc527": {
          "model_module": "@jupyter-widgets/controls",
          "model_name": "FloatProgressModel",
          "state": {
            "_view_name": "ProgressView",
            "style": "IPY_MODEL_f7fa9cb773e64d0ca8d786af6ba30a8e",
            "_dom_classes": [],
            "description": "100%",
            "_model_name": "FloatProgressModel",
            "bar_style": "success",
            "max": 1,
            "_view_module": "@jupyter-widgets/controls",
            "_model_module_version": "1.5.0",
            "value": 1,
            "_view_count": null,
            "_view_module_version": "1.5.0",
            "orientation": "horizontal",
            "min": 0,
            "description_tooltip": null,
            "_model_module": "@jupyter-widgets/controls",
            "layout": "IPY_MODEL_d3edcc2a61854c98bf0e5b8e649bfe26"
          },
          "model_module_version": "1.5.0"
        },
        "785185abd95b4f1db6a9415c1d2ca31b": {
          "model_module": "@jupyter-widgets/controls",
          "model_name": "HTMLModel",
          "state": {
            "_view_name": "HTMLView",
            "style": "IPY_MODEL_89728a9989d4442081a87dd904ac2ad1",
            "_dom_classes": [],
            "description": "",
            "_model_name": "HTMLModel",
            "placeholder": "​",
            "_view_module": "@jupyter-widgets/controls",
            "_model_module_version": "1.5.0",
            "value": " 1/1 [00:04&lt;00:00,  4.78s/ba]",
            "_view_count": null,
            "_view_module_version": "1.5.0",
            "description_tooltip": null,
            "_model_module": "@jupyter-widgets/controls",
            "layout": "IPY_MODEL_7212d27ac5cc4a45a0728013271c01ca"
          },
          "model_module_version": "1.5.0"
        },
        "f7fa9cb773e64d0ca8d786af6ba30a8e": {
          "model_module": "@jupyter-widgets/controls",
          "model_name": "ProgressStyleModel",
          "state": {
            "_view_name": "StyleView",
            "_model_name": "ProgressStyleModel",
            "description_width": "initial",
            "_view_module": "@jupyter-widgets/base",
            "_model_module_version": "1.5.0",
            "_view_count": null,
            "_view_module_version": "1.2.0",
            "bar_color": null,
            "_model_module": "@jupyter-widgets/controls"
          },
          "model_module_version": "1.5.0"
        },
        "d3edcc2a61854c98bf0e5b8e649bfe26": {
          "model_module": "@jupyter-widgets/base",
          "model_name": "LayoutModel",
          "state": {
            "_view_name": "LayoutView",
            "grid_template_rows": null,
            "right": null,
            "justify_content": null,
            "_view_module": "@jupyter-widgets/base",
            "overflow": null,
            "_model_module_version": "1.2.0",
            "_view_count": null,
            "flex_flow": null,
            "width": null,
            "min_width": null,
            "border": null,
            "align_items": null,
            "bottom": null,
            "_model_module": "@jupyter-widgets/base",
            "top": null,
            "grid_column": null,
            "overflow_y": null,
            "overflow_x": null,
            "grid_auto_flow": null,
            "grid_area": null,
            "grid_template_columns": null,
            "flex": null,
            "_model_name": "LayoutModel",
            "justify_items": null,
            "grid_row": null,
            "max_height": null,
            "align_content": null,
            "visibility": null,
            "align_self": null,
            "height": null,
            "min_height": null,
            "padding": null,
            "grid_auto_rows": null,
            "grid_gap": null,
            "max_width": null,
            "order": null,
            "_view_module_version": "1.2.0",
            "grid_template_areas": null,
            "object_position": null,
            "object_fit": null,
            "grid_auto_columns": null,
            "margin": null,
            "display": null,
            "left": null
          },
          "model_module_version": "1.2.0"
        },
        "89728a9989d4442081a87dd904ac2ad1": {
          "model_module": "@jupyter-widgets/controls",
          "model_name": "DescriptionStyleModel",
          "state": {
            "_view_name": "StyleView",
            "_model_name": "DescriptionStyleModel",
            "description_width": "",
            "_view_module": "@jupyter-widgets/base",
            "_model_module_version": "1.5.0",
            "_view_count": null,
            "_view_module_version": "1.2.0",
            "_model_module": "@jupyter-widgets/controls"
          },
          "model_module_version": "1.5.0"
        },
        "7212d27ac5cc4a45a0728013271c01ca": {
          "model_module": "@jupyter-widgets/base",
          "model_name": "LayoutModel",
          "state": {
            "_view_name": "LayoutView",
            "grid_template_rows": null,
            "right": null,
            "justify_content": null,
            "_view_module": "@jupyter-widgets/base",
            "overflow": null,
            "_model_module_version": "1.2.0",
            "_view_count": null,
            "flex_flow": null,
            "width": null,
            "min_width": null,
            "border": null,
            "align_items": null,
            "bottom": null,
            "_model_module": "@jupyter-widgets/base",
            "top": null,
            "grid_column": null,
            "overflow_y": null,
            "overflow_x": null,
            "grid_auto_flow": null,
            "grid_area": null,
            "grid_template_columns": null,
            "flex": null,
            "_model_name": "LayoutModel",
            "justify_items": null,
            "grid_row": null,
            "max_height": null,
            "align_content": null,
            "visibility": null,
            "align_self": null,
            "height": null,
            "min_height": null,
            "padding": null,
            "grid_auto_rows": null,
            "grid_gap": null,
            "max_width": null,
            "order": null,
            "_view_module_version": "1.2.0",
            "grid_template_areas": null,
            "object_position": null,
            "object_fit": null,
            "grid_auto_columns": null,
            "margin": null,
            "display": null,
            "left": null
          },
          "model_module_version": "1.2.0"
        },
        "1e4236b00e4d4f5a8c06921a6fc507b6": {
          "model_module": "@jupyter-widgets/controls",
          "model_name": "HBoxModel",
          "state": {
            "_view_name": "HBoxView",
            "_dom_classes": [],
            "_model_name": "HBoxModel",
            "_view_module": "@jupyter-widgets/controls",
            "_model_module_version": "1.5.0",
            "_view_count": null,
            "_view_module_version": "1.5.0",
            "box_style": "",
            "layout": "IPY_MODEL_932c064742de48ce9d80c5cdbe8bbcbc",
            "_model_module": "@jupyter-widgets/controls",
            "children": [
              "IPY_MODEL_087c71b4c08f42a0b1888062f136511f",
              "IPY_MODEL_e7a0d8a756414a56b9af7e1e16af16a4"
            ]
          },
          "model_module_version": "1.5.0"
        },
        "932c064742de48ce9d80c5cdbe8bbcbc": {
          "model_module": "@jupyter-widgets/base",
          "model_name": "LayoutModel",
          "state": {
            "_view_name": "LayoutView",
            "grid_template_rows": null,
            "right": null,
            "justify_content": null,
            "_view_module": "@jupyter-widgets/base",
            "overflow": null,
            "_model_module_version": "1.2.0",
            "_view_count": null,
            "flex_flow": null,
            "width": null,
            "min_width": null,
            "border": null,
            "align_items": null,
            "bottom": null,
            "_model_module": "@jupyter-widgets/base",
            "top": null,
            "grid_column": null,
            "overflow_y": null,
            "overflow_x": null,
            "grid_auto_flow": null,
            "grid_area": null,
            "grid_template_columns": null,
            "flex": null,
            "_model_name": "LayoutModel",
            "justify_items": null,
            "grid_row": null,
            "max_height": null,
            "align_content": null,
            "visibility": null,
            "align_self": null,
            "height": null,
            "min_height": null,
            "padding": null,
            "grid_auto_rows": null,
            "grid_gap": null,
            "max_width": null,
            "order": null,
            "_view_module_version": "1.2.0",
            "grid_template_areas": null,
            "object_position": null,
            "object_fit": null,
            "grid_auto_columns": null,
            "margin": null,
            "display": null,
            "left": null
          },
          "model_module_version": "1.2.0"
        },
        "087c71b4c08f42a0b1888062f136511f": {
          "model_module": "@jupyter-widgets/controls",
          "model_name": "FloatProgressModel",
          "state": {
            "_view_name": "ProgressView",
            "style": "IPY_MODEL_09f54db75c9f4462bde2914de9db1d7b",
            "_dom_classes": [],
            "description": "100%",
            "_model_name": "FloatProgressModel",
            "bar_style": "success",
            "max": 127,
            "_view_module": "@jupyter-widgets/controls",
            "_model_module_version": "1.5.0",
            "value": 127,
            "_view_count": null,
            "_view_module_version": "1.5.0",
            "orientation": "horizontal",
            "min": 0,
            "description_tooltip": null,
            "_model_module": "@jupyter-widgets/controls",
            "layout": "IPY_MODEL_6212fc4d6bb84f60b66ffea9f5267b92"
          },
          "model_module_version": "1.5.0"
        },
        "e7a0d8a756414a56b9af7e1e16af16a4": {
          "model_module": "@jupyter-widgets/controls",
          "model_name": "HTMLModel",
          "state": {
            "_view_name": "HTMLView",
            "style": "IPY_MODEL_dc17763022b24d3e80d576a201e8eeab",
            "_dom_classes": [],
            "description": "",
            "_model_name": "HTMLModel",
            "placeholder": "​",
            "_view_module": "@jupyter-widgets/controls",
            "_model_module_version": "1.5.0",
            "value": " 127/127 [07:05&lt;00:00,  3.35s/ex]",
            "_view_count": null,
            "_view_module_version": "1.5.0",
            "description_tooltip": null,
            "_model_module": "@jupyter-widgets/controls",
            "layout": "IPY_MODEL_0b11dc939085467294c319e92ab7e11f"
          },
          "model_module_version": "1.5.0"
        },
        "09f54db75c9f4462bde2914de9db1d7b": {
          "model_module": "@jupyter-widgets/controls",
          "model_name": "ProgressStyleModel",
          "state": {
            "_view_name": "StyleView",
            "_model_name": "ProgressStyleModel",
            "description_width": "initial",
            "_view_module": "@jupyter-widgets/base",
            "_model_module_version": "1.5.0",
            "_view_count": null,
            "_view_module_version": "1.2.0",
            "bar_color": null,
            "_model_module": "@jupyter-widgets/controls"
          },
          "model_module_version": "1.5.0"
        },
        "6212fc4d6bb84f60b66ffea9f5267b92": {
          "model_module": "@jupyter-widgets/base",
          "model_name": "LayoutModel",
          "state": {
            "_view_name": "LayoutView",
            "grid_template_rows": null,
            "right": null,
            "justify_content": null,
            "_view_module": "@jupyter-widgets/base",
            "overflow": null,
            "_model_module_version": "1.2.0",
            "_view_count": null,
            "flex_flow": null,
            "width": null,
            "min_width": null,
            "border": null,
            "align_items": null,
            "bottom": null,
            "_model_module": "@jupyter-widgets/base",
            "top": null,
            "grid_column": null,
            "overflow_y": null,
            "overflow_x": null,
            "grid_auto_flow": null,
            "grid_area": null,
            "grid_template_columns": null,
            "flex": null,
            "_model_name": "LayoutModel",
            "justify_items": null,
            "grid_row": null,
            "max_height": null,
            "align_content": null,
            "visibility": null,
            "align_self": null,
            "height": null,
            "min_height": null,
            "padding": null,
            "grid_auto_rows": null,
            "grid_gap": null,
            "max_width": null,
            "order": null,
            "_view_module_version": "1.2.0",
            "grid_template_areas": null,
            "object_position": null,
            "object_fit": null,
            "grid_auto_columns": null,
            "margin": null,
            "display": null,
            "left": null
          },
          "model_module_version": "1.2.0"
        },
        "dc17763022b24d3e80d576a201e8eeab": {
          "model_module": "@jupyter-widgets/controls",
          "model_name": "DescriptionStyleModel",
          "state": {
            "_view_name": "StyleView",
            "_model_name": "DescriptionStyleModel",
            "description_width": "",
            "_view_module": "@jupyter-widgets/base",
            "_model_module_version": "1.5.0",
            "_view_count": null,
            "_view_module_version": "1.2.0",
            "_model_module": "@jupyter-widgets/controls"
          },
          "model_module_version": "1.5.0"
        },
        "0b11dc939085467294c319e92ab7e11f": {
          "model_module": "@jupyter-widgets/base",
          "model_name": "LayoutModel",
          "state": {
            "_view_name": "LayoutView",
            "grid_template_rows": null,
            "right": null,
            "justify_content": null,
            "_view_module": "@jupyter-widgets/base",
            "overflow": null,
            "_model_module_version": "1.2.0",
            "_view_count": null,
            "flex_flow": null,
            "width": null,
            "min_width": null,
            "border": null,
            "align_items": null,
            "bottom": null,
            "_model_module": "@jupyter-widgets/base",
            "top": null,
            "grid_column": null,
            "overflow_y": null,
            "overflow_x": null,
            "grid_auto_flow": null,
            "grid_area": null,
            "grid_template_columns": null,
            "flex": null,
            "_model_name": "LayoutModel",
            "justify_items": null,
            "grid_row": null,
            "max_height": null,
            "align_content": null,
            "visibility": null,
            "align_self": null,
            "height": null,
            "min_height": null,
            "padding": null,
            "grid_auto_rows": null,
            "grid_gap": null,
            "max_width": null,
            "order": null,
            "_view_module_version": "1.2.0",
            "grid_template_areas": null,
            "object_position": null,
            "object_fit": null,
            "grid_auto_columns": null,
            "margin": null,
            "display": null,
            "left": null
          },
          "model_module_version": "1.2.0"
        },
        "791b636a47d84d9aaa7eaa6848b68c25": {
          "model_module": "@jupyter-widgets/controls",
          "model_name": "HBoxModel",
          "state": {
            "_view_name": "HBoxView",
            "_dom_classes": [],
            "_model_name": "HBoxModel",
            "_view_module": "@jupyter-widgets/controls",
            "_model_module_version": "1.5.0",
            "_view_count": null,
            "_view_module_version": "1.5.0",
            "box_style": "",
            "layout": "IPY_MODEL_ae5b0929996e46a68758c0ccba301dcc",
            "_model_module": "@jupyter-widgets/controls",
            "children": [
              "IPY_MODEL_193c431ae093425fa35ee270e96cfd64",
              "IPY_MODEL_737c104c20d6414d96eb798e981d3d88"
            ]
          },
          "model_module_version": "1.5.0"
        },
        "ae5b0929996e46a68758c0ccba301dcc": {
          "model_module": "@jupyter-widgets/base",
          "model_name": "LayoutModel",
          "state": {
            "_view_name": "LayoutView",
            "grid_template_rows": null,
            "right": null,
            "justify_content": null,
            "_view_module": "@jupyter-widgets/base",
            "overflow": null,
            "_model_module_version": "1.2.0",
            "_view_count": null,
            "flex_flow": null,
            "width": null,
            "min_width": null,
            "border": null,
            "align_items": null,
            "bottom": null,
            "_model_module": "@jupyter-widgets/base",
            "top": null,
            "grid_column": null,
            "overflow_y": null,
            "overflow_x": null,
            "grid_auto_flow": null,
            "grid_area": null,
            "grid_template_columns": null,
            "flex": null,
            "_model_name": "LayoutModel",
            "justify_items": null,
            "grid_row": null,
            "max_height": null,
            "align_content": null,
            "visibility": null,
            "align_self": null,
            "height": null,
            "min_height": null,
            "padding": null,
            "grid_auto_rows": null,
            "grid_gap": null,
            "max_width": null,
            "order": null,
            "_view_module_version": "1.2.0",
            "grid_template_areas": null,
            "object_position": null,
            "object_fit": null,
            "grid_auto_columns": null,
            "margin": null,
            "display": null,
            "left": null
          },
          "model_module_version": "1.2.0"
        },
        "193c431ae093425fa35ee270e96cfd64": {
          "model_module": "@jupyter-widgets/controls",
          "model_name": "FloatProgressModel",
          "state": {
            "_view_name": "ProgressView",
            "style": "IPY_MODEL_87aec55f84d342be892b866675d45d8e",
            "_dom_classes": [],
            "description": "100%",
            "_model_name": "FloatProgressModel",
            "bar_style": "success",
            "max": 22,
            "_view_module": "@jupyter-widgets/controls",
            "_model_module_version": "1.5.0",
            "value": 22,
            "_view_count": null,
            "_view_module_version": "1.5.0",
            "orientation": "horizontal",
            "min": 0,
            "description_tooltip": null,
            "_model_module": "@jupyter-widgets/controls",
            "layout": "IPY_MODEL_e1c625c2290d4b83a01fdefd9373077d"
          },
          "model_module_version": "1.5.0"
        },
        "737c104c20d6414d96eb798e981d3d88": {
          "model_module": "@jupyter-widgets/controls",
          "model_name": "HTMLModel",
          "state": {
            "_view_name": "HTMLView",
            "style": "IPY_MODEL_008d5ebe18ea44dd8ed81f8f2b4be360",
            "_dom_classes": [],
            "description": "",
            "_model_name": "HTMLModel",
            "placeholder": "​",
            "_view_module": "@jupyter-widgets/controls",
            "_model_module_version": "1.5.0",
            "value": " 22/22 [03:08&lt;00:00,  8.57s/ex]",
            "_view_count": null,
            "_view_module_version": "1.5.0",
            "description_tooltip": null,
            "_model_module": "@jupyter-widgets/controls",
            "layout": "IPY_MODEL_a7d00422e4c04004854734025c1be83b"
          },
          "model_module_version": "1.5.0"
        },
        "87aec55f84d342be892b866675d45d8e": {
          "model_module": "@jupyter-widgets/controls",
          "model_name": "ProgressStyleModel",
          "state": {
            "_view_name": "StyleView",
            "_model_name": "ProgressStyleModel",
            "description_width": "initial",
            "_view_module": "@jupyter-widgets/base",
            "_model_module_version": "1.5.0",
            "_view_count": null,
            "_view_module_version": "1.2.0",
            "bar_color": null,
            "_model_module": "@jupyter-widgets/controls"
          },
          "model_module_version": "1.5.0"
        },
        "e1c625c2290d4b83a01fdefd9373077d": {
          "model_module": "@jupyter-widgets/base",
          "model_name": "LayoutModel",
          "state": {
            "_view_name": "LayoutView",
            "grid_template_rows": null,
            "right": null,
            "justify_content": null,
            "_view_module": "@jupyter-widgets/base",
            "overflow": null,
            "_model_module_version": "1.2.0",
            "_view_count": null,
            "flex_flow": null,
            "width": null,
            "min_width": null,
            "border": null,
            "align_items": null,
            "bottom": null,
            "_model_module": "@jupyter-widgets/base",
            "top": null,
            "grid_column": null,
            "overflow_y": null,
            "overflow_x": null,
            "grid_auto_flow": null,
            "grid_area": null,
            "grid_template_columns": null,
            "flex": null,
            "_model_name": "LayoutModel",
            "justify_items": null,
            "grid_row": null,
            "max_height": null,
            "align_content": null,
            "visibility": null,
            "align_self": null,
            "height": null,
            "min_height": null,
            "padding": null,
            "grid_auto_rows": null,
            "grid_gap": null,
            "max_width": null,
            "order": null,
            "_view_module_version": "1.2.0",
            "grid_template_areas": null,
            "object_position": null,
            "object_fit": null,
            "grid_auto_columns": null,
            "margin": null,
            "display": null,
            "left": null
          },
          "model_module_version": "1.2.0"
        },
        "008d5ebe18ea44dd8ed81f8f2b4be360": {
          "model_module": "@jupyter-widgets/controls",
          "model_name": "DescriptionStyleModel",
          "state": {
            "_view_name": "StyleView",
            "_model_name": "DescriptionStyleModel",
            "description_width": "",
            "_view_module": "@jupyter-widgets/base",
            "_model_module_version": "1.5.0",
            "_view_count": null,
            "_view_module_version": "1.2.0",
            "_model_module": "@jupyter-widgets/controls"
          },
          "model_module_version": "1.5.0"
        },
        "a7d00422e4c04004854734025c1be83b": {
          "model_module": "@jupyter-widgets/base",
          "model_name": "LayoutModel",
          "state": {
            "_view_name": "LayoutView",
            "grid_template_rows": null,
            "right": null,
            "justify_content": null,
            "_view_module": "@jupyter-widgets/base",
            "overflow": null,
            "_model_module_version": "1.2.0",
            "_view_count": null,
            "flex_flow": null,
            "width": null,
            "min_width": null,
            "border": null,
            "align_items": null,
            "bottom": null,
            "_model_module": "@jupyter-widgets/base",
            "top": null,
            "grid_column": null,
            "overflow_y": null,
            "overflow_x": null,
            "grid_auto_flow": null,
            "grid_area": null,
            "grid_template_columns": null,
            "flex": null,
            "_model_name": "LayoutModel",
            "justify_items": null,
            "grid_row": null,
            "max_height": null,
            "align_content": null,
            "visibility": null,
            "align_self": null,
            "height": null,
            "min_height": null,
            "padding": null,
            "grid_auto_rows": null,
            "grid_gap": null,
            "max_width": null,
            "order": null,
            "_view_module_version": "1.2.0",
            "grid_template_areas": null,
            "object_position": null,
            "object_fit": null,
            "grid_auto_columns": null,
            "margin": null,
            "display": null,
            "left": null
          },
          "model_module_version": "1.2.0"
        },
        "694b59d5cde644128f6d9a2489ed0ffc": {
          "model_module": "@jupyter-widgets/controls",
          "model_name": "HBoxModel",
          "state": {
            "_view_name": "HBoxView",
            "_dom_classes": [],
            "_model_name": "HBoxModel",
            "_view_module": "@jupyter-widgets/controls",
            "_model_module_version": "1.5.0",
            "_view_count": null,
            "_view_module_version": "1.5.0",
            "box_style": "",
            "layout": "IPY_MODEL_8f62b76965e64ce0888a966267e3df3f",
            "_model_module": "@jupyter-widgets/controls",
            "children": [
              "IPY_MODEL_b1d16a21425c4d8db49898710bed2eed",
              "IPY_MODEL_05adeb9f14844068a617363826472d96"
            ]
          },
          "model_module_version": "1.5.0"
        },
        "8f62b76965e64ce0888a966267e3df3f": {
          "model_module": "@jupyter-widgets/base",
          "model_name": "LayoutModel",
          "state": {
            "_view_name": "LayoutView",
            "grid_template_rows": null,
            "right": null,
            "justify_content": null,
            "_view_module": "@jupyter-widgets/base",
            "overflow": null,
            "_model_module_version": "1.2.0",
            "_view_count": null,
            "flex_flow": null,
            "width": null,
            "min_width": null,
            "border": null,
            "align_items": null,
            "bottom": null,
            "_model_module": "@jupyter-widgets/base",
            "top": null,
            "grid_column": null,
            "overflow_y": null,
            "overflow_x": null,
            "grid_auto_flow": null,
            "grid_area": null,
            "grid_template_columns": null,
            "flex": null,
            "_model_name": "LayoutModel",
            "justify_items": null,
            "grid_row": null,
            "max_height": null,
            "align_content": null,
            "visibility": null,
            "align_self": null,
            "height": null,
            "min_height": null,
            "padding": null,
            "grid_auto_rows": null,
            "grid_gap": null,
            "max_width": null,
            "order": null,
            "_view_module_version": "1.2.0",
            "grid_template_areas": null,
            "object_position": null,
            "object_fit": null,
            "grid_auto_columns": null,
            "margin": null,
            "display": null,
            "left": null
          },
          "model_module_version": "1.2.0"
        },
        "b1d16a21425c4d8db49898710bed2eed": {
          "model_module": "@jupyter-widgets/controls",
          "model_name": "FloatProgressModel",
          "state": {
            "_view_name": "ProgressView",
            "style": "IPY_MODEL_ee5170c6e7ff4e0c96d3fa42c7627c74",
            "_dom_classes": [],
            "description": "100%",
            "_model_name": "FloatProgressModel",
            "bar_style": "success",
            "max": 531,
            "_view_module": "@jupyter-widgets/controls",
            "_model_module_version": "1.5.0",
            "value": 531,
            "_view_count": null,
            "_view_module_version": "1.5.0",
            "orientation": "horizontal",
            "min": 0,
            "description_tooltip": null,
            "_model_module": "@jupyter-widgets/controls",
            "layout": "IPY_MODEL_44bb6f222d964818bb3d96a8c4166ae6"
          },
          "model_module_version": "1.5.0"
        },
        "05adeb9f14844068a617363826472d96": {
          "model_module": "@jupyter-widgets/controls",
          "model_name": "HTMLModel",
          "state": {
            "_view_name": "HTMLView",
            "style": "IPY_MODEL_c6f459e12a6f4f3c8a55b85f0433b08f",
            "_dom_classes": [],
            "description": "",
            "_model_name": "HTMLModel",
            "placeholder": "​",
            "_view_module": "@jupyter-widgets/controls",
            "_model_module_version": "1.5.0",
            "value": " 531/531 [06:09&lt;00:00,  1.44ex/s]",
            "_view_count": null,
            "_view_module_version": "1.5.0",
            "description_tooltip": null,
            "_model_module": "@jupyter-widgets/controls",
            "layout": "IPY_MODEL_d46f363afcb5482f8d29e80773bdea99"
          },
          "model_module_version": "1.5.0"
        },
        "ee5170c6e7ff4e0c96d3fa42c7627c74": {
          "model_module": "@jupyter-widgets/controls",
          "model_name": "ProgressStyleModel",
          "state": {
            "_view_name": "StyleView",
            "_model_name": "ProgressStyleModel",
            "description_width": "initial",
            "_view_module": "@jupyter-widgets/base",
            "_model_module_version": "1.5.0",
            "_view_count": null,
            "_view_module_version": "1.2.0",
            "bar_color": null,
            "_model_module": "@jupyter-widgets/controls"
          },
          "model_module_version": "1.5.0"
        },
        "44bb6f222d964818bb3d96a8c4166ae6": {
          "model_module": "@jupyter-widgets/base",
          "model_name": "LayoutModel",
          "state": {
            "_view_name": "LayoutView",
            "grid_template_rows": null,
            "right": null,
            "justify_content": null,
            "_view_module": "@jupyter-widgets/base",
            "overflow": null,
            "_model_module_version": "1.2.0",
            "_view_count": null,
            "flex_flow": null,
            "width": null,
            "min_width": null,
            "border": null,
            "align_items": null,
            "bottom": null,
            "_model_module": "@jupyter-widgets/base",
            "top": null,
            "grid_column": null,
            "overflow_y": null,
            "overflow_x": null,
            "grid_auto_flow": null,
            "grid_area": null,
            "grid_template_columns": null,
            "flex": null,
            "_model_name": "LayoutModel",
            "justify_items": null,
            "grid_row": null,
            "max_height": null,
            "align_content": null,
            "visibility": null,
            "align_self": null,
            "height": null,
            "min_height": null,
            "padding": null,
            "grid_auto_rows": null,
            "grid_gap": null,
            "max_width": null,
            "order": null,
            "_view_module_version": "1.2.0",
            "grid_template_areas": null,
            "object_position": null,
            "object_fit": null,
            "grid_auto_columns": null,
            "margin": null,
            "display": null,
            "left": null
          },
          "model_module_version": "1.2.0"
        },
        "c6f459e12a6f4f3c8a55b85f0433b08f": {
          "model_module": "@jupyter-widgets/controls",
          "model_name": "DescriptionStyleModel",
          "state": {
            "_view_name": "StyleView",
            "_model_name": "DescriptionStyleModel",
            "description_width": "",
            "_view_module": "@jupyter-widgets/base",
            "_model_module_version": "1.5.0",
            "_view_count": null,
            "_view_module_version": "1.2.0",
            "_model_module": "@jupyter-widgets/controls"
          },
          "model_module_version": "1.5.0"
        },
        "d46f363afcb5482f8d29e80773bdea99": {
          "model_module": "@jupyter-widgets/base",
          "model_name": "LayoutModel",
          "state": {
            "_view_name": "LayoutView",
            "grid_template_rows": null,
            "right": null,
            "justify_content": null,
            "_view_module": "@jupyter-widgets/base",
            "overflow": null,
            "_model_module_version": "1.2.0",
            "_view_count": null,
            "flex_flow": null,
            "width": null,
            "min_width": null,
            "border": null,
            "align_items": null,
            "bottom": null,
            "_model_module": "@jupyter-widgets/base",
            "top": null,
            "grid_column": null,
            "overflow_y": null,
            "overflow_x": null,
            "grid_auto_flow": null,
            "grid_area": null,
            "grid_template_columns": null,
            "flex": null,
            "_model_name": "LayoutModel",
            "justify_items": null,
            "grid_row": null,
            "max_height": null,
            "align_content": null,
            "visibility": null,
            "align_self": null,
            "height": null,
            "min_height": null,
            "padding": null,
            "grid_auto_rows": null,
            "grid_gap": null,
            "max_width": null,
            "order": null,
            "_view_module_version": "1.2.0",
            "grid_template_areas": null,
            "object_position": null,
            "object_fit": null,
            "grid_auto_columns": null,
            "margin": null,
            "display": null,
            "left": null
          },
          "model_module_version": "1.2.0"
        }
      }
    },
    "accelerator": "GPU"
  },
  "cells": [
    {
      "cell_type": "markdown",
      "metadata": {
        "id": "view-in-github",
        "colab_type": "text"
      },
      "source": [
        "<a href=\"https://colab.research.google.com/github/Lamiv/ds_training/blob/main/Evaluating_Big_Bird_on_TriviaQA.ipynb\" target=\"_parent\"><img src=\"https://colab.research.google.com/assets/colab-badge.svg\" alt=\"Open In Colab\"/></a>"
      ]
    },
    {
      "cell_type": "markdown",
      "metadata": {
        "id": "lbNZdYkugq7-"
      },
      "source": [
        "# Evaluation of a model using 🤗nlp\n",
        "\n",
        "*This notebook shows how to evaluate **BigBird** on **TriviaQA** .*\n",
        "\n",
        "- The [`datasets`](https://github.com/huggingface/datasets) library allows simple and intuitive access to nlp datasets and metrics.\n",
        "\n",
        "- **Big Bird** is a transformer-based model for long-range sequence modeling introduced by *Manzil Zaheer, et. al* (see paper [here](https://arxiv.org/abs/2007.14062)) and can now be accessed via Transformers via the [TODO: docs]().\n",
        "\n",
        "- **TriviaQA** is a reading comprehension dataset containing question-answer-evidence triplets (see paper here [here](https://homes.cs.washington.edu/~eunsol/papers/acl17jcwz.pdf))."
      ]
    },
    {
      "cell_type": "markdown",
      "metadata": {
        "id": "ckDfoClXj-mm"
      },
      "source": [
        "We will evaluate a pretrained `BigBirdForQuestionAnswering` model on the *validation* dataset of **TriviaQA**. Along the way, this notebook will show you how `datasets` can be used for effortless preprocessing of data and analysis of the results."
      ]
    },
    {
      "cell_type": "markdown",
      "metadata": {
        "id": "PGg2btE2mY0v"
      },
      "source": [
        "Alright! Let's start by installing the `datasets` library and loading *TriviaQA*."
      ]
    },
    {
      "cell_type": "markdown",
      "metadata": {
        "id": "KLb6vCflSqcI"
      },
      "source": [
        "### Installs and Imports"
      ]
    },
    {
      "cell_type": "markdown",
      "metadata": {
        "id": "jALyuLQLHj4e"
      },
      "source": [
        "Install `transformers` & `datasets`."
      ]
    },
    {
      "cell_type": "code",
      "metadata": {
        "id": "FXHkpUVuft4o"
      },
      "source": [
        "%%capture\n",
        "!pip install datasets==1.5.0\n",
        "!pip install git+https://github.com/vasudevgupta7/transformers.git@add_big_bird # TODO: replace with new pip version eventually\n",
        "\n",
        "import datasets\n",
        "import torch"
      ],
      "execution_count": null,
      "outputs": []
    },
    {
      "cell_type": "markdown",
      "metadata": {
        "id": "TVQCLkYbS0Nm"
      },
      "source": [
        "### Data Preprocessing & Cleaning"
      ]
    },
    {
      "cell_type": "markdown",
      "metadata": {
        "id": "gpOqRdcjnaBT"
      },
      "source": [
        "The total *TriviaQA* dataset has a size of 17 GB once processed.\n",
        "Downloading and preprocessing the dataset will take around *15 minutes*. ☕\n",
        "Afterwards the data is serialized in *Arrow* format, so that subsequent call can reuse the processed dataset.\n",
        "\n",
        "**Note**: If you want to evaluate *BigBird* on the full validation set this notebook will run for *ca.* 6 hours ⌛. On 5% of the data it takes around 30 minutes.\n",
        "\n"
      ]
    },
    {
      "cell_type": "code",
      "metadata": {
        "colab": {
          "base_uri": "https://localhost:8080/",
          "height": 223,
          "referenced_widgets": [
            "0a5b23345dbd4cb09d194fe723817a4f",
            "8c66f5cadbad47b4b864c2159422f15e",
            "6b0e39f862734b889d54108819cf3c56",
            "930d5fa55fdd468999268de3f3cc43d6",
            "80d1d8a5e2684dca946f45f5be80f713",
            "416264e3ca9841b4bc42aa081c485c79",
            "512ddc846d7342a18d1f69ba02ff1543",
            "54f505cf7cd3428ab50138fcaa696def",
            "300e0030ac854cf7934d4cd540507cbd",
            "d5dca27071da46fd91fad522b96df1aa",
            "f02e53c0ee2a4d4cb857b254fbc36686",
            "690a2ecebd4c41d489309c72c127cd04",
            "484665eed89e47bdb4359ae69c5c11c8",
            "60b19f5a74aa48a29c941e19eff5db14",
            "a084b46ef85f4d56ad703ee379c6a240",
            "5a8db468395d4ff3a9277db0b9f62caf",
            "25b4252eb2804d76a683864cad30acec",
            "2f63b054cd224313ad2191430d90e810",
            "5eb01431f8d349b4bad5239b01e7acd4",
            "32982f5f32a74d869fe52190cca7284a",
            "084c97beaca642d0a7e6c80b00dbf3df",
            "3e09beaeda0740a5923743456493b60f",
            "b8f6edb2a19b4aeeba6f7653219fc7e8",
            "34d01ad5090b45dcaf171bcd8b1f5b8c",
            "ba2126d6f8324934a5f0e443e5a10664",
            "04e652c43f1d4bb191b5a79f3d41bb4a",
            "f5857e99190d41628671fda0370a0146",
            "72b7dd893575486c95eee577083a1788",
            "f41da1d72551435ab1c6d765c2c6a41e",
            "e9845e9c68294f70b94eec93ab3b2aff",
            "cb22d126394f402da5e9394cfe6cb92f",
            "5c1da230ec99484d97e9ec340e017aeb",
            "4d659b88a58d4911b0ca6db8e34cf9e5",
            "36ba1f29f4f74278a38b27ce7c970d08",
            "61fcabab7c9c4999b4886a63e6060a92",
            "57d047d23c134e1eb332a6375e4c6fcf",
            "979659f5dbd44734a25f5fa3ed5701cc",
            "26b2b2f7ecdf441983082b4639d2e7d3",
            "632cf08e44a54bfabead8bcc6287de2b",
            "885aefedcf82454da2fb5ea4d8c7d69e",
            "fb5371fdbd104113bed282090194affe",
            "d3faa305db38495c8d53279adce0f39f",
            "10313716436d4d258ce92e7d8b9bfca3",
            "0b010e8076ab413cb423de9f29a986d8",
            "1deed11cd8f044f5a8f7f6bbe6feeb22",
            "d905befe6b04443e942416b69934385b",
            "01183d2d452e45599f8518e5be17f5ba",
            "4ee422ee4ac54638956b8a8192044ca7"
          ]
        },
        "id": "YusOKo5FgkYH",
        "outputId": "196e2a2a-016b-4293-c7fd-e120473e6660"
      },
      "source": [
        "validation_dataset = datasets.load_dataset(\"trivia_qa\", \"rc\", split=\"validation[:5%]\")  # remove [:5%] to run on full validation set"
      ],
      "execution_count": null,
      "outputs": [
        {
          "output_type": "display_data",
          "data": {
            "application/vnd.jupyter.widget-view+json": {
              "model_id": "0a5b23345dbd4cb09d194fe723817a4f",
              "version_minor": 0,
              "version_major": 2
            },
            "text/plain": [
              "HBox(children=(FloatProgress(value=0.0, description='Downloading', max=3456.0, style=ProgressStyle(description…"
            ]
          },
          "metadata": {
            "tags": []
          }
        },
        {
          "output_type": "stream",
          "text": [
            "\n"
          ],
          "name": "stdout"
        },
        {
          "output_type": "display_data",
          "data": {
            "application/vnd.jupyter.widget-view+json": {
              "model_id": "300e0030ac854cf7934d4cd540507cbd",
              "version_minor": 0,
              "version_major": 2
            },
            "text/plain": [
              "HBox(children=(FloatProgress(value=0.0, description='Downloading', max=1408.0, style=ProgressStyle(description…"
            ]
          },
          "metadata": {
            "tags": []
          }
        },
        {
          "output_type": "stream",
          "text": [
            "\n",
            "Downloading and preparing dataset trivia_qa/rc (download: 2.48 GiB, generated: 14.92 GiB, post-processed: Unknown size, total: 17.40 GiB) to /root/.cache/huggingface/datasets/trivia_qa/rc/1.1.0/c1b17d80bfdd2f43b13e4b5741847f704115379ecebcb21e0917d2e8ddaa1ff1...\n"
          ],
          "name": "stdout"
        },
        {
          "output_type": "display_data",
          "data": {
            "application/vnd.jupyter.widget-view+json": {
              "model_id": "25b4252eb2804d76a683864cad30acec",
              "version_minor": 0,
              "version_major": 2
            },
            "text/plain": [
              "HBox(children=(FloatProgress(value=0.0, description='Downloading', max=2665779500.0, style=ProgressStyle(descr…"
            ]
          },
          "metadata": {
            "tags": []
          }
        },
        {
          "output_type": "stream",
          "text": [
            "\n"
          ],
          "name": "stdout"
        },
        {
          "output_type": "display_data",
          "data": {
            "application/vnd.jupyter.widget-view+json": {
              "model_id": "ba2126d6f8324934a5f0e443e5a10664",
              "version_minor": 0,
              "version_major": 2
            },
            "text/plain": [
              "HBox(children=(FloatProgress(value=1.0, bar_style='info', max=1.0), HTML(value='')))"
            ]
          },
          "metadata": {
            "tags": []
          }
        },
        {
          "output_type": "stream",
          "text": [
            "\r"
          ],
          "name": "stdout"
        },
        {
          "output_type": "display_data",
          "data": {
            "application/vnd.jupyter.widget-view+json": {
              "model_id": "4d659b88a58d4911b0ca6db8e34cf9e5",
              "version_minor": 0,
              "version_major": 2
            },
            "text/plain": [
              "HBox(children=(FloatProgress(value=1.0, bar_style='info', max=1.0), HTML(value='')))"
            ]
          },
          "metadata": {
            "tags": []
          }
        },
        {
          "output_type": "stream",
          "text": [
            "\r"
          ],
          "name": "stdout"
        },
        {
          "output_type": "display_data",
          "data": {
            "application/vnd.jupyter.widget-view+json": {
              "model_id": "fb5371fdbd104113bed282090194affe",
              "version_minor": 0,
              "version_major": 2
            },
            "text/plain": [
              "HBox(children=(FloatProgress(value=1.0, bar_style='info', max=1.0), HTML(value='')))"
            ]
          },
          "metadata": {
            "tags": []
          }
        },
        {
          "output_type": "stream",
          "text": [
            "\rDataset trivia_qa downloaded and prepared to /root/.cache/huggingface/datasets/trivia_qa/rc/1.1.0/c1b17d80bfdd2f43b13e4b5741847f704115379ecebcb21e0917d2e8ddaa1ff1. Subsequent calls will reuse this data.\n"
          ],
          "name": "stdout"
        }
      ]
    },
    {
      "cell_type": "markdown",
      "metadata": {
        "id": "G_LFkvD_sx9H"
      },
      "source": [
        "First, let's get an overview of the dataset 🧐."
      ]
    },
    {
      "cell_type": "code",
      "metadata": {
        "colab": {
          "base_uri": "https://localhost:8080/"
        },
        "id": "mJTko97rwQGF",
        "outputId": "b6531cb5-95cb-4d4c-c54e-2be52bdf253d"
      },
      "source": [
        "validation_dataset"
      ],
      "execution_count": null,
      "outputs": [
        {
          "output_type": "execute_result",
          "data": {
            "text/plain": [
              "Dataset({\n",
              "    features: ['question', 'question_id', 'question_source', 'entity_pages', 'search_results', 'answer'],\n",
              "    num_rows: 933\n",
              "})"
            ]
          },
          "metadata": {
            "tags": []
          },
          "execution_count": 5
        }
      ]
    },
    {
      "cell_type": "markdown",
      "metadata": {
        "id": "QHsmt1ULwTug"
      },
      "source": [
        "Alright, there are ~19K data samples in the validation step.\n",
        "\n",
        "Next, let's check out the datatset's structure."
      ]
    },
    {
      "cell_type": "code",
      "metadata": {
        "colab": {
          "base_uri": "https://localhost:8080/"
        },
        "id": "DjAVcrAitsU5",
        "outputId": "41f1f5e7-3856-45ca-9d70-db4ec4feeb0c"
      },
      "source": [
        "\n",
        "validation_dataset.info.features"
      ],
      "execution_count": null,
      "outputs": [
        {
          "output_type": "execute_result",
          "data": {
            "text/plain": [
              "{'answer': {'aliases': Sequence(feature=Value(dtype='string', id=None), length=-1, id=None),\n",
              "  'matched_wiki_entity_name': Value(dtype='string', id=None),\n",
              "  'normalized_aliases': Sequence(feature=Value(dtype='string', id=None), length=-1, id=None),\n",
              "  'normalized_matched_wiki_entity_name': Value(dtype='string', id=None),\n",
              "  'normalized_value': Value(dtype='string', id=None),\n",
              "  'type': Value(dtype='string', id=None),\n",
              "  'value': Value(dtype='string', id=None)},\n",
              " 'entity_pages': Sequence(feature={'doc_source': Value(dtype='string', id=None), 'filename': Value(dtype='string', id=None), 'title': Value(dtype='string', id=None), 'wiki_context': Value(dtype='string', id=None)}, length=-1, id=None),\n",
              " 'question': Value(dtype='string', id=None),\n",
              " 'question_id': Value(dtype='string', id=None),\n",
              " 'question_source': Value(dtype='string', id=None),\n",
              " 'search_results': Sequence(feature={'description': Value(dtype='string', id=None), 'filename': Value(dtype='string', id=None), 'rank': Value(dtype='int32', id=None), 'title': Value(dtype='string', id=None), 'url': Value(dtype='string', id=None), 'search_context': Value(dtype='string', id=None)}, length=-1, id=None)}"
            ]
          },
          "metadata": {
            "tags": []
          },
          "execution_count": 6
        }
      ]
    },
    {
      "cell_type": "markdown",
      "metadata": {
        "id": "7XqHiM5mt5t-"
      },
      "source": [
        "Alright, quite a lot of entries here! For Questions Answering, all we need is the *question*, the *context* and the *answer*.\n",
        "\n",
        "The **question** is a single entry, so we keep it.\n",
        "\n",
        "Because *BigBird* was trained on the Wikipedia part of *TriviaQA*, we will use `validation_dataset[\"entity_pages\"][\"wiki_context\"]` as our **context**.\n",
        "\n",
        "We can also see that there are multiple entries for the **answer**. In this use case, we define a correct output of the model as one that is one of the answer aliases `validation_dataset[\"answer\"][\"aliases\"]`. Lastly, we also keep `validation_dataset[\"answer\"][\"normalized_value\"]`. All other columns can be disregarded.\n",
        "\n",
        "Let's write the corresponding `.map(...)` function"
      ]
    },
    {
      "cell_type": "code",
      "metadata": {
        "id": "GpEkZy_LvhEX"
      },
      "source": [
        "def format_dataset(example):\n",
        "    # the context might be comprised of multiple contexts => me merge them here\n",
        "    example[\"context\"] = \" \".join((\"\\n\".join(example[\"entity_pages\"][\"wiki_context\"])).split(\"\\n\"))\n",
        "    example[\"targets\"] = example[\"answer\"][\"aliases\"]\n",
        "    example[\"norm_target\"] = example[\"answer\"][\"normalized_value\"]\n",
        "    return example"
      ],
      "execution_count": null,
      "outputs": []
    },
    {
      "cell_type": "markdown",
      "metadata": {
        "id": "DdELPXpidIPZ"
      },
      "source": [
        "and apply it so that the dataset is put into the format as defined above."
      ]
    },
    {
      "cell_type": "code",
      "metadata": {
        "colab": {
          "base_uri": "https://localhost:8080/",
          "height": 67,
          "referenced_widgets": [
            "3b8689b2aabd4984a01b5d13c112ae77",
            "f2b3fa3c0f444b1383b9d2217d3e0f05",
            "94b6d1f89c644363a3c55628124fc6bc",
            "53de60c801654f648498cb4de3a5eb48",
            "323cff8ba4444d0aaeda693dde91b73f",
            "e0011f14c4eb458b8ba33b75a7a579b7",
            "a3879c6b52c849b5ae9777cf4da7a880",
            "81152216e0c84499be53adb2d29acccd"
          ]
        },
        "id": "HPw6rzPIb1s5",
        "outputId": "94ef8bf0-16af-4197-e97f-aff2e55ef58a"
      },
      "source": [
        "validation_dataset = validation_dataset.map(format_dataset, remove_columns=[\"search_results\", \"question_source\", \"entity_pages\", \"answer\", \"question_id\"])"
      ],
      "execution_count": null,
      "outputs": [
        {
          "output_type": "display_data",
          "data": {
            "application/vnd.jupyter.widget-view+json": {
              "model_id": "3b8689b2aabd4984a01b5d13c112ae77",
              "version_minor": 0,
              "version_major": 2
            },
            "text/plain": [
              "HBox(children=(FloatProgress(value=0.0, max=933.0), HTML(value='')))"
            ]
          },
          "metadata": {
            "tags": []
          }
        },
        {
          "output_type": "stream",
          "text": [
            "\n"
          ],
          "name": "stdout"
        }
      ]
    },
    {
      "cell_type": "markdown",
      "metadata": {
        "id": "jRhh7AJrw3fM"
      },
      "source": [
        "Now, let's check out a couple of data samples.\n",
        "\n",
        "For this we define a function that picks `num_examples` random data samples."
      ]
    },
    {
      "cell_type": "code",
      "metadata": {
        "id": "7I730mW9wNeo"
      },
      "source": [
        "from datasets import ClassLabel\n",
        "import random\n",
        "import pandas as pd\n",
        "from IPython.display import display, HTML\n",
        "\n",
        "def show_random_elements(dataset, num_examples=10):\n",
        "    assert num_examples <= len(dataset), \"Can't pick more elements than there are in the dataset.\"\n",
        "    picks = []\n",
        "    for _ in range(num_examples):\n",
        "        pick = random.randint(0, len(dataset)-1)\n",
        "        while pick in picks:\n",
        "            pick = random.randint(0, len(dataset)-1)\n",
        "        picks.append(pick)\n",
        "\n",
        "    df = pd.DataFrame(dataset[picks])\n",
        "    display(HTML(df.to_html()))"
      ],
      "execution_count": null,
      "outputs": []
    },
    {
      "cell_type": "markdown",
      "metadata": {
        "id": "G8AVj9Lsf1w3"
      },
      "source": [
        "Let's run it."
      ]
    },
    {
      "cell_type": "code",
      "metadata": {
        "colab": {
          "base_uri": "https://localhost:8080/",
          "height": 1000
        },
        "id": "O6mpmTkef3rz",
        "outputId": "78284043-05a9-458d-8ccf-65ffac864bf6"
      },
      "source": [
        "show_random_elements(validation_dataset, num_examples=3)"
      ],
      "execution_count": null,
      "outputs": [
        {
          "output_type": "display_data",
          "data": {
            "text/html": [
              "<table border=\"1\" class=\"dataframe\">\n",
              "  <thead>\n",
              "    <tr style=\"text-align: right;\">\n",
              "      <th></th>\n",
              "      <th>context</th>\n",
              "      <th>norm_target</th>\n",
              "      <th>question</th>\n",
              "      <th>targets</th>\n",
              "    </tr>\n",
              "  </thead>\n",
              "  <tbody>\n",
              "    <tr>\n",
              "      <th>0</th>\n",
              "      <td>Baleen is a filter-feeder system inside the mouths of baleen whales. The baleen system works when a whale opens its mouth underwater and the whale takes in water.  The whale then pushes the water out, and animals such as krill are filtered by the baleen and remain as food source for the whale. Baleen is similar to bristles and is made of keratin, the same substance found in human fingernails and hair. Some whales, such as the bowhead whale, have longer baleen than others. Other whales, such as the gray whale, only use one side of their baleen. These baleen bristles are arranged in plates across the upper jaw of the whale.  Baleen is often called whalebone, but that name also can refer to the normal bones of whales, which have often been used as a material, especially as a cheaper substitute for ivory in carving.  Depending on the species, a baleen plate can be  long, and weigh up to . Its hairy fringes are called baleen hair or whalebone-hair. They are also called baleen bristles, which in sei whales are highly calcified, calcification functioning to increase their stiffness.   Baleen plates are broader at the gumline (base). The plates have been compared to sieves or Venetian blinds.  Etymology  The word baleen derives from the Latin bālaena, related to the Greek phalaina – both of which mean \"whale\".  Evolution  The oldest true fossils of baleen are only 15 million years old, but baleen rarely fossilizes, and scientists believe it originated considerably earlier than that.  This is indicated by baleen-related skull modifications being found in fossils from considerably earlier, including a buttress of bone in the upper jaw beneath the eyes, and loose lower jaw bones at the chin. Baleen is believed to have evolved around thirty million years ago, possibly from a hard, gummy upper jaw, like the one a Dall's porpoise has; it closely resembles baleen at the microscopic level.  The initial evolution and radiation of baleen plates is believed to have occurred during Early Oligocene when Antarctica broke off from Gondwana and the Antarctic Circumpolar Current was formed, increasing productivity of ocean environments.  This occurred because the current kept warm ocean waters away from the area that is now Antarctica, producing steep gradients in temperature, salinity, light, and nutrients where the warm water meets the cold.   The transition from teeth to baleen is proposed to have occurred stepwise, from teeth to a hybrid to baleen. It is known that modern mysticetes have teeth initially and then develop baleen plate germs in utero, but lose their dentition and have only baleen during juvenile and adulthood.  However, developing mysticetes do not produce tooth enamel because at some point this trait evolved to become a pseudogene.  This is likely to have occurred about 28 million years ago and proves that dentition is an ancestral state of mysticetes.  Using parsimony to study this and other ancestral characters suggest that the common ancestor of aetiocetids and edentulous mysticetes evolved lateral nutrient foramina, which are believed to have provided blood vessels and nerves a way to reach developing baleen.  Further research suggests that the baleen of Aetiocetus was arranged in bundles between widely spaced teeth.  If true, this combination of baleen and dentition in Aetiocetus would act as a transition state between odontocetes and mysticetes.  This intermediate step is further supported by evidence of other changes that occurred with the evolution of baleen that make it possible for the organisms to survive using filter feeding, such as a change in skull structure and throat elasticity.  It would be highly unlikely for all of these changes to occur at once. Therefore, it is proposed that Oligocene aetiocetids possess both ancestral and descendent character states regarding feeding strategies.  This makes them mosaic taxa, showing that either baleen evolved before dentition was lost or that the traits for filter feeding originally evolved for other functions.  It also shows that the evolution could have occurred gradually because the ancestral state was originally maintained.  Therefore, the mosaic whales could have exploited new resources using filter feeding while not abandoning their previous prey strategies.  The result of this stepwise transition is apparent in modern-day baleen whales, because of their enamel pseudogenes and their in utero development and reabsorbing of teeth.  If it is true that many early baleen whales also had teeth, these were probably used only peripherally, or perhaps not at all (again like Dall's porpoise, which catches squid and fish by gripping them against its hard upper jaw). Intense research has been carried out to sort out the evolution and phylogenetic history of mysticetes, but there is still much debate surrounding this issue.  More work needs to be done to characterize extinct ancestral fossils so that future scientists will be able to piece together a more accurate phylogenetic tree.  Filter feeding  A whale's baleen plates play the most important role in its filter-feeding process. In order to feed, a baleen whale opens its mouth widely and scoops in dense shoals of prey (such as krill, copepods, small fish and sometimes birds that happen to be near the shoals), together with large volumes of water. It then partly shuts its mouth and presses its tongue against its upper jaw, forcing the water to pass out sideways through the baleen, thus sieving out the prey which it then swallows.  Human uses  People formerly used baleen (usually referred to as \"whalebone\") for making numerous items where flexibility and strength were required, including backscratchers, collar stiffeners, buggy whips, parasol ribs, crinoline petticoats and corset stays. It was commonly used to crease paper; its flexibility kept it from damaging the paper. It was also occasionally used in cable-backed bows. Synthetic materials are now usually used for similar purposes, especially plastic and fibre glass. It is not to be confused with whale's bone meaning the bones of whales, used in carving, for cutlery handles and other uses for the bones of various large species.  As a habitat  Baleen serves as a habitat for some species from the gastropod families Pyropeltidae, Cocculinidae, Osteopeltidae and Neolepetopsidae.</td>\n",
              "      <td>corset</td>\n",
              "      <td>What hourglass-shaped women's garment was made using whalebone?</td>\n",
              "      <td>[Mechanical corset, Tight lacing corset, Corsets, Corset, Corsetting]</td>\n",
              "    </tr>\n",
              "    <tr>\n",
              "      <th>1</th>\n",
              "      <td>Sudan ( as-Sūdān, English pronunciation (US), (GB)),   officially the Republic of the Sudan  ( Jumhūriyyat as-Sūdān), is a country in northeastern Africa. It is bordered by Egypt to the north, the Red Sea, Eritrea, and Ethiopia  to the east, South Sudan to the south, the Central African Republic to the southwest, Chad to the west and Libya to the northwest.  It is the third largest country in Africa. The River Nile divides the country into eastern and western halves.  Its predominant religion is Islam.   Sudan was home to numerous ancient civilizations, such as the Kingdom of Kush, Kerma, Nobatia, Alodia, Makuria, Meroë and others, most of which flourished along the Nile. During the pre-dynastic period Nubia and Nagadan Upper Egypt were identical, simultaneously evolved systems of pharaonic kingship by 3300 BC.  By virtue of its proximity to Egypt, the Sudan participated in the wider history of the Near East inasmuch as it was Christianized by the 6th century, and Islamized in the 15th.  As a result of Christianization, the Old Nubian language stands as the oldest recorded Nilo-Saharan language (earliest records dating to the 9th century). Sudan was the largest country in Africa and the Arab world until 2011, when South Sudan separated into an independent country, following an independence referendum. Sudan is now the third largest country in Africa (after Algeria and the Democratic Republic of the Congo) and also the third largest country in the Arab world (after Algeria and Saudi Arabia).  Sudan is a member of the United Nations, the African Union, the Arab League, the Organisation of Islamic Cooperation and the Non-Aligned Movement, as well as an observer in the World Trade Organization.   Its capital is Khartoum, the political, cultural and commercial centre of the nation. It is a presidential representative democratic federal republic. The politics of Sudan is regulated by a parliamentary organization called the National Assembly.  The Sudanese legal system is based on Islamic law.  Name  The country's place name Sudan is a name given to a geographical region to the south of the Sahara, stretching from Western Africa to eastern Central Africa. The name derives from the Arabic ' (), or \"the lands of the Blacks\", an expression denoting West Africa and northern-Central Africa.   History  Prehistoric Sudan  By the eighth millennium BC, people of a Neolithic culture had settled into a sedentary way of life  there in fortified mudbrick villages, where they supplemented hunting and fishing on the Nile with grain gathering and cattle herding. During the fifth millennium BC migrations from the drying Sahara brought neolithic people into the Nile Valley along with agriculture. The population that resulted from this cultural and genetic mixing developed social hierarchy over the next centuries become the Kingdom of Kush (with the capital at Kerma) at 1700 BC.  Anthropological and archaeological research indicate that during the predynastic period Nubia and Nagadan Upper Egypt were ethnically, and culturally nearly identical, and thus, simultaneously evolved systems of pharaonic kingship by 3300 BC.  Kingdom of Kush (1070 BC–AD 350)  The Kingdom of Kush was an ancient Nubian state centered on the confluences of the Blue Nile and White Nile, and the Atbarah River and the Nile River. It was established after the Bronze Age collapse and the disintegration of the New Kingdom of Egypt, centered at Napata in its early phase.  After King Kashta (\"the Kushite\") invaded Egypt in the eighth century BC, the Kushite kings ruled as pharaohs of the Twenty-fifth Dynasty of Egypt for a century before being defeated and driven out by the Assyrians. At the height of their glory, the Kushites conquered an empire that stretched from what is now known as South Kordofan all the way to the Sinai. Pharaoh Piye attempted to expand the empire into the Near East, but was thwarted by the Assyrian king Sargon II. The Kingdom of Kush is mentioned in the Bible as having saved the Israelites from the wrath of the Assyrians, although disease among the besiegers was the main reason for the failure to take the city.   The war that took place between Pharaoh Taharqa and the Assyrian king Sennacherib was a decisive event in western history, with the Nubians being defeated in their attempts to gain a foothold in the Near East by Assyria. Sennacherib's successor Esarhaddon went further, and invaded Egypt itself, deposing Taharqa and driving the Nubians from Egypt entirely. Taharqa fled back to his homeland where he died two years later. Egypt became an Assyrian colony; however, king Tantamani, after succeeding Taharqa, made a final determined attempt to regain Egypt. Esarhaddon died while preparing to leave the Assyrian capital of Nineveh in order to eject him. However, his successor Ashurbanipal sent a large army into southern Egypt and routed Tantamani, ending all hopes of a revival of the Nubian Empire.  During Classical Antiquity, the Nubian capital was at Meroë. In ancient Greek geography, the Meroitic kingdom was known as Ethiopia (a term also used earlier by the Assyrians when encountering the Nubians). The civilization of Kush was among the first in the world to use iron smelting technology. The Nubian kingdom at Meroë persisted until the fourth century AD. After the collapse of the Kushite empire several states emerged in its former territories, among them Nubia.  Christianity and Islam  By the 6th century, fifty states had emerged as the political and cultural heirs of the Meroitic Kingdom. Nobatia in the north, also known as Ballanah, had its capital at Faras; the central kingdom, Muqurra (Makuria), was centred at Tungul (Old Dongola), about 13 km south of modern Dongola; and Alawa (Alodia), in the heartland of old Meroë, which had its capital at Soba (now a suburb of modern-day Khartoum).  In all three kingdoms, warrior aristocracies ruled Meroitic populations from royal courts where functionaries bore Greek titles in emulation of the Byzantine court. A missionary sent by Byzantine empress Theodora arrived in Nobatia and started preaching Christianity about 540 AD. The Nubian kings became Monophysite Christians. However, Makuria was a Melkite Christian, unlike Nobatia and Alodia.  After many attempts at military conquest failed, the Arab commander in Egypt concluded the first in a series of regularly renewed treaties known as al-baqṭ (pactum) with the Nubians that governed relations between the two peoples for more than 678 years. Islam progressed in the area over a long period of time through intermarriage and contacts with Arab merchants, Sufi ascetics and settlers. Additionally, exemption from taxation in regions under Muslim rule were also a powerful incentive for conversion.  In 1093, a Muslim prince of Nubian royal blood ascended the throne of Dunqulah as king. The two most important Arab tribes to emerge in Nubia were the Ja'alin and the Juhaynah. Today's northern Sudanese culture often combines Nubian and Arabic elements.  During the 16th century, the Funj people under Amara Dunqus, appeared in southern Nubia and supplanted the remnants of the old Christian kingdom of Alodia, establishing as-Saltana az-Zarqa (the Blue Sultanate), also called Sennar. The Blue Sultanate eventually became the keystone of the Funj Empire. By the mid-16th century, Sennar controlled Al Jazirah and commanded the allegiance of vassal states and tribal districts north to the Third Cataract and south to the rainforests. The government was substantially weakened by a series of succession arguments and coups within the royal family. In 1820, Muhammad Ali of Egypt sent 4000 troops to invade Sudan. His forces accepted Sennar's surrender from the last Funj sultan, Badi VII.  Turkiyah and Mahdist Sudan  In 1821, the Ottoman ruler of Egypt, Muhammad Ali, had invaded and conquered northern Sudan. Although technically the Vali of Egypt under the Ottoman Empire, Muhammad Ali styled himself as Khedive of a virtually independent Egypt. Seeking to add Sudan to his domains, he sent his third son Ismail (not to be confused with Isma'il Pasha mentioned later) to conquer the country, and subsequently incorporate it into Egypt. This policy was expanded and intensified by Ibrahim Pasha's son, Isma'il, under whose reign most of the remainder of modern-day Sudan was conquered.  The Egyptian authorities made significant improvements to the Sudanese infrastructure (mainly in the north), especially with regard to irrigation and cotton production. In 1879, the Great Powers forced the removal of Ismail and established his son Tewfik Pasha in his place. Tewfik's corruption and mismanagement resulted in the ‘Urabi Revolt, which threatened the Khedive's survival. Tewfik appealed for help to the British, who subsequently occupied Egypt in 1882. Sudan was left in the hands of the Khedivial government, and the mismanagement and corruption of its officials.    During the Khedivial period, wide spread dissent had spread due to harsh taxation's imposed on most activities. Taxation on irrigation wells and farming lands were so high most farmers abandoned their farms and live stock. During the 1870s, European initiatives against the slave trade had an adverse impact on the economy of northern Sudan, precipitating the rise of Mahdist forces.  Muhammad Ahmad ibn Abd Allah, the Mahdi (Guided One), offered to the ansars (his followers) and those who surrendered to him a choice between adopting Islam or being killed. The Mahdiyah (Mahdist regime) imposed traditional Sharia Islamic laws.  From his announcement of the Mahdiyya in June 1881 until the fall of Khartoum in January 1885, Muhammad Ahmad led a successful military campaign against the Turco-Egyptian government of the Sudan, known as the Turkiyah. Muhammad Ahmad died on 22 June 1885, a mere six months after the conquest of Khartoum. After a power struggle amongst his deputies, Abdallahi ibn Muhammad, with the help primarily of the Baggara of western Sudan, overcame the opposition of the others and emerged as unchallenged leader of the Mahdiyah. After consolidating his power, Abdallahi ibn Muhammad assumed the title of Khalifa (successor) of the Mahdi, instituted an administration, and appointed Ansar (who were usually Baqqara) as emirs over each of the several provinces.  Regional relations remained tense throughout much of the Mahdiyah period, largely because of the Khalifa's brutal methods to extend his rule throughout the country. In 1887, a 60,000-man Ansar army invaded Ethiopia, penetrating as far as Gondar. In March 1889, king Yohannes IV of Ethiopia marched on Metemma; however, after Yohannes fell in battle, the Ethiopian forces withdrew. Abd ar Rahman an Nujumi, the Khalifa's general, attempted an invasion of Egypt in 1889, but British-led Egyptian troops defeated the Ansar at Tushkah. The failure of the Egyptian invasion broke the spell of the Ansar's invincibility. The Belgians prevented the Mahdi's men from conquering Equatoria, and in 1893, the Italians repelled an Ansar attack at Agordat (in Eritrea) and forced the Ansar to withdraw from Ethiopia.  In the 1890s, the British sought to re-establish their control over Sudan, once more officially in the name of the Egyptian Khedive, but in actuality treating the country as a British colony. By the early 1890s, British, French and Belgian claims had converged at the Nile headwaters. Britain feared that the other powers would take advantage of Sudan's instability to acquire territory previously annexed to Egypt. Apart from these political considerations, Britain wanted to establish control over the Nile to safeguard a planned irrigation dam at Aswan.  Herbert Kitchener led military campaigns against the Mahdist Sudan from 1896 to 1898. Kitchener's campaigns culminated in a decisive victory in the Battle of Omdurman on 2 September 1898.  Anglo-Egyptian Sudan (1899–1956)  In 1899, Britain and Egypt reached an agreement under which Sudan was run by a governor-general appointed by Egypt with British consent. In reality Sudan was effectively administered as a Crown colony. The British were keen to reverse the process, started under Muhammad Ali Pasha, of uniting the Nile Valley under Egyptian leadership, and sought to frustrate all efforts aimed at further uniting the two countries.  During World War II, Sudan was directly involved militarily in the East African Campaign. Formed in 1925, the Sudan Defence Force (SDF) played an active part in responding to the early incursions (occupation by Italian troops of Kassala and other border areas) into the Sudan from Italian East Africa during 1940. In 1942, the SDF also played a part in the invasion of the Italian colony by British and Commonwealth forces. From 1924 until independence in 1956, the British had a policy of running Sudan as two essentially separate territories, the north and south. The last British governor-general was Robert George Howe.  The continued British administration of Sudan fueled an increasingly strident nationalist backlash in Egypt, with Egyptian nationalist leaders determined to force Britain to recognise a single independent union of Egypt and Sudan. With the formal end of Ottoman rule in 1914, Hussein Kamel was declared Sultan of Egypt and Sudan, as was his brother and successor, Fuad I. They continued their insistence of a single Egyptian-Sudanese state even when the Sultanate of Egypt was retitled as the Kingdom of Egypt and Sudan, but the British continued to frustrate such reaches for independence.  The Egyptian revolution of 1952 finally heralded the beginning of the march towards Sudanese independence. Having abolished the monarchy in 1953, Egypt's new leaders, Muhammad Naguib, whose mother was Sudanese, and later Gamal Abdel Nasser, believed the only way to end British domination in Sudan was for Egypt to officially abandon its claims of sovereignty over Sudan. In addition Nasser knew it would be difficult for Egypt to govern the impoverished Sudan after independence.  The British on the other hand continued their political and financial support for the Mahdist successor, Abd al-Rahman al-Mahdi, who, they believed, could resist the Egyptian pressures for Sudanese independence. Rahman was able to resist the pressures, but his regime was plagued with political ineptitude, which garnered him a loss of support in northern and central Sudan. Egypt and Britain both sensed a great political instability forming, and opted to allow the Sudanese in the north and south to have a free vote on independence to see whether they wished for a British withdrawal.  Independence (1956-)  A polling process was carried out resulting in composition of a democratic parliament and Ismail al-Azhari was elected first Prime Minister and led the first modern Sudanese government.  On 1 January 1956, in a special ceremony held at the People's Palace, the Egyptian and British flags were lowered and the new Sudanese flag, composed of green, blue and yellow stripes, was raised in their place by the prime minister Ismail al-Azhari.  Dissatisfaction culminated in a second coup d'état on 25 May 1969. The coup leader, Col. Gaafar Nimeiry, became prime minister, and the new regime abolished parliament and outlawed all political parties.  Disputes between Marxist and non-Marxist elements within the ruling military coalition resulted in a briefly successful coup in July 1971, led by the Sudanese Communist Party. Several days later, anti-communist military elements restored Nimeiry to power.  In 1972, the Addis Ababa Agreement led to a cessation of the north-south civil war and a degree of self-rule. This led to ten years hiatus in the civil war.  Until the early 1970s, Sudan's agricultural output was mostly dedicated to internal consumption. In 1972, the Sudanese government became more pro-Western, and made plans to export food and cash crops. However, commodity prices declined throughout the 1970s causing economic problems for Sudan. At the same time, debt servicing costs, from the money spent mechanizing agriculture, rose. In 1978, the International Monetary Fund (IMF) negotiated a Structural Adjustment Program with the government. This further promoted the mechanized export agriculture sector. This caused great economic problems for the pastoralists of Sudan (See Nuba Peoples).  In 1976, the Ansars mounted a bloody but unsuccessful coup attempt. In July 1977, President Nimeiry met with Ansar leader Sadiq al-Mahdi, opening the way for reconciliation. Hundreds of political prisoners were released, and in August a general amnesty was announced for all opponents of Nimeiry's government.  On 30 June 1989, Colonel Omar al-Bashir led a bloodless military coup. The new military government suspended political parties and introduced an Islamic legal code on the national level.  Later al-Bashir carried out purges and executions in the upper ranks of the army, the banning of associations, political parties, and independent newspapers, and the imprisonment of leading political figures and journalists.  On 16 October 1993, al-Bashir appointed himself \"President\" and disbanded the Revolutionary Command Council. The executive and legislative powers of the council were taken by al-Bashir.   In the 1996 general election he was the only candidate by law to run for election.  Sudan became a one-party state under the National Congress Party (NCP).  During the 1990s, Hassan al-Turabi, then Speaker of the National Assembly, reached out to Islamic fundamentalist groups, invited Osama bin Laden to the country.  The United States subsequently listed Sudan as a state sponsor of terrorism.  The U.S. bombed Sudan in 1998, targeting the Al-Shifa pharmaceutical factory. Later, al-Turabi's influence waned, in favor of more pragmatic leaders who focused on trying to change international isolation.  Sudan worked to appease its critics by expelling members of the Egyptian Islamic Jihad and encouraging bin Laden to leave.   Before the 2000 presidential election, al-Turabi introduced a bill to reduce the President's powers, prompting al-Bashir to dissolve parliament and declare a state of emergency. When al-Turabi urged a boycott of the President's re-election campaign and signed an agreement with Sudan People's Liberation Army, al-Bashir suspected they were plotting to overthrow him and the government,  which resulted in the  jailing of Hassan al-Turabi that same year.  In February 2003, the Sudan Liberation Movement/Army (SLM/A) and Justice and Equality Movement (JEM) groups in Darfur took up arms, accusing the Sudanese government of oppressing non-Arab Sudanese in favor of Sudanese Arabs, precipitating the War in Darfur. The conflict has since been described as a genocide,  and the International Criminal Court (ICC) has issued two arrest warrants for al-Bashir.  Arabic-speaking nomads militias known as the Janjaweed have been accused of many atrocities.  On 9 January 2005, the Nairobi Comprehensive Peace Agreement was signed between the Sudan People's Liberation Movement (SPLM) and the government, with the objective of ending the Second Sudanese Civil War. The United Nations Mission in Sudan (UNMIS) was established under the UN Security Council Resolution 1590 to support its implementation. The peace agreement led to the 2011 referendum which resulted in the secession of South Sudan; the region of Abyei is to hold its own referendum in the future.  The Sudan People's Liberation Army (SPLA) was the primary member of the Eastern Front, a coalition of rebel groups operating in eastern Sudan. After the peace agreement, their place was taken in February 2004 after the merger of the larger Hausa and Beja Congress with the smaller Rashaida Free Lions.  A peace agreement between the Sudanese government and the Eastern Front was signed on 14 October 2006, in Asmara.  On 5 May 2006, the Darfur Peace Agreement was signed, aiming at ending the three-year-long conflict.  The Chad–Sudan Conflict (2005–2007) erupted after the Battle of Adré, which led to the declaration of war by Chad.  The leaders of Sudan and Chad signed an agreement in Saudi Arabia on 3 May 2007 to stop fighting from the Darfur conflict along their countries' 1000 km border.   In July 2007 the country was hit by flooding,  with over 400,000 people being directly affected.  Since 2009, a series of ongoing conflicts between rival nomadic tribes in Sudan and South Sudan have resulted in a large number of casualties. The Sudan internal conflict in the early 2010s between the Army of Sudan and the Sudan Revolutionary Front started as a dispute over the oil-rich region of Abyei in the months leading up to South Sudanese independence, though it is also related to the nominally resolved war in Darfur.  Geography  Sudan is situated in northern Africa, with a 853 km coastline bordering the Red Sea.  It has land borders with Egypt, Eritrea, Ethiopia, South Sudan, the Central African Republic, Chad, and Libya. With an area of 1886068 km2, it is the third largest country on the continent (after Algeria and Democratic Republic of the Congo) and the sixteenth largest in the world.  Sudan lies between latitudes 8° and 23°N. The terrain is generally flat plains, broken by several mountain ranges. In the west the Deriba Caldera (3042 m), located in the Marrah Mountains, is the highest point in Sudan. In the east are the Red Sea Hills.   The Blue and White Nile rivers meet in Khartoum to form the River Nile, which flows northwards through Egypt to the Mediterranean Sea. The Blue Nile's course through Sudan is nearly 800 km long and is joined by the Dinder and Rahad Rivers between Sennar and Khartoum. The White Nile within Sudan has no significant tributaries.  There are several dams on the Blue and White Niles. Among them are the Sennar and Roseires Dams on the Blue Nile, and the Jebel Aulia Dam on the White Nile. There is also Lake Nubia on the Sudanese-Egyptian border.  Rich mineral resources are available in Sudan including asbestos, chromite, cobalt, copper, gold, granite, gypsum, iron, kaolin, lead, manganese, mica, natural gas, nickel, petroleum, silver, tin, uranium and zinc.   Climate  The amount of rainfall increases towards the south. The central and the northern part have extremely dry desert areas such as the Nubian Desert to the northeast and the Bayuda Desert to the east; in the south there are swamps and rainforest. Sudan's rainy season lasts for about three months (July to September) in the north, and up to six months (June to November) in the south.  The dry regions are plagued by sandstorms, known as haboob, which can completely block out the sun. In the northern and western semi-desert areas, people rely on the scant rainfall for basic agriculture and many are nomadic, travelling with their herds of sheep and camels. Nearer the River Nile, there are well-irrigated farms growing cash crops.  The sunshine duration is very high all over the country but especially in deserts where it could soar to over 4,000 h per year.  Environmental issues  Desertification is a serious problem in Sudan.  There is also concern over soil erosion. Agricultural expansion, both public and private, has proceeded without conservation measures. The consequences have manifested themselves in the form of deforestation, soil desiccation, and the lowering of soil fertility and the water table.   The nation's wildlife is threatened by hunting. As of 2001, twenty-one mammal species and nine bird species are endangered, as well as two species of plants. Endangered species include: the waldrapp, northern white rhinoceros, tora hartebeest, slender-horned gazelle, and hawksbill turtle. The Sahara oryx has become extinct in the wild.   Government and politics  Officially, the politics of Sudan takes place in the framework of a federal presidential representative democratic republic, where the President of Sudan is head of state, head of government and commander-in-chief of the Sudan People's Armed Forces in a multi-party system. Legislative power is vested in both the government and the bicameral parliament—the National Legislature, with its National Assembly (lower chamber) and the Council of States (upper chamber). The judiciary is independent and obtained by the Constitutional Court. It is part of the Northern Africa grouping of the UN geoscheme.   However, following the Second Sudanese Civil War (1983–2005) and the now-low-scale war in Darfur, Sudan is widely recognized as an authoritarian state where all effective political power is obtained by President Omar al-Bashir and the ruling National Congress Party (NCP).  In 1993, Sudan was transformed into an Islamic authoritarian one-party state as al-Bashir abolished the Revolutionary Command Council and created the National Islamic Front (NIF) with a new parliament and government obtained solely by members of the NIF. At the same time, the structure of regional administration was replaced by the creation of twenty-six states, each headed by a governor, thus making Sudan a federal republic.  Executive posts are divided between the NCP, the SPLA, the Sudanese Eastern Front and factions of the Umma Party and Democratic Unionist Party (DUP).  According to the new 2005 constitution, the bicameral National Legislature is the official Sudanese parliament and is divided between two chambers—the National Assembly, a lower house with 450 seats, and the Council of States, an upper house with 50 seats. Thus the parliament consists of 500 appointed members altogether, where all are indirectly elected by state legislatures to serve six-year terms.  Despite his international arrest warrant, al-Bashir was a candidate in the 2010 Sudanese presidential election, the first democratic election with multiple political parties participating in twenty-four years. In the build-up to the vote, Sudanese pro-democracy activists say they faced intimidation by the government  and the International Crisis Group reported that the ruling party had gerrymandered electoral districts.  A few days before the vote, the main opposition candidate, Yasir Arman from the SPLM, withdrew from the race.  The U.S.-based Carter Center, which helped monitor the elections, described the vote tabulation process as \"highly chaotic, non-transparent and vulnerable to electoral manipulation.\" Al-Bashir was declared the winner of the election with sixty-eight percent of the vote.   Sharia law  The legal system in Sudan is based on Islamic Sharia law. The 2005 Naivasha Agreement, ending the civil war between north and south Sudan, established some protections for non-Muslims in Khartoum. Sudan's application of Sharia law is random.   Stoning remains a judicial punishment in Sudan. Between 2009 and 2012, several women were sentenced to death by stoning.    Flogging is a legal punishment. Between 2009 and 2014, many people were sentenced to 40–100 lashes.       In August 2014, several Sudanese men died in custody after being flogged.    53 Christians were flogged in 2001.  Sudan's public order law allows police officers to publicly whip women who are accused of public indecency.   Crucifixion is a legal punishment. In 2002, 88 people were sentenced to death for crimes relating to murder, armed robbery, and participating in ethnic clashes, Amnesty International wrote that they could be executed by either hanging or crucifixion.   International Court of Justice jurisdiction is accepted, though with reservations. Under the terms of the Naivasha Agreement, Islamic law did not apply in South Sudan.  Since the secession of South Sudan there is some uncertainty as to whether Sharia law will now apply to the non-Muslim minorities present in Sudan, especially because of contradictory statements by al-Bashir on the matter.   The judicial branch of the Sudanese government consists of a Constitutional Court of nine justices, the National Supreme Court, the Court of Cassation,  and other national courts; the National Judicial Service Commission provides overall management for the judiciary.  Foreign relations  Sudan has had a troubled relationship with many of its neighbours and much of the international community, owing to what is viewed as its radical Islamic stance. For much of the 1990s, Uganda, Kenya and Ethiopia formed an ad-hoc alliance called the \"Front Line States\" with support from the United States to check the influence of the National Islamic Front government. The Sudanese Government supported anti-Ugandan rebel groups such as the Lord's Resistance Army (LRA).  As the National Islamic Front regime in Khartoum gradually emerged as a real threat to the region and the world, the U.S. began to list Sudan on its list of State Sponsors of Terrorism. After the US listed Sudan as a state sponsor of terrorism, the NIF decided to develop relations with Iraq, and later Iran, the two most controversial countries in the region.  From the mid-1990s, Sudan gradually began to moderate its positions as a result of increased U.S. pressure following the 1998 U.S. embassy bombings, in Tanzania and Kenya, and the new development of oil fields previously in rebel hands. Sudan also has a territorial dispute with Egypt over the Hala'ib Triangle. Since 2003, the foreign relations of Sudan had centered on the support for ending the Second Sudanese Civil War and condemnation of government support for militias in the war in Darfur.  Sudan has extensive economic relations with China. China obtains ten percent of its oil from Sudan. According to a former Sudanese government minister, China is Sudan's largest supplier of arms.   In December 2005, Sudan became one of the few states to recognize Moroccan sovereignty over Western Sahara.   In 2015, Sudan participated in the Saudi Arabian-led intervention in Yemen against the Shia Houthis and forces loyal to former President Ali Abdullah Saleh,  who was deposed in the 2011 uprising.   Armed Forces  The Sudan People's Armed Forces is the regular forces of Sudan and is divided into five branches; the Sudanese Army, Sudanese Navy (including the Marine Corps), Sudanese Air Force, Border Patrol and the Internal Affairs Defense Force, totalling about 200,000 troops. The military of Sudan has become a well-equipped fighting force, thanks to increasing local production of heavy and advanced arms. These forces are under the command of the National Assembly and its strategic principles include defending Sudan's external borders and preserving internal security.  Since the Darfur crisis in 2004, safe-keeping the central government from the armed resistance and rebellion of paramilitary rebel groups such as the Sudan People's Liberation Army (SPLA), the Sudanese Liberation Army (SLA) and the Justice and Equality Movement (JEM) have been important priorities. While not official, the Sudanese military also uses nomad militias, the most prominent being the Janjaweed, in executing a counter-insurgency war.  Somewhere between 200,000  and 400,000   people have died in the violent struggles.  International organizations in Sudan  Several UN agents are operating in Sudan such as the World Food Program (WFP); the Food and Agriculture Organization of the United Nation (FAO); the United Nations Development Program (UNDP); the United Nations Industrial Development Organizations (UNIDO); the United Nations Children Fund (UNICEF); the United Nations High Commissioner for Refugees (UNHCR); the United Nations Mine Service (UNMAS), the United Nations Office for the Coordination of Humanitarian Affairs (OCHA) and the World Bank. Also present is the International Organization for Migration (IOM).    Since Sudan has experienced civil war for many years, many Non-Governmental Organisations (NGOs) are also involved in humanitarian efforts to help internally displaced people. The NGOs are working in every corner of Sudan, especially in the southern part and western parts. During the civil war, international nongovernmental organizations such as the Red Cross were operating mostly in the south but based in the capital Khartoum.  The attention of NGOs shifted shortly after the war broke out in the western part of the Sudan known as Darfur. The most visible organization in South Sudan is the Operation Lifeline Sudan (OLS) consortium.   Even though most of the international organizations are substantially concentrated in both South Sudan and Darfur region, some of them are working in the northern part as well. For example, the United Nations Industrial Development Organization is successfully operating in Khartoum, the capital. It is mainly funded by the European Union and recently opened more vocational training. The Canadian International Development Agency is operating largely in northern Sudan.   Human rights  Since 1983, a combination of civil war and famine has taken the lives of nearly 2 million people in Sudan.  It is estimated that as many as 200,000 people had been taken into slavery during the Second Sudanese Civil War.   Sudan ranks 172 of 180 countries in terms of freedom of the press according to Reporters Without Borders, yet more curbs of press freedom to report official corruption are planned.   Muslims who convert to Christianity can face the death penalty for apostasy, see Persecution of Christians in Sudan and the death sentence against Mariam Yahia Ibrahim Ishag (who actually was raised as Christian). According to a 2013 UNICEF report, 88% of women in Sudan had undergone female genital mutilation.[http://www.unicef.org/media/files/FGCM_Lo_res.pdf UNICEF 2013], p. 27. Sudan's Personal Status law on marriage has been criticized for restricting women's rights and allowing child marriage.   Evidence suggests that support for female genital mutilation remains high, especially among rural and less well educated groups, although it has been declining in recent years.   Darfur  A letter dated 14 August 2006, from the executive director of Human Rights Watch found that the Sudanese government is both incapable of protecting its own citizens in Darfur and unwilling to do so, and that its militias are guilty of crimes against humanity. The letter added that these human-rights abuses have existed since 2004.  Some reports attribute part of the violations to the rebels as well as the government and the Janjaweed. The U.S. State Department's human-rights report issued in March 2007 claims that \"[a]ll parties to the conflagration committed serious abuses, including widespread killing of civilians, rape as a tool of war, systematic torture, robbery and recruitment of child soldiers.\"   Over 2.8 million civilians have been displaced and the death toll is estimated at 300,000 killed.  Both government forces and militias allied with the government are known to attack not only civilians in Darfur, but also humanitarian workers. Sympathizers of rebel groups are arbitrarily detained, as are foreign journalists, human-rights defenders, student activists and displaced people in and around Khartoum, some of whom face torture. The rebel groups have also been accused in a report issued by the U.S. government of attacking humanitarian workers and of killing innocent civilians.  According to UNICEF, in 2008, there were as many as 6,000 child soldiers in Darfur.   Disputed areas and zones of conflict  *In mid-April 2012, the South Sudanese army captured the Heglig oil field from Sudan. *In mid-April 2012 the Sudanese army recaptured Heglig. *Kafia Kingi and Radom National Park was a part of Bahr el Ghazal in 1956.  Sudan has recognized South Sudan independence according to the borders for 1 January 1956.  *The Abyei Area is disputed region between Sudan and South Sudan. It is currently under Sudan rule. *The states of South Kurdufan and Blue Nile are to hold \"popular consultations\" to determine their constitutional future within the Sudan. *The Hala'ib triangle is disputed region between Sudan and Egypt. It is currently under Egyptian administration. *Bir Tawil is a terra nullius occurring on the border between Egypt and Sudan, claimed by neither state.  Administrative divisions  Sudan is divided into 18 states (wilayat, sing. wilayah). They are further divided into 133 districts.  Regional bodies and areas of conflict  In addition to the states, there also exist regional administrative bodies established by peace agreements between the central government and rebel groups.  *The Darfur Regional Authority was established by the Darfur Peace Agreement to act as a co-ordinating body for the states that make up the region of Darfur. *The Eastern Sudan States Coordinating Council was established by the Eastern Sudan Peace Agreement between the Sudanese Government and the rebel Eastern Front to act as a coordinating body for the three eastern states. *The Abyei Area, located on the border between South Sudan and the Republic of the Sudan, currently has a special administrative status and is governed by an Abyei Area Administration. It was due to hold a referendum in 2011 on whether to join an independent South Sudan or remain part of the Republic of the Sudan.  Economy  In 2010, Sudan was considered the 17th-fastest-growing economy  in the world and the rapid development of the country largely from oil profits even when facing international sanctions was noted by The New York Times in a 2006 article.  Because of the secession of South Sudan, which contained over 80 percent of Sudan's oilfields, Sudan entered a phase of Stagflation, GDP growth slowed to 3.4 percent in 2014, 3.1 percent in 2015 and is projected to recover slowly to 3.7 percent in 2016 while inflation remained as high as 21.8% in .   Even with the oil profits before the secession of South Sudan, Sudan still faced formidable economic problems, and its growth was still a rise from a very low level of per capita output. The economy of Sudan has been steadily growing over the 2000s, and according to a World Bank report the overall growth in GDP in 2010 was 5.2 percent compared to 2009 growth of 4.2 percent. This growth was sustained even during the war in Darfur and period of southern autonomy preceding South Sudan's independence.    Oil was Sudan's main export, with production increasing dramatically during the late 2000s, in the years before South Sudan gained independence in July 2011. With rising oil revenues, the Sudanese economy was booming, with a growth rate of about nine percent in 2007.  The independence of oil-rich South Sudan, however, placed most major oilfields out of the Sudanese government's direct control and oil production in Sudan fell from around 450000 oilbbl/d to under 60000 oilbbl/d. Production has since recovered to hover around 250000 oilbbl/d) for 2014-15.  In order to export oil, South Sudan relies on a pipeline to Port Sudan on Sudan's Red Sea coast, as South Sudan is a landlocked country, as well as the oil refining facilities in Sudan. In August 2012, Sudan and South Sudan agreed a deal to transport South Sudanese oil through Sudanese pipelines to Port Sudan.   The People's Republic of China is one of Sudan's major trading partners, China owns a 40 percent share in the Greater Nile Petroleum Operating Company.  The country also sells Sudan small arms, which have been used in military operations such as the conflicts in Darfur and South Kordofan.   While historically agriculture remains the main source of income and employment hiring of over 80 percent of Sudanese, and makes up a third of the economic sector, oil production drove most of Sudan's post-2000 growth. Currently, the International Monetary Fund IMF is working hand in hand with Khartoum government to implement sound macroeconomic policies.This follows a turbulent period in the 1980s when debt-ridden Sudan's relations with the IMF and World Bank soured, culminating in its eventual suspension from the IMF.  The program has been in place since the early 1990s, and also work-out exchange rate and reserve of foreign exchange. Since 1997, Sudan has been implementing the macroeconomic reforms recommended by the International Monetary Fund.  Agricultural production remains Sudan's most-important sector, employing 80 percent of the workforce and contributing 39 percent of GDP, but most farms remain rain-fed and susceptible to drought. Instability, adverse weather and weak world-agricultural prices ensures that much of the population will remain at or below the poverty line for years.  The Merowe Dam, also known as Merowe Multi-Purpose Hydro Project or Hamdab Dam, is a large construction project in Northern Sudan, about 350 km north of the capital, Khartoum. It is situated on the River Nile, close to the Fourth Cataract where the river divides into multiple smaller branches with large islands in between. Merowe is a city about 40 km downstream from the dam's construction site.  The main purpose of the dam will be the generation of electricity. Its dimensions make it the largest contemporary hydropower project in Africa. The construction of the dam was finished December 2008, supplying more than 90 percent of the population with electricity. Other gas-powered generating stations are operational in Khartoum State and other States.  According to the Corruptions Perception Index, Sudan is one of the most corrupt nations in the world.  According to the Global Hunger Index of 2013, Sudan has an GHI indicator value of 27.0 indicating that the nation has an 'Alarming Hunger Situation' and earning the nation the distinction of being the 5th hungriest nation in the world.  According to the  2015 Human Development Index (HDI) Sudan ranked the 167st place in Human Development, indicating Sudan still has one of the lowest human development in the world.  Almost one-fifth of Sudan's population lives below the international poverty line which means living on less than US$1.25 per day.   Demographics  In Sudan's 2008 census, the population of Northern, Western and Eastern Sudan was recorded to be over 30 million.  This puts present estimates of the population of Sudan after the secession of South Sudan at a little over 30 million people. This is a significant increase over the past two decades as the 1983 census put the total population of Sudan, including present-day South Sudan, at 21.6 million.  The population of Greater Khartoum (including Khartoum, Omdurman, and Khartoum North) is growing rapidly and was recorded to be 5.2 million.  Despite being a refugee-generating country, Sudan also hosts a refugee population. According to the World Refugee Survey 2008, published by the U.S. Committee for Refugees and Immigrants, 310,500 refugees and asylum seekers lived in Sudan in 2007. The majority of this population came from Eritrea (240,400 persons), Chad (45,000), Ethiopia (49,300) and the Central African Republic (2,500).  The Sudanese government UN High Commissioner for Refugees in 2007 forcibly deported at least 1,500 refugees and asylum seekers during the year. Sudan is a party to the 1951 Convention Relating to the Status of Refugees.  Ethnic groups  The Arab presence is estimated at 70% of the Sudanese population. Others include the Arabized ethnic groups of Nubians, Zaghawa, and Copts.    Sudan has 597 groups that speak over 400 different languages and dialects.  Sudanese Arabs are by far the largest ethnic group in Sudan. They are almost entirely Muslims; while the majority speak Sudanese Arabic, some other Arab tribes speak different Arabic dialects like Awadia and Fadnia tribes and Bani Arak tribes who speak Najdi Arabic; and Rufa'a, Bani Hassan, Al-Ashraf, Kinanah and Rashaida who speak Hejazi Arabic. In addition, the Western province comprises various ethnic groups, while a few Arab Bedouin of the northern Rizeigat and others who speak Sudanese Arabic share the same culture and backgrounds of the Sudanese Arabs.  The majority of Arabized and indigenous tribes like the Fur, Zaghawa, Borgo, Masalit and some Baggara ethnic groups, who speak Chadian Arabic, show less cultural integration because of cultural, linguistic and genealogical variations with other Arab and Arabized tribes.   Sudanese Arabs of Northern and Eastern parts descend primarily from migrants from the Arabian Peninsula and intermarriages with the pre-existing indigenous populations of Sudan, especially the Nubian people, who also share a common history with Egypt. Additionally, a few pre-Islamic Arabian tribes existed in Sudan from earlier migrations into the region from Western Arabia, although most Arabs in Sudan are dated from migrations after the 12th century.   The vast majority of Arab tribes in Sudan migrated into the Sudan in the 12th century, intermarried with the indigenous Nubian and other African populations and introduced Islam.   In common with much of the rest of the Arab world, the gradual process of Arabization in Sudan following these Arabian migrations after the 12th century led to the predominance of the Arabic language and aspects of Arab culture, leading to the shift among a majority of Sudanese today to an Arab ethnic identity. This process was furthered both by the spread of Islam and an emigration to Sudan of ethnic Arabs from the Arabian Peninsula, and their intermarriage with the Arabized indigenous peoples of the country.  Sudan consists of numerous other non-Arabic groups, such as the Masalit, Zaghawa, Fulani, Northern Nubians, Nuba, and the Beja people.  Languages  Approximately 70 languages are native to Sudan.   Sudanese Arabic is the most widely spoken language in the country. It is the variety of Arabic, an Afroasiatic language of the Semitic branch spoken throughout Sudan. The dialect has borrowed much vocabulary from local Nilo-Saharan languages (Nobiin, Fur, Zaghawa, Mabang). This has resulted in a variety of Arabic that is unique to Sudan, reflecting the way in which the country has been influenced by Nilotic, Arab, and western cultures. Few nomads in Sudan still have similar accents to the ones in Saudi Arabia. Other important languages include Beja ( Bedawi) along the Red Sea, with perhaps 2 million speakers. It is the only language from the Afroasiatic family's Cushitic branch that is today spoken in the territory.  As with South Sudan, a number of Nilo-Saharan languages are also spoken in Sudan. Fur speakers inhabit the west (Darfur), with perhaps a million speakers. There are likewise various Nubian languages, with over 6 million speakers along the Nile in the north. The most linguistically diverse region in the country is the Nuba Hills area in Kordofan, inhabited by speakers of multiple language families, with Darfur and other border regions being second.  The Niger-Congo family is represented by many of the Kordofanian languages, and Indo-European by Domari (Gypsy) and English. Historically, Old Nubian, Greek, and Coptic were the languages of Christian Nubia, while Meroitic was the language of the Kingdom of Kush, which conquered Egypt.  Sudan also has multiple regional sign languages, which are not mutually intelligible. A 2009 proposal for a unified Sudanese Sign Language had been worked out, but was not widely known.   Prior to 2005, Arabic was the nation's sole official language.  In the 2005 constitution, Sudan's official languages became Arabic and English.  Urban areas  Religion  At the 2011 division which split off South Sudan, over 97% of the population in the remaining Sudan adheres to Islam.  Most Muslims are divided between two groups: Sufi and Salafi (Ansar Al Sunnah) Muslims. Two popular divisions of Sufism, the Ansar and the Khatmia, are associated with the opposition Umma and Democratic Unionist parties, respectively. Only the Darfur region has traditionally been bereft of the Sufi brotherhoods common in the rest of the country.   Significant, long-established groups of Coptic Orthodox and Greek Orthodox Christians exist in Khartoum and other northern cities. Ethiopian and Eritrean Orthodox communities also exist in Khartoum and eastern Sudan, largely made up of refugees and migrants from the past few decades. The largest groups affiliated with Western Christian denominations are Roman Catholic and Anglican. Other Christian groups with smaller followings in the country include the Africa Inland Church, the Armenian Apostolic Church, the Sudan Church of Christ, the Sudan Interior Church, Jehovah's Witnesses, the Sudan Pentecostal Church, the Sudan Evangelical Presbyterian Church (in the North).  Religious identity plays a role in the country's political divisions. Northern and western Muslims have dominated the country's political and economic system since independence. The NCP draws much of its support from Islamists, Salafis/Wahhabis and other conservative Arab Muslims in the north. The Umma Party has traditionally attracted Arab followers of the Ansar sect of Sufism as well as non-Arab Muslims from Darfur and Kordofan. The Democratic Unionist Party (DUP) includes both Arab and non-Arab Muslims in the north and east, especially those in the Khatmia Sufi sect.  Culture  Sudanese culture melds the behaviors, practices, and beliefs of about 578 ethnic groups, communicating in 145 different languages, in a region microcosmic of Africa, with geographic extremes varying from sandy desert to tropical forest. Recent evidence suggests that while most citizens of the country identify strongly with both Sudan and their religion, Arab and African supranational identities are much more polarising and contested.   Music     Sudan has a rich and unique musical culture that has been through chronic instability and repression during the modern history of Sudan. Beginning with the imposition of strict Salafi interpretation of sharia law in 1989, many of the country's most prominent poets, like Mahjoub Sharif, were imprisoned while others, like Mohammed el Amin (returned to Sudan in the mid-1990s) and Mohammed Wardi (returned to Sudan 2003), fled to Cairo. Traditional music suffered too, with traditional Zār ceremonies being interrupted and drums confiscated . At the same time European militaries contributed to the development of Sudanese music by introducing new instruments and styles; military bands, especially the Scottish bagpipes, were renowned, and set traditional music to military march music. The march March Shulkawi No 1, is an example, set to the sounds of the Shilluk.  Sport  The most popular sports in Sudan are athletics (track and field) and football.  Though not as successful as football, handball, basketball, and volleyball are also popular in Sudan.  Sudanese football has a long history.  Sudan was one of the four African nations – the others being Egypt, Ethiopia and South Africa – which formed African football.  Sudan hosted the first African Cup of Nations in 1956, and has won the African Cup Of Nations once, in 1970.  Two years later, the Sudan National Football Team participated in the 1972 Olympic Games in Munich.  The nation's capital is home to the Khartoum League, which is considered to be the oldest football league in Africa.  Sudanese football teams such as Al-Hilal and El-Merreikh are among the nation's strongest teams.  Other teams like Khartoum, El-Neel, Al-Nidal El-Nahud and Hay-Al Arab, are also starting to grow in popularity.  Clothing  Most individual Sudanese wear either traditional or western attire. A traditional garb widely worn in Sudan is the jalabiya, which is a loose-fitting, long-sleeved, collarless ankle-length garment also common to Egypt.  The jalabiya is accompanied by a large scarf worn by women, and the garment may be white, colored, striped, and made of fabric varying in thickness, depending on the season of the year and personal preferences.  A similar garment common to Sudan is the thobe or thawb.  Like the jalabiya, the thawb is a long, tunic-like garment, although it may have a collar, be less loose-fitting, or have shorter sleeves or length than the jalabiya.  The word \"thawb\" means \"garment\" in Arabic, and the thawb itself is the traditional Arab dress for men, although the word may also refer to similar tunic-like garments worn by women.  File:Leila Aboulela (2010).jpg|Sudanese author Leila Aboulela File:Piramidoj en Meroe (Sudano) 006.jpg|Sudanese tourists by the Meroë pyramids in various types of clothing. File:COSV - Darfur 2008 - Market.jpg|Sudanese women in Darfur File:Camel Market (8626639754).jpg|Herders at the camel market on the far west side of Omdurman  Education  Education in Sudan is free and compulsory for children aged 6 to 13 years. Primary education consists of eight years, followed by three years of secondary education. The former educational ladder 6 + 3 + 3 was changed in 1990. The primary language at all levels is Arabic. Schools are concentrated in urban areas; many in the West have been damaged or destroyed by years of civil war. In 2001 the World Bank estimated that primary enrollment was 46 percent of eligible pupils and 21 percent of secondary students. Enrollment varies widely, falling below 20 percent in some provinces. Sudan has 19 universities; instruction is primarily in Arabic. Education at the secondary and university levels has been seriously hampered by the requirement that most males perform military service before completing their education.  The literacy rate is 70.2% of total population, male: 79.6%, female: 60.8%. The Sudanese teddy bear blasphemy case concerns the 2007 arrest, trial, conviction, imprisonment and subsequent release of British schoolteacher Gillian Gibbons, who taught middle-class Muslim and Christian children at Unity High School in Khartoum, Sudan. She was convicted of insulting Islam by allowing her class of six-year-olds to name a teddy bear \"Muhammad\".  Arrest  Gillian Gibbons was born in 1953 and gained a Bachelor of Education degree from the C.F. Mott College of Education in Prescot in 1975 (the college closed in 1992).  Teaching in a school in Sudan, she was arrested for allegedly insulting Islam by allowing her class of six-year-olds to name a teddy bear \"Muhammad\".  Initially it was thought that the complaint had originated from a parent of one of the children at the school.  However, it was later revealed that an office assistant employed at the school, Sara Khawad, had filed the complaint and was the key witness for the prosecution. Khawad was said to be angry with the school's head teacher. \"I was used by the secretary to get at the school\", Gibbons told The Guardian shortly after her release.  Sudan's legal system is strongly influenced by sharia, which prohibits depictions of Muhammad and other prophets. However, many Muslim organizations in other countries publicly condemned the Sudanese over their reactions,  as Gibbons did not set out to cause offence.  The chairman of the Unity School council, Ezikiel Kondo, indicated that he perceived ulterior motives in the affair, \"The thing may be very simple, but they just may make it bigger. It's a kind of blackmail.\"  Conviction and reaction  On 25 November 2007, Gibbons was arrested, interrogated and then put in a cell at a local police station. On 28 November, it was reported that she had been formally charged under Section 125 of the Sudanese Criminal Act, for \"insulting religion, inciting hatred, sexual harassment, racism, prostitution and showing contempt for religious beliefs\". This carries a maximum sentence of imprisonment, a fine, or 40 lashes. On 29 November 2007, Gibbons was found guilty of \"insulting religion;\" one of the three counts against her, and was sentenced to 15 days' imprisonment and deportation.  The Muslim Council of Britain, an umbrella organization of British Muslim groups, including MPACUK  said the punishment was \"completely unjustified\"  and that it was \"appalled\",  and called on the Sudanese government to intervene.   On 30 November approximately 10,000 protesters took to the streets in Khartoum,  some of them waving swords and machetes, demanding Gibbons's execution after imams denounced her during Friday prayers. During the march, chants of \"Shame, shame on the UK\", \"No tolerance – execution\" and \"Kill her, kill her by firing squad\" were heard.  Witnesses reported that government employees were involved in inciting the protests.  Gibbons was then moved to a secret location because of fears for her safety.  Release  In an attempt to push for the release of Gibbons, two British Muslim peers (members of the House of Lords), Lord Ahmed (Labour) and Baroness Warsi (Conservative), visited Sudan with hopes of talking to the country's President Omar al-Bashir.   While the two British politicians were meeting the President on 3 December it was announced that Gibbons was to be released from prison having been granted a Presidential pardon. After eight days in jail, she was released into the care of the British embassy in Khartoum and then returned to Liverpool, after issuing a written statement saying: \"I have a great respect for the Islamic religion and would not knowingly offend anyone.\"    Afterwards  The school was closed until January 2008 for the safety of pupils and staff as reprisals were feared. Blasphemy is the act of insulting or showing contempt or lack of reverence to a deity, to religious or holy persons or sacred things, or toward something considered sacred or inviolable.  [http://www.merriam-webster.com/dictionary/blasphemy Blasphemy] Merriam Webster (July 2013); 1. great disrespect shown to God or to something holy2. irreverence toward something considered sacred or inviolableBlasphemies, in Webster's New World College Dictionary, 4th Ed,1. profane or contemptuous speech, writing, or action concerning God or anything held as divine.2. any remark or action held to be irreverent or disrespectful  Some religions consider blasphemy as a religious crime.[http://www.wsj.com/articles/blasphemy-divide-insults-to-religion-remain-a-capital-crime-in-muslim-lands-1420673864 Blasphemy Divide: Insults to Religion Remain a Capital Crime in Muslim Lands] The Wall Street Journal (January 8, 2015) As of 2012, anti-blasphemy laws existed in 32 countries, while 87 nations had hate speech laws that covered defamation of religion and public expression of hate against a religious group.[http://www.pewforum.org/2012/11/21/laws-penalizing-blasphemy-apostasy-and-defamation-of-religion-are-widespread/ Laws Penalizing Blasphemy, Apostasy and Defamation of Religion are Widespread] Pew Research (November 21, 2012) Anti-blasphemy laws are particularly common in Muslim-majority nations, such as those in the Middle East and North Africa, although they are also present in some Asian and European countries.  Etymology  The word \"blasphemy\" came via Middle English blasfemen and Old French blasfemer and Late Latin blasphemare from Greek βλασφημέω, from βλάπτω \"injure\" and φήμη \"utterance, talk, speech\". From blasphemare also came Old French blasmer, from which English \"blame\" came. Blasphemy: 'from Gk. blasphemia \"a speaking ill, impious speech, slander,\" from blasphemein \"to speak evil of.\"'  \"In the sense of speaking evil of God this word is found in Ps. 74:18; Isa. 52:5; Rom. 2:24; Rev. 13:1, 6; 16:9, 11, 21. It denotes also any kind of calumny, or evil-speaking, or abuse (1 Kings 21:10 LXX; Acts 13:45; 18:6, etc.).\"   Blasphemy laws  In some countries with a state religion, blasphemy is outlawed under the criminal code.  Such laws have led to the persecution, lynchings, murder or arrest of minorities and dissident members, after flimsy accusations. Sources of claims: * [http://www.religiouswatch.com/rwworld.htm World of Intolerance] Religious Watch. Retrieved 5 October 2011  * [http://www.iheu.org/united-nations-will-violate-human-rights-says-new-report-religious-freedoms United Nations will violate Human Rights] International Humanist and Ethical Union. Retrieved 5 October 2011 *  * [http://www.uscirf.gov/index.php?optioncom_content&amp;task view&amp;id1414&amp;Itemid 1 Annual Report of the U.S. Commission on International Religious Freedom] May 2009 (Pakistan, etc.). Retrieved 5 October 2011 * [http://www.unhchr.ch/Huridocda/Huridoca.nsf/TestFrame/af783bb51170854380256739004faac4?Opendocument A call upon states to work toward abolishing the juvenile death penalty] U.N. January 1999. Retrieved 5 October 2011 * [http://report2009.amnesty.org/en/regions/asia-pacific/indonesia Indonesia – Amnesty International Report 2009] Amnesty International. Retrieved 5 October 2011  As of 2012, 33 countries had some form of anti-blasphemy laws in their legal code. Of these, 20 were Muslim-majority nations – Afghanistan, Algeria, Bahrain, Egypt, Indonesia, Iran, Jordan, Kuwait, Malaysia, the Maldives, Morocco, Oman, Pakistan, Qatar, Saudi Arabia, Somalia, Sudan, Turkey, the UAE and the Western Sahara. The other twelve nations with anti-blasphemy laws in 2012 were Denmark, Finland, Germany, Greece, India, Ireland, Italy, Lebanon, Malta, the Netherlands (abolished in 2014), Nigeria, Poland and Singapore. Blasphemy was treated as a capital crime (death penalty) in many Muslim nations.  Other countries have removed the ban of blasphemy. France did so in 1881 to allow freedom of religion and freedom of the press and blasphemy was abolished or repealed in Sweden in 1970, Norway with Acts in 2009 and 2015, the Netherlands in 2014, and Iceland in 2015.  Where blasphemy is banned, it can be either some laws which directly punish religious blasphemy,  or some laws that allow those who are offended by blasphemy to punish blasphemers. Those laws may condone penalties or retaliation for blasphemy under the labels of blasphemous libel,  expression of opposition, or \"vilification,\" of religion or of some religious practices,   religious insult,  or hate speech.   Christianity  Christian theology condemns blasphemy. It is spoken of in Mark 3:29, where blaspheming the Holy Spirit is spoken of as unforgivable—the eternal sin. However, there is dispute over what form this blasphemy may take and whether it qualifies as blasphemy in the conventional sense; and over the meaning of \"unforgivable\". In 2 Kings 18, the Rabshakeh gave the word from the king of Assyria, dissuading trust in the Lord, asserting that God is no more able to deliver than all the gods of the land.  In , Jesus told a paralytic \"your sins are forgiven\" and was accused of blasphemy.  Blasphemy has been condemned as a serious, or even the most serious, sin by the major creeds and Church theologians (apostasy and infidelity [unbelief] were generally considered to be the gravest sins, with heresy a greater sin than blasphemy, cf. Thomas Aquinas' Summa Theologiae).  *Thomas Aquinas says that “[if] we compare murder and blasphemy as regards the objects of those sins, it is clear that blasphemy, which is a sin committed directly against God, is more grave than murder, which is a sin against one's neighbor. On the other hand, if we compare them in respect of the harm wrought by them, murder is the graver sin, for murder does more harm to one's neighbor, than blasphemy does to God.”  *The Book of Concord calls blasphemy “the greatest sin that can be outwardly committed”.  *The Baptist Confession of Faith says: “Therefore, to swear vainly or rashly by the glorious and awesome name of God…is sinful, and to be regarded with disgust and detestation. …For by rash, false, and vain oaths, the Lord is provoked and because of them this land mourns.”  *The Heidelberg Catechism answers question 100 about blasphemy by stating that “no sin is greater or provokes God's wrath more than the blaspheming of His Name”.  *The Westminster Larger Catechism explains that “The sins forbidden in the third commandment are, the abuse of it in an ignorant, vain, irreverent, profane...mentioning...by blasphemy...to profane jests, ...vain janglings, ...to charms or sinful lusts and practices.”  *Calvin found it intolerable “when a person is accused of blasphemy, to lay the blame on the ebullition of passion, as if God were to endure the penalty whenever we are provoked.”   Catholic prayers and reparations for blasphemy  In the Catholic Church, there are specific prayers and devotions as Acts of Reparation for blasphemy.  For instance, The Golden Arrow Holy Face Devotion (Prayer) first introduced by Sister Marie of St Peter in 1844 is recited \"in a spirit of reparation for blasphemy\". This devotion (started by Sister Marie and then promoted by the Venerable Leo Dupont) was approved by Pope Leo XIII in 1885.  The Raccolta Catholic prayer book includes a number of such prayers.  The Five First Saturdays devotions are done with the intention in the heart of making reparation to the Blessed Mother for blasphemies against her, her name and her holy initiatives.  The Holy See has specific \"Pontifical organizations\" for the purpose of the reparation of blasphemy through Acts of Reparation to Jesus Christ, e.g. the Pontifical Congregation of the Benedictine Sisters of the Reparation of the Holy Face.   Punishment  The most common punishment for blasphemers was capital punishment through hanging or stoning, justified by the words of .   The last person hanged for blasphemy in Great Britain was Thomas Aikenhead aged 20, in Scotland in 1697. He was prosecuted for denying the veracity of the Old Testament and the legitimacy of Christ's miracles.   Blasphemy (and blasphemous libel) remained a criminal offence in England &amp; Wales until the passing of the Criminal Justice and Immigration Act 2008, but was last successfully prosecuted in the case of Whitehouse v Lemon (1977), where the defendant was fined £500 and given a nine month suspended prison sentence (the publisher was also fined £1,000).  Islam  In Islamic literature, blasphemy is of many types, and there are many different words for it: sabb (insult) and shatm (abuse, vilification), takdhib or tajdif (denial), iftira (concoction), la`n or la'ana (curse) and ta`n (accuse, defame).  In Islamic literature, the term blasphemy sometimes also overlaps with infidel (kufr, disbeliever), fisq (depravity), isa'ah (insult), and ridda (apostasy).  There are a number of surah in Qur'an and sunnah in hadith relating to blasphemy, from which Quranic verses 5:33-34 and 33:57-61 have been most commonly used in Islamic history to justify and punish blasphemers.Siraj Khan, Blasphemy against the Prophet, in Muhammad in History, Thought, and Culture (ed: Coeli Fitzpatrick Ph.D., Adam Hani Walker), ISBN 978-1610691772, pp. 59-67 For example,  A variety of actions, speeches or behavior can constitute blasphemy in Islam. Some examples include insulting or cursing Allah, or Muhammad; mockery or disagreeable behavior towards beliefs and customs common in Islam; criticism of Islam's holy personages. Apostasy, that is, the act of abandoning Islam, or finding faults or expressing doubts about Allah (ta'til) and Qur'an, rejection of Muhammed or any of his teachings, or leaving the Muslim community to become an atheist is a form of blasphemy. Questioning religious opinions (fatwa) and normative Islamic views can also be construed as blasphemous. Improper dress, drawing offensive cartoons, tearing or burning holy literature of Islam, creating or using music or painting or video or novels to mock or criticize Muhammad are some examples of blasphemous acts.     In the context of those who are non-Muslims, the concept of blasphemy includes all aspects of infidelity (kufr).  Blasphemy in different Islamic schools of jurisprudence  The Quran does not explicitly mention any worldly punishment for blasphemy (sabb allah or sabb al-rasul), as it does for apostasy (riddah). Islamic jurisprudence (fiqh) of Sunni and Shia madhabs have declared different punishments for the religious crime of blasphemy, and they vary between schools. These are as follows:    Hanafi – views blasphemy as synonymous with apostasy, and therefore, accepts the repentance of apostates. Those who refuse to repent, their punishment is death if the blasphemer is a Muslim man, and if the blasphemer is a woman, she must be imprisoned with coercion (beating) till she repents and returns to Islam.  If a non-Muslim commits blasphemy, his punishment must be a tazir (discretionary, can be death, arrest, caning, etc.).   Maliki – view blasphemy as an offense distinct from, and more severe than apostasy. Death is mandatory in cases of blasphemy for Muslim men, and repentance is not accepted. For women, death is not the punishment suggested, but she is arrested and punished till she repents and returns to Islam or dies in custody.   A non-Muslim who commits blasphemy against Islam must be punished; however, the blasphemer can escape punishment by converting and becoming a devout Muslim.  Hanbali – view blasphemy as an offense distinct from, and more severe than apostasy. Death is mandatory in cases of blasphemy, for both Muslim men and women, and repentance is not accepted.   Shafi’i – recognizes blasphemy as a separate offense from apostasy, but accepts the repentance of blasphemers. If the blasphemer does not repent, the punishment is death.L Wiederhold L, Blasphemy against the Prophet Muhammad and his companions (sabb al-rasul, sabb al-sahabah) : The introduction of the topic into Shafi'i legal literature, Jrnl of Sem Studies, Oxford University Press, 42(1), pp. 39-70  Ja'fari (Shia) – views blasphemy against Islam, the Prophet, or any of the Imams, to be punishable with death, if the blasphemer is a Muslim.  In case the blasphemer is a non-Muslim, he is given a chance to convert to Islam, or else killed.   Some jurists suggest that the sunnah in hadith  provide a basis for a death sentence for the crime of blasphemy, even if someone claims not to be an apostate, but has committed the crime of blasphemy. Some   modern Muslim scholars contest that Islam supports blasphemy law, stating that Muslim jurists made the offense part of Sharia.  The Islamic law considers blasphemy against Muhammad a more severe offense than blasphemy against God. Repentance can lead to forgiveness by God when God is blasphemed, however since Muhammad is no longer alive, forgiveness is not possible when Muhammad is blasphemed, and the Muslim community must punish his blasphemy by avenging blasphemer's death.    In Islamic jurisprudence, Kitab al Hudud and Taz'ir cover punishment for blasphemous acts.   The penalties for blasphemy can include fines, imprisonment, flogging, amputation, hanging, or beheading.  Many nations prescribe and carry out the death penalty for apostasy, a similarly motivated action, and Pakistan and Egypt demand execution for some blasphemers. Muslim clerics may call for revenge against an alleged blasphemer by issuing a fatwa (legal ruling), or simply provide guidelines on behaviors and lifestyle that is blasphemous. For example, in Malaysia, Islamic scholars issued a fatwa declaring yoga as blasphemous, because yoga is a form of spiritual practice in Hinduism.     Notable cases and debate on blasphemy  As of 2011, all Islamic majority nations, worldwide, had criminal laws on blasphemy. Over 125 non-Muslim nations worldwide did not have any laws relating to blasphemy.   In Islamic nations, thousands of individuals have been arrested and punished for blasphemy of Islam.   Moreover, several Islamic nations have argued in the United Nations that blasphemy against Muhammad is unacceptable, and that laws should be passed worldwide to proscribe it. In September 2012, the Organisation of Islamic Conference (OIC), who has sought for a universal blasphemy law over a decade, revived these attempts. Separately, the Human Rights Commission of the OIC called for \"an international code of conduct for media and social media to disallow the dissemination of incitement material\". Non-Muslim nations that do not have blasphemy laws, have pointed to abuses of blasphemy laws in Islamic nations, and have disagreed.     Notwithstanding, controversies raised in the non-Muslim world, especially over depictions of Muhammad, questionning issues relating to the religious offense to minorities in secular countries. A key case was the 1989 fatwa against English author Salman Rushdie for his 1988 book entitled The Satanic Verses, the title of which refers to an account that Muhammad, in the course of revealing the Quran, received a revelation from Satan and incorporated it therein until made by Allah to retract it. Several translators of his book into foreign languages have been murdered.  In the UK, many supporters of Salman Rushdie and his publishers advocated unrestricted freedom of expression and the abolition of the British blasphemy laws. As a response, Richard Webster wrote A Brief History of Blasphemy in which he discussed freedom to publish books that may cause distress to minorities.  Notable cases in Muslim countries   In September 2007, Bangladeshi cartoonist Arifur Rahman depicted in the daily Prothom Alo a boy holding a cat conversing with an elderly man. The man asks the boy his name, and he replies \"Babu\". The older man chides him for not mentioning the name of Muhammad before his name. He then points to the cat and asks the boy what it is called, and the boy replies \"Muhammad the cat\". Bangladesh does not have a blasphemy law but groups said the cartoon ridiculed Muhammad, torched copies of the paper and demanded that Rahman be executed for blasphemy. As a result, Bangladeshi police detained Rahman and confiscated copies of Prothom Alo in which the cartoon appeared.  In November 2007, British schoolteacher Gillian Gibbons, who taught middle-class Muslim and Christian children in Sudan, was convicted of insulting Islam by allowing her class of six-year-olds to name a teddy bear \"Muhammad\". On 30 November, thousands of protesters took to the streets in Khartoum,  demanding Gibbons's execution after imams denounced her during Friday prayers. Many Muslim organizations in other countries publicly condemned the Sudanese over their reactions  as Gibbons did not set out to cause offence.  She was released into the care of the British embassy in Khartoum and left Sudan after two British Muslim members of the House of Lords met President Omar al-Bashir.    In January 2011, talking about the Asia Bibi blasphemy case, Pakistani politician Salmaan Taseer expressed views opposing the country's blasphemy law. He was then killed by one of his bodyguards, Malik Mumtaz Qadri. After the murder, hundreds of clerics voiced support for the crime and urged a general boycott of Taseer's funeral.  However, hundreds of people turned up for his funeral.   Supporters of Mumtaz Qadri blocked police attempting to bring him to the courts and some showered him with rose petals.  In October, Qadri was sentenced to death for murdering Taseer.  Minority Affairs Minister Shahbaz Bhatti said that he was first threatened with death in June 2010 when he was told that he would be beheaded if he attempted to change the blasphemy laws. On 2 March 2011, he was shot dead by gunmen, presumably because of his position on the blasphemy laws. Some expressed concerns that the assassinations of Taseer and Bhatti may dissuade other Pakistani politicians from speaking out against the blasphemy laws.  Protests against depicting Muhammad  In December 1999, the German news magazine Der Spiegel printed on the same page pictures of “moral apostles” Muhammad, Jesus, Confucius, and Immanuel Kant. Few weeks later, the magazine received protests, petitions and threats against publishing depictions of Muhammad. The Turkish TV-station Show TV broadcast the telephone number of an editor who then received daily calls.  A picture of Muhammad had been published by the magazine once before in 1998 in a special edition on Islam, without evoking similar protests.   In 2008, several Muslims protested against the inclusion of Muhammad's depictions in the English Wikipedia's Muhammad article.   An online petition opposed a reproduction of a 17th-century Ottoman copy of a 14th-century Ilkhanate manuscript image depicting Muhammad as he prohibited Nasīʾ.  Jeremy Henzell-Thomas of The American Muslim deplored the petition as one of \"these mechanical knee-jerk reactions [which] are gifts to those who seek every opportunity to decry Islam and ridicule Muslims and can only exacerbate a situation in which Muslims and the Western media seem to be locked in an ever-descending spiral of ignorance and mutual loathing.\"   The Muhammad cartoons crisis  In September 2005, in the tense aftermath of the assassination of Dutch film director Theo van Gogh, killed for his views on Islam, Danish news service Ritzau published an article discussing the difficulty encountered by the writer Kåre Bluitgen to find an illustrator to work on his children's book The Qur'an and the life of the Prophet Muhammad (Danish:Koranen og profeten Muhammeds liv).  He said that three artists declined his proposal, which was interpreted as evidence of self-censorship out of fear of reprisals, which led to much debate in Denmark.   Jyllands-Posten editor Flemming Rose invited professional illustrators to depict Muhammad, as an experiment to see how much they felt threatened. One cartoon by Kurt Westergaard depicted Muhammad with a bomb in his turban, which resulted in withdrawal of the ambassadors of Libya, Saudi Arabia and Syria from Denmark, as well as consumer boycotts of Danish products in a number of Islamic countries.  Reviewing the experiment, Danish scholar Peter Hervik wrote that it disproved the idea that self-censorship was a serious problem in Denmark, because the overwhelming majority of cartoonists had either responded positively or refused for contractual or philosophical reasons. Furthermore, the Danish newspaper Politiken stated that they asked Bluitgen to put them in touch with the artists who reportedly declined his proposal, so his claim that none of them dared to work with him could be proved, but that Bluitgen refused, making his initial claim impossible to confirm.  Commenting the cartoon that initiated the diplomatic crisis, American scholar John Woods expressed worries about Westergaard-like association of the Prophet with terrorism, that was beyond satire and offensive to a vast majority of Muslims. Hervik also deplored that the newspaper's \"desire to provoke and insult Danish Muslims exceeded the wish to test the self-censorship of Danish cartoonists.\"  An online caricature competition was announced in support of Jyllands-Posten in Sweden but foreign minister Laila Freivalds pressured the provider to shut the page down. In 2006, her involvement was revealed to the public and she had to resign. In France, satirical magazine Charlie Hebdo republished the Jyllands-Posten cartoons of Muhammad and was taken to court by Islamic organisations under French hate speech laws; it was ultimately acquitted of charges that it incited hatred.  In July 2007, art galleries in Sweden declined to show drawings of artist Lars Vilks depicting Muhammad as a roundabout dog. While Swedish newspapers had published them already, the drawings gained international attention after the newspaper Nerikes Allehanda published one of them on August 18 to illustrate an editorial on the \"right to ridicule a religion\".English translation:  This particular publication led to official condemnations from Iran, Pakistan, Afghanistan, Egypt and Jordan,  and by the inter-governmental Organisation of the Islamic Conference.  In 2006, the American comedy program South Park, which had previously depicted Muhammad as a superhero (\"Super Best Friends)\"  and has depicted Muhammad in the opening sequence since then,  attempted to satirize the Danish newspaper incident. They intended to show Muhammad handing a salmon helmet to Family Guy character Peter Griffin (\"Cartoon Wars Part II\"). However, Comedy Central who airs the series rejected the scene and its creators reacted by satirizing double standard for broadcast acceptability. In April 2010, animators Trey Parker and Matt Stone planned to make episodes satirizing controversies over previous episodes, including Comedy Central's refusal to show images of Muhammad following the 2005 Danish controversy. After they faced Internet death threats, Comedy Central modified their version of the episode, obscuring all images and bleeping all references to Muhammad. In reaction, cartoonist Molly Norris created the Everybody Draw Mohammed Day, claiming that if many people draw pictures of Muhammad, threats to murder them all would become unrealistic.  Judaism   states that he that blasphemes the name of the LORD \"shall surely be put to death\". In Jewish law the only form of blasphemy which is punishable by death is blaspheming the Ineffable Name.   The Seven Laws of Noah, which Judaism sees as applicable to all people, prohibit blasphemy.   The United Nations  In the early 21st century, blasphemy became an issue in the United Nations. The United Nations passed several resolutions which called upon the world to take action against the \"defamation of religions\".   The campaign for worldwide criminal penalties for the \"defamation of religions\" had been spearheaded by Organisation of Islamic Cooperation on behalf of the United Nations' large Muslim bloc. The campaign ended in 2011 when the proposal was withdrawn in Geneva, in the Human Rights Council because of lack of support, marking an end to the effort to establish worldwide blasphemy strictures along the lines of those in Pakistan, Saudi Arabia, and Iran. This resolution had passed every year since 1999, in the United Nations, with declining number of \"yes\" votes with each successive year.   In July, 2011, the UN Human Rights Committee released a 52-paragraph statement, General Comment 34 on the International Covenant on Civil and Political Rights (ICCPR) 1976, concerning freedoms of opinion and expression.  Paragraph 48 states:   Colloquial usage  In contemporary language, the notion of blasphemy is often used hyperbolically. This usage has garnered some interest among linguists recently, and the word 'blasphemy' is a common case used for illustrative purposes.</td>\n",
              "      <td>khartoum</td>\n",
              "      <td>In what Sudan city was Gillian Gibbons imprisoned for the blasphemous naming of a teddy bear incident?</td>\n",
              "      <td>[Kartoum, Khartoum, SU, Al Kharţūm, Al-Khartoum, Sudan, Khartoum (city), Al-Kharṭūm, Khartoum, Capital of Sudan, Chartum, Al Khartum, Khartum, Al Khurtum, Al-Khartum, Khartoum, Sudan, El Khartum, Khartoum, The Sudan]</td>\n",
              "    </tr>\n",
              "    <tr>\n",
              "      <th>2</th>\n",
              "      <td></td>\n",
              "      <td>fleet street</td>\n",
              "      <td>In which London street does fictional character Sweeney Todd have his barber shop?</td>\n",
              "      <td>[Fleet Street, Fleet Street, London]</td>\n",
              "    </tr>\n",
              "  </tbody>\n",
              "</table>"
            ],
            "text/plain": [
              "<IPython.core.display.HTML object>"
            ]
          },
          "metadata": {
            "tags": []
          }
        }
      ]
    },
    {
      "cell_type": "markdown",
      "metadata": {
        "id": "dqcviRfJw-3M"
      },
      "source": [
        "Great 🙂 - that's the structure that we wanted! Looking at the examples should also make it clear how large the context of the model can be! Also note that some samples can have an empty context. For those samples it is impossible to extract the correct answer from the context since the context is empty.\n",
        "\n",
        "We filter out those data samples for which we can use the convenient `.filter()` function of `datasets` again."
      ]
    },
    {
      "cell_type": "code",
      "metadata": {
        "colab": {
          "base_uri": "https://localhost:8080/",
          "height": 139,
          "referenced_widgets": [
            "12b030e5779c4177b76f6edd78fbe8e3",
            "a10fb126fb9f4e42a22bd3c2e3301c32",
            "838d851498a54162bfb98647d6cec0f5",
            "7276482512b24cd5b93db231cf734429",
            "5e1387416684460782ab3decfc18a3e4",
            "ca6cfdac053947a091ac5a2214f2007b",
            "7828be992b3c4a2da1cb37db968cc122",
            "38d4163986c44fe4b34510ff43ecbd0e"
          ]
        },
        "id": "j0vSycFKxc0O",
        "outputId": "c37ec8c2-b0b4-453f-8c00-88e2f4819059"
      },
      "source": [
        "validation_dataset = validation_dataset.filter(lambda x: len(x[\"context\"]) > 0)\n",
        "# check out how many samples are left\n",
        "validation_dataset"
      ],
      "execution_count": null,
      "outputs": [
        {
          "output_type": "display_data",
          "data": {
            "application/vnd.jupyter.widget-view+json": {
              "model_id": "12b030e5779c4177b76f6edd78fbe8e3",
              "version_minor": 0,
              "version_major": 2
            },
            "text/plain": [
              "HBox(children=(FloatProgress(value=0.0, max=1.0), HTML(value='')))"
            ]
          },
          "metadata": {
            "tags": []
          }
        },
        {
          "output_type": "stream",
          "text": [
            "\n"
          ],
          "name": "stdout"
        },
        {
          "output_type": "execute_result",
          "data": {
            "text/plain": [
              "Dataset({\n",
              "    features: ['context', 'norm_target', 'question', 'targets'],\n",
              "    num_rows: 531\n",
              "})"
            ]
          },
          "metadata": {
            "tags": []
          },
          "execution_count": 11
        }
      ]
    },
    {
      "cell_type": "markdown",
      "metadata": {
        "id": "IMh8EvQoxsrF"
      },
      "source": [
        "Looks like more or less half of our examples have no context and are now filtered out. Let's think about the evaluation on *BigBird* now.\n",
        "\n",
        "*BigBird* is able to process inputs of up to a length of **4096** tokens, has a vocab size of *ca.* 50K tokens, and makes use of the [**sentencepiece**](https://github.com/google/sentencepiece) tokenizer.\n",
        "\n",
        "Given this information, we can assume that a single token of *BigBird*'s vocabulary represents roughly 4 characters on average.\n",
        "\n",
        "To better understand how important it is to take the full context into account, we create a second `\"shorter\"` dataset. This `short_validation_dataset` only consists of data samples that do **not** exceed 4 * 4096 characters, which corresponds *ca.* to *BigBird*'s maximum length of 4096 tokens.\n",
        "\n",
        "Again we can apply the convenient `.filter()` function."
      ]
    },
    {
      "cell_type": "code",
      "metadata": {
        "colab": {
          "base_uri": "https://localhost:8080/",
          "height": 139,
          "referenced_widgets": [
            "5baf3819739347ab81d94fb03858973c",
            "f100b73379b14ba58e0e4bbea67a2877",
            "ce549c99222646c99ec0ea7b0a2cc527",
            "785185abd95b4f1db6a9415c1d2ca31b",
            "f7fa9cb773e64d0ca8d786af6ba30a8e",
            "d3edcc2a61854c98bf0e5b8e649bfe26",
            "89728a9989d4442081a87dd904ac2ad1",
            "7212d27ac5cc4a45a0728013271c01ca"
          ]
        },
        "id": "4ebRyrOmy4br",
        "outputId": "6e457e1f-d607-4013-fd0b-8008f769c8cf"
      },
      "source": [
        "short_validation_dataset = validation_dataset.filter(lambda x: (len(x['question']) + len(x['context'])) < 4 * 4096)\n",
        "short_validation_dataset\n"
      ],
      "execution_count": null,
      "outputs": [
        {
          "output_type": "display_data",
          "data": {
            "application/vnd.jupyter.widget-view+json": {
              "model_id": "5baf3819739347ab81d94fb03858973c",
              "version_minor": 0,
              "version_major": 2
            },
            "text/plain": [
              "HBox(children=(FloatProgress(value=0.0, max=1.0), HTML(value='')))"
            ]
          },
          "metadata": {
            "tags": []
          }
        },
        {
          "output_type": "stream",
          "text": [
            "\n"
          ],
          "name": "stdout"
        },
        {
          "output_type": "execute_result",
          "data": {
            "text/plain": [
              "Dataset({\n",
              "    features: ['context', 'norm_target', 'question', 'targets'],\n",
              "    num_rows: 127\n",
              "})"
            ]
          },
          "metadata": {
            "tags": []
          },
          "execution_count": 12
        }
      ]
    },
    {
      "cell_type": "markdown",
      "metadata": {
        "id": "m5MyFEZqzwZ-"
      },
      "source": [
        "Interesting! We can see that only 4159 of the 16504 examples have less than $4 \\times 4096 = 16384$ characters...\n",
        "\n",
        "Most examples seem to have a very long context which will have to be cut to BigBird's maximum length when evaluating the full dataset.\n",
        "\n",
        "Great, we have now preprocessed the complete dataset `validation_dataset` and a shorter version `short_validation_dataset` that only consists of data samples $< 4096$ tokens."
      ]
    },
    {
      "cell_type": "markdown",
      "metadata": {
        "id": "WDPrsXOTV6R2"
      },
      "source": [
        "### Evaluation\n",
        "\n",
        "It's time to evaluate *BigBird* on *TriviaQA* 🚀. `BigBirdTokenizer` requires the `sentencepiece` library, so let's install this first."
      ]
    },
    {
      "cell_type": "code",
      "metadata": {
        "colab": {
          "base_uri": "https://localhost:8080/"
        },
        "id": "wNYKpdyRChkE",
        "outputId": "69c13c05-fe70-4b79-dda5-bd0568c760b2"
      },
      "source": [
        "!pip install sentencepiece"
      ],
      "execution_count": null,
      "outputs": [
        {
          "output_type": "stream",
          "text": [
            "Collecting sentencepiece\n",
            "\u001b[?25l  Downloading https://files.pythonhosted.org/packages/f5/99/e0808cb947ba10f575839c43e8fafc9cc44e4a7a2c8f79c60db48220a577/sentencepiece-0.1.95-cp37-cp37m-manylinux2014_x86_64.whl (1.2MB)\n",
            "\r\u001b[K     |▎                               | 10kB 18.2MB/s eta 0:00:01\r\u001b[K     |▌                               | 20kB 18.8MB/s eta 0:00:01\r\u001b[K     |▉                               | 30kB 15.0MB/s eta 0:00:01\r\u001b[K     |█                               | 40kB 13.6MB/s eta 0:00:01\r\u001b[K     |█▍                              | 51kB 8.9MB/s eta 0:00:01\r\u001b[K     |█▋                              | 61kB 9.5MB/s eta 0:00:01\r\u001b[K     |██                              | 71kB 9.5MB/s eta 0:00:01\r\u001b[K     |██▏                             | 81kB 10.3MB/s eta 0:00:01\r\u001b[K     |██▌                             | 92kB 9.8MB/s eta 0:00:01\r\u001b[K     |██▊                             | 102kB 6.6MB/s eta 0:00:01\r\u001b[K     |███                             | 112kB 6.6MB/s eta 0:00:01\r\u001b[K     |███▎                            | 122kB 6.6MB/s eta 0:00:01\r\u001b[K     |███▌                            | 133kB 6.6MB/s eta 0:00:01\r\u001b[K     |███▉                            | 143kB 6.6MB/s eta 0:00:01\r\u001b[K     |████                            | 153kB 6.6MB/s eta 0:00:01\r\u001b[K     |████▍                           | 163kB 6.6MB/s eta 0:00:01\r\u001b[K     |████▋                           | 174kB 6.6MB/s eta 0:00:01\r\u001b[K     |█████                           | 184kB 6.6MB/s eta 0:00:01\r\u001b[K     |█████▏                          | 194kB 6.6MB/s eta 0:00:01\r\u001b[K     |█████▌                          | 204kB 6.6MB/s eta 0:00:01\r\u001b[K     |█████▊                          | 215kB 6.6MB/s eta 0:00:01\r\u001b[K     |██████                          | 225kB 6.6MB/s eta 0:00:01\r\u001b[K     |██████▎                         | 235kB 6.6MB/s eta 0:00:01\r\u001b[K     |██████▌                         | 245kB 6.6MB/s eta 0:00:01\r\u001b[K     |██████▉                         | 256kB 6.6MB/s eta 0:00:01\r\u001b[K     |███████                         | 266kB 6.6MB/s eta 0:00:01\r\u001b[K     |███████▍                        | 276kB 6.6MB/s eta 0:00:01\r\u001b[K     |███████▋                        | 286kB 6.6MB/s eta 0:00:01\r\u001b[K     |████████                        | 296kB 6.6MB/s eta 0:00:01\r\u001b[K     |████████▏                       | 307kB 6.6MB/s eta 0:00:01\r\u001b[K     |████████▍                       | 317kB 6.6MB/s eta 0:00:01\r\u001b[K     |████████▊                       | 327kB 6.6MB/s eta 0:00:01\r\u001b[K     |█████████                       | 337kB 6.6MB/s eta 0:00:01\r\u001b[K     |█████████▎                      | 348kB 6.6MB/s eta 0:00:01\r\u001b[K     |█████████▌                      | 358kB 6.6MB/s eta 0:00:01\r\u001b[K     |█████████▉                      | 368kB 6.6MB/s eta 0:00:01\r\u001b[K     |██████████                      | 378kB 6.6MB/s eta 0:00:01\r\u001b[K     |██████████▍                     | 389kB 6.6MB/s eta 0:00:01\r\u001b[K     |██████████▋                     | 399kB 6.6MB/s eta 0:00:01\r\u001b[K     |███████████                     | 409kB 6.6MB/s eta 0:00:01\r\u001b[K     |███████████▏                    | 419kB 6.6MB/s eta 0:00:01\r\u001b[K     |███████████▍                    | 430kB 6.6MB/s eta 0:00:01\r\u001b[K     |███████████▊                    | 440kB 6.6MB/s eta 0:00:01\r\u001b[K     |████████████                    | 450kB 6.6MB/s eta 0:00:01\r\u001b[K     |████████████▎                   | 460kB 6.6MB/s eta 0:00:01\r\u001b[K     |████████████▌                   | 471kB 6.6MB/s eta 0:00:01\r\u001b[K     |████████████▉                   | 481kB 6.6MB/s eta 0:00:01\r\u001b[K     |█████████████                   | 491kB 6.6MB/s eta 0:00:01\r\u001b[K     |█████████████▍                  | 501kB 6.6MB/s eta 0:00:01\r\u001b[K     |█████████████▋                  | 512kB 6.6MB/s eta 0:00:01\r\u001b[K     |█████████████▉                  | 522kB 6.6MB/s eta 0:00:01\r\u001b[K     |██████████████▏                 | 532kB 6.6MB/s eta 0:00:01\r\u001b[K     |██████████████▍                 | 542kB 6.6MB/s eta 0:00:01\r\u001b[K     |██████████████▊                 | 552kB 6.6MB/s eta 0:00:01\r\u001b[K     |███████████████                 | 563kB 6.6MB/s eta 0:00:01\r\u001b[K     |███████████████▎                | 573kB 6.6MB/s eta 0:00:01\r\u001b[K     |███████████████▌                | 583kB 6.6MB/s eta 0:00:01\r\u001b[K     |███████████████▉                | 593kB 6.6MB/s eta 0:00:01\r\u001b[K     |████████████████                | 604kB 6.6MB/s eta 0:00:01\r\u001b[K     |████████████████▍               | 614kB 6.6MB/s eta 0:00:01\r\u001b[K     |████████████████▋               | 624kB 6.6MB/s eta 0:00:01\r\u001b[K     |████████████████▉               | 634kB 6.6MB/s eta 0:00:01\r\u001b[K     |█████████████████▏              | 645kB 6.6MB/s eta 0:00:01\r\u001b[K     |█████████████████▍              | 655kB 6.6MB/s eta 0:00:01\r\u001b[K     |█████████████████▊              | 665kB 6.6MB/s eta 0:00:01\r\u001b[K     |██████████████████              | 675kB 6.6MB/s eta 0:00:01\r\u001b[K     |██████████████████▎             | 686kB 6.6MB/s eta 0:00:01\r\u001b[K     |██████████████████▌             | 696kB 6.6MB/s eta 0:00:01\r\u001b[K     |██████████████████▉             | 706kB 6.6MB/s eta 0:00:01\r\u001b[K     |███████████████████             | 716kB 6.6MB/s eta 0:00:01\r\u001b[K     |███████████████████▎            | 727kB 6.6MB/s eta 0:00:01\r\u001b[K     |███████████████████▋            | 737kB 6.6MB/s eta 0:00:01\r\u001b[K     |███████████████████▉            | 747kB 6.6MB/s eta 0:00:01\r\u001b[K     |████████████████████▏           | 757kB 6.6MB/s eta 0:00:01\r\u001b[K     |████████████████████▍           | 768kB 6.6MB/s eta 0:00:01\r\u001b[K     |████████████████████▊           | 778kB 6.6MB/s eta 0:00:01\r\u001b[K     |█████████████████████           | 788kB 6.6MB/s eta 0:00:01\r\u001b[K     |█████████████████████▎          | 798kB 6.6MB/s eta 0:00:01\r\u001b[K     |█████████████████████▌          | 808kB 6.6MB/s eta 0:00:01\r\u001b[K     |█████████████████████▉          | 819kB 6.6MB/s eta 0:00:01\r\u001b[K     |██████████████████████          | 829kB 6.6MB/s eta 0:00:01\r\u001b[K     |██████████████████████▎         | 839kB 6.6MB/s eta 0:00:01\r\u001b[K     |██████████████████████▋         | 849kB 6.6MB/s eta 0:00:01\r\u001b[K     |██████████████████████▉         | 860kB 6.6MB/s eta 0:00:01\r\u001b[K     |███████████████████████▏        | 870kB 6.6MB/s eta 0:00:01\r\u001b[K     |███████████████████████▍        | 880kB 6.6MB/s eta 0:00:01\r\u001b[K     |███████████████████████▊        | 890kB 6.6MB/s eta 0:00:01\r\u001b[K     |████████████████████████        | 901kB 6.6MB/s eta 0:00:01\r\u001b[K     |████████████████████████▎       | 911kB 6.6MB/s eta 0:00:01\r\u001b[K     |████████████████████████▌       | 921kB 6.6MB/s eta 0:00:01\r\u001b[K     |████████████████████████▊       | 931kB 6.6MB/s eta 0:00:01\r\u001b[K     |█████████████████████████       | 942kB 6.6MB/s eta 0:00:01\r\u001b[K     |█████████████████████████▎      | 952kB 6.6MB/s eta 0:00:01\r\u001b[K     |█████████████████████████▋      | 962kB 6.6MB/s eta 0:00:01\r\u001b[K     |█████████████████████████▉      | 972kB 6.6MB/s eta 0:00:01\r\u001b[K     |██████████████████████████▏     | 983kB 6.6MB/s eta 0:00:01\r\u001b[K     |██████████████████████████▍     | 993kB 6.6MB/s eta 0:00:01\r\u001b[K     |██████████████████████████▊     | 1.0MB 6.6MB/s eta 0:00:01\r\u001b[K     |███████████████████████████     | 1.0MB 6.6MB/s eta 0:00:01\r\u001b[K     |███████████████████████████▎    | 1.0MB 6.6MB/s eta 0:00:01\r\u001b[K     |███████████████████████████▌    | 1.0MB 6.6MB/s eta 0:00:01\r\u001b[K     |███████████████████████████▊    | 1.0MB 6.6MB/s eta 0:00:01\r\u001b[K     |████████████████████████████    | 1.1MB 6.6MB/s eta 0:00:01\r\u001b[K     |████████████████████████████▎   | 1.1MB 6.6MB/s eta 0:00:01\r\u001b[K     |████████████████████████████▋   | 1.1MB 6.6MB/s eta 0:00:01\r\u001b[K     |████████████████████████████▉   | 1.1MB 6.6MB/s eta 0:00:01\r\u001b[K     |█████████████████████████████▏  | 1.1MB 6.6MB/s eta 0:00:01\r\u001b[K     |█████████████████████████████▍  | 1.1MB 6.6MB/s eta 0:00:01\r\u001b[K     |█████████████████████████████▊  | 1.1MB 6.6MB/s eta 0:00:01\r\u001b[K     |██████████████████████████████  | 1.1MB 6.6MB/s eta 0:00:01\r\u001b[K     |██████████████████████████████▏ | 1.1MB 6.6MB/s eta 0:00:01\r\u001b[K     |██████████████████████████████▌ | 1.1MB 6.6MB/s eta 0:00:01\r\u001b[K     |██████████████████████████████▊ | 1.2MB 6.6MB/s eta 0:00:01\r\u001b[K     |███████████████████████████████ | 1.2MB 6.6MB/s eta 0:00:01\r\u001b[K     |███████████████████████████████▎| 1.2MB 6.6MB/s eta 0:00:01\r\u001b[K     |███████████████████████████████▋| 1.2MB 6.6MB/s eta 0:00:01\r\u001b[K     |███████████████████████████████▉| 1.2MB 6.6MB/s eta 0:00:01\r\u001b[K     |████████████████████████████████| 1.2MB 6.6MB/s \n",
            "\u001b[?25hInstalling collected packages: sentencepiece\n",
            "Successfully installed sentencepiece-0.1.95\n"
          ],
          "name": "stdout"
        }
      ]
    },
    {
      "cell_type": "markdown",
      "metadata": {
        "id": "gK8J_AvFKTcc"
      },
      "source": [
        "Let's import the pretrained `BigBirdForQuestionAnswering` model. For more details on `BigBirdForQuestionAnswering`, see [TODO: here]()."
      ]
    },
    {
      "cell_type": "code",
      "metadata": {
        "id": "ecjNtnAuKYo8"
      },
      "source": [
        "from transformers import BigBirdTokenizer, BigBirdForQuestionAnswering\n",
        "\n",
        "tokenizer = BigBirdTokenizer.from_pretrained(\"google/bigbird-base-trivia-itc\")\n",
        "model = BigBirdForQuestionAnswering.from_pretrained(\"google/bigbird-base-trivia-itc\").to(\"cuda\")"
      ],
      "execution_count": null,
      "outputs": []
    },
    {
      "cell_type": "markdown",
      "metadata": {
        "id": "MfCi-h_xCqQ1"
      },
      "source": [
        "\n",
        "Next, we will write the evaluation function. Google's official evaluation scripts for *TriviaQA* includes many improvements to make sure that:\n",
        "\n",
        "- multiple aliases of **both** the model's prediction **and** the label are created. This way it can be assured that a correct prediction that only differs in format to the label is indeed classified as being correct. For this, we will write an `expand_to_aliases` function which will normalise the targets and prediction.\n",
        "- the model returns a *non-empty* answer. This can be achieved by using the `top_k` scores returned by model to filter out scores which would lead to an emtpy answer.\n",
        "\n",
        "Let's first define the `expand_to_aliases` function."
      ]
    },
    {
      "cell_type": "code",
      "metadata": {
        "id": "umi9J1DBxTyC"
      },
      "source": [
        "PUNCTUATION_SET_TO_EXCLUDE = set(''.join(['‘', '’', '´', '`', '.', ',', '-', '\"']))\n",
        "\n",
        "def get_sub_answers(answers, begin=0, end=None):\n",
        "  return [\" \".join(x.split(\" \")[begin:end]) for x in answers if len(x.split(\" \")) > 1]\n",
        "\n",
        "def expand_to_aliases(given_answers, make_sub_answers=False):\n",
        "  if make_sub_answers:\n",
        "    # if answers are longer than one word, make sure a predictions is correct if it coresponds to the complete 1: or :-1 sub word\n",
        "    # *e.g.* if the correct answer contains a prefix such as \"the\", or \"a\"\n",
        "    given_answers = given_answers + get_sub_answers(given_answers, begin=1) + get_sub_answers(given_answers, end=-1)\n",
        "  answers = []\n",
        "  for answer in given_answers:\n",
        "    alias = answer.replace('_', ' ').lower()\n",
        "    alias = ''.join(c if c not in PUNCTUATION_SET_TO_EXCLUDE else ' ' for c in alias)\n",
        "    answers.append(' '.join(alias.split()).strip())\n",
        "  return set(answers)"
      ],
      "execution_count": null,
      "outputs": []
    },
    {
      "cell_type": "markdown",
      "metadata": {
        "id": "ceT6f51qxfnt"
      },
      "source": [
        "Here we use a RoBERTa-like model for question answering which means that the answer is not generated auto-regressively by the model, but rather the model has to extract the correct answer from the context. It does so by predicted the start index of the answer as well as the end index and therefore returns two logit vectors at evaluation:\n",
        "\n",
        "1. `start_scores` of size $\\text{batch_size} \\times \\text{sequence_length}$ and\n",
        "2. `end_scores` of size $\\text{batch_size} \\times \\text{sequence_length}$, with\n",
        "\n",
        "$\\text{sequence_length}$ being the sum of the question length and the context length. Each value in `start_scores` and `end_scores` is therefore proportional to the probability that probability that its corresponding index is the start (*resp.* end) index of the answer. The answer can then be computed as the subarray of the tokenized input question + input context:\n",
        "\n",
        "```python\n",
        "predicted_answer = tokenized_question_and_context[best_start_index: best_end_index + 1]\n",
        "```\n",
        "\n",
        "Now instead of just taking the most likely start and end index, we can compute the $\\text{top_k}^2$ best start and end index combinations and pick the most likely combination that is **valid**. We define a **valid** combination as one where the start index is smaller than the end index and where $\\text{end_index} - \\text{start_index} < \\text{max_size}$.\n",
        "\n",
        "Alright quite some theory here - let's write up the function."
      ]
    },
    {
      "cell_type": "code",
      "metadata": {
        "id": "oIUReLlh9tG8"
      },
      "source": [
        "def get_best_valid_start_end_idx(start_scores, end_scores, top_k=1, max_size=100):\n",
        "    best_start_scores, best_start_idx = torch.topk(start_scores, top_k)\n",
        "    best_end_scores, best_end_idx = torch.topk(end_scores, top_k)\n",
        "\n",
        "    widths = best_end_idx[:, None] - best_start_idx[None, :]\n",
        "    mask = torch.logical_or(widths < 0, widths > max_size)\n",
        "    scores = (best_end_scores[:, None] + best_start_scores[None, :]) - (1e8 * mask)\n",
        "    best_score = torch.argmax(scores).item()\n",
        "\n",
        "    return best_start_idx[best_score % top_k], best_end_idx[best_score // top_k]"
      ],
      "execution_count": null,
      "outputs": []
    },
    {
      "cell_type": "markdown",
      "metadata": {
        "id": "8sXUJq8710qb"
      },
      "source": [
        "Alright, finally we can write the evaluation function. First, we tokenize the `question` and `context` and make sure that the maximum length does not exceed the model's `max_position_embeddings` of 4096 tokens.\n",
        "Then, we pass the concatenated question and context token IDs to the model to retrieve the `start_scores` and `end_scores`.\n",
        "\n",
        "As explained earlier, using just the most likely start and end idx could lead to invalid answers, so we apply the `get_best_valid_start_end_idx(...)` function to retrieve the best *valid* start and end token ids.\n",
        "Given those ids, we can then retrieve the actual predicted answer string.\n",
        "Finally, we create normalized aliases for both the predicted answer and the labels. If there is an overlap between all \"extended\" predictions and labels then we have a match."
      ]
    },
    {
      "cell_type": "code",
      "metadata": {
        "id": "sHgcdBt41gby"
      },
      "source": [
        "def evaluate(example):\n",
        "    # encode question and context so that they are seperated by a tokenizer.sep_token and cut at max_length\n",
        "    encoding = tokenizer(example[\"question\"], example[\"context\"], return_tensors=\"pt\", max_length=4096, padding=\"max_length\", truncation=True)\n",
        "    input_ids = encoding.input_ids.to(\"cuda\")\n",
        "\n",
        "    with torch.no_grad():\n",
        "        start_scores, end_scores = model(input_ids=input_ids).to_tuple()\n",
        "\n",
        "    start_score, end_score = get_best_valid_start_end_idx(start_scores[0], end_scores[0], top_k=8, max_size=16)\n",
        "\n",
        "    # Let's convert the input ids back to actual tokens\n",
        "    all_tokens = tokenizer.convert_ids_to_tokens(encoding[\"input_ids\"][0].tolist())\n",
        "    answer_tokens = all_tokens[start_score: end_score + 1]\n",
        "\n",
        "    example[\"output\"] = tokenizer.decode(tokenizer.convert_tokens_to_ids(answer_tokens))\n",
        "    #.replace('\"', '')  # remove space prepending space token and remove unnecessary '\"'\n",
        "\n",
        "    answers = expand_to_aliases(example[\"targets\"], make_sub_answers=True)\n",
        "    predictions = expand_to_aliases([example[\"output\"]])\n",
        "\n",
        "    # if there is a common element, it's a match\n",
        "    example[\"match\"] = len(list(answers & predictions)) > 0\n",
        "\n",
        "    return example\n"
      ],
      "execution_count": null,
      "outputs": []
    },
    {
      "cell_type": "markdown",
      "metadata": {
        "id": "bh65UMh8WP2I"
      },
      "source": [
        "To begin with, we are interested in the performance of the model on short and long samples.\n",
        "Let's evaluate the model on tnhe `short_validation_dataset`.\n",
        "\n",
        "**Note**: This function is expected to run for *ca.* 1h if the full dataset is used ⌛"
      ]
    },
    {
      "cell_type": "code",
      "metadata": {
        "id": "R2REN9qH4HR2",
        "colab": {
          "base_uri": "https://localhost:8080/",
          "height": 67,
          "referenced_widgets": [
            "1e4236b00e4d4f5a8c06921a6fc507b6",
            "932c064742de48ce9d80c5cdbe8bbcbc",
            "087c71b4c08f42a0b1888062f136511f",
            "e7a0d8a756414a56b9af7e1e16af16a4",
            "09f54db75c9f4462bde2914de9db1d7b",
            "6212fc4d6bb84f60b66ffea9f5267b92",
            "dc17763022b24d3e80d576a201e8eeab",
            "0b11dc939085467294c319e92ab7e11f"
          ]
        },
        "outputId": "574c5a5f-3034-4741-c6d7-41e11d104a5e"
      },
      "source": [
        "results_short = short_validation_dataset.map(evaluate)"
      ],
      "execution_count": null,
      "outputs": [
        {
          "output_type": "display_data",
          "data": {
            "application/vnd.jupyter.widget-view+json": {
              "model_id": "1e4236b00e4d4f5a8c06921a6fc507b6",
              "version_minor": 0,
              "version_major": 2
            },
            "text/plain": [
              "HBox(children=(FloatProgress(value=0.0, max=127.0), HTML(value='')))"
            ]
          },
          "metadata": {
            "tags": []
          }
        },
        {
          "output_type": "stream",
          "text": [
            "\n"
          ],
          "name": "stdout"
        }
      ]
    },
    {
      "cell_type": "markdown",
      "metadata": {
        "id": "aqhB3HJYdM66"
      },
      "source": [
        "Alright, let's see the result. We report all results as \"Exact Match\" which is just the ration of correctly answered questions to all questions."
      ]
    },
    {
      "cell_type": "code",
      "metadata": {
        "colab": {
          "base_uri": "https://localhost:8080/"
        },
        "id": "fUtmgk45zhSH",
        "outputId": "5e153b6c-27a9-4b84-9cc6-25c9cb101e0b"
      },
      "source": [
        "print(\"Exact Match (EM): {:.2f}\".format(100 * sum(results_short['match'])/len(results_short)))"
      ],
      "execution_count": null,
      "outputs": [
        {
          "output_type": "stream",
          "text": [
            "Exact Match (EM): 82.68\n"
          ],
          "name": "stdout"
        }
      ]
    },
    {
      "cell_type": "markdown",
      "metadata": {
        "id": "CRTa6oMsd4E_"
      },
      "source": [
        "105/127 = 82.68 => pretty good 🔥. Let's take a look at the wrong examples.\n",
        "For this we first filter out the correct examples and then print them out."
      ]
    },
    {
      "cell_type": "code",
      "metadata": {
        "colab": {
          "base_uri": "https://localhost:8080/",
          "height": 555,
          "referenced_widgets": [
            "791b636a47d84d9aaa7eaa6848b68c25",
            "ae5b0929996e46a68758c0ccba301dcc",
            "193c431ae093425fa35ee270e96cfd64",
            "737c104c20d6414d96eb798e981d3d88",
            "87aec55f84d342be892b866675d45d8e",
            "e1c625c2290d4b83a01fdefd9373077d",
            "008d5ebe18ea44dd8ed81f8f2b4be360",
            "a7d00422e4c04004854734025c1be83b"
          ]
        },
        "id": "EnEaQ6eZd1r9",
        "outputId": "b95c118d-103d-4f4f-ed78-260cfbd842e5"
      },
      "source": [
        "wrong_results = results_short.filter(lambda x: x['match'] is False)\n",
        "print(f\"\\nWrong examples: \")\n",
        "print_out = wrong_results.map(lambda x, i: print(f\"{i} - Output: {x['output']} - Target: {x['norm_target']}\"), with_indices=True)"
      ],
      "execution_count": null,
      "outputs": [
        {
          "output_type": "stream",
          "text": [
            "Loading cached processed dataset at /root/.cache/huggingface/datasets/trivia_qa/rc/1.1.0/c1b17d80bfdd2f43b13e4b5741847f704115379ecebcb21e0917d2e8ddaa1ff1/cache-cd4def4df903b397.arrow\n"
          ],
          "name": "stderr"
        },
        {
          "output_type": "stream",
          "text": [
            "\n",
            "Wrong examples: \n",
            "0 - Output: Mainland - Target: shetland\n"
          ],
          "name": "stdout"
        },
        {
          "output_type": "display_data",
          "data": {
            "application/vnd.jupyter.widget-view+json": {
              "model_id": "791b636a47d84d9aaa7eaa6848b68c25",
              "version_minor": 0,
              "version_major": 2
            },
            "text/plain": [
              "HBox(children=(FloatProgress(value=0.0, max=22.0), HTML(value='')))"
            ]
          },
          "metadata": {
            "tags": []
          }
        },
        {
          "output_type": "stream",
          "text": [
            "0 - Output: Mainland - Target: shetland\n",
            "1 - Output:  - Target: film making\n",
            "2 - Output: tartar sauce - Target: puttanesca\n",
            "3 - Output: collapsible - Target: baby buggy\n",
            "4 - Output: five - Target: 3\n",
            "5 - Output: Martin Austin Ruane - Target: martin ruane\n",
            "6 - Output: Kipps: The Story of a Simple Soul - Target: kipps\n",
            "7 - Output:  - Target: corset\n",
            "8 - Output: 102 - Target: 8\n",
            "9 - Output: heart failure - Target: high blood pressure\n",
            "10 - Output: Potatoes - Target: onions\n",
            "11 - Output: citric acid - Target: tartaric acid\n",
            "12 - Output: Johnny Hooker - Target: henry gondorf\n",
            "13 - Output: Roald Amundsen - Target: edmond hillary\n",
            "14 - Output: Sebastian - Target: jasper\n",
            "15 - Output: George III - Target: george\n",
            "16 - Output: 1938 - Target: 13\n",
            "17 - Output: Gary Lewis - Target: gary lewis and playboys\n",
            "18 - Output: collapsible - Target: baby buggy\n",
            "19 - Output:  - Target: florence henderson\n",
            "20 - Output:  - Target: presley\n",
            "21 - Output: Belle Elmore - Target: his wife\n",
            "\n"
          ],
          "name": "stdout"
        }
      ]
    },
    {
      "cell_type": "markdown",
      "metadata": {
        "id": "GWbgnWdXeIuh"
      },
      "source": [
        "Ok! Except for the wrong answer no. 15: *George III* vs. *george*, where the model arguably gave a correct answer, incorrectly rated model predictions are in fact very much wrong."
      ]
    },
    {
      "cell_type": "markdown",
      "metadata": {
        "id": "ULyIPLZIbtIP"
      },
      "source": [
        "We also want to evaluate the `BigBird` on the full validation set. Let's run it.\n",
        "\n",
        "**Note**: This function is expected to run for ca. 4h if the full dataset is used ⌛⌛⌛⌛. In this case, you should make sure that your training doesn't stop due to inactivity. A simple hack to prevent this is to paste the following code into the console of this tab (right mouse click -> inspect -> Console tab and insert code)."
      ]
    },
    {
      "cell_type": "markdown",
      "metadata": {
        "id": "53DdowTejHTz"
      },
      "source": [
        "```javascript\n",
        "function ConnectButton(){\n",
        "    console.log(\"Connect pushed\");\n",
        "    document.querySelector(\"#top-toolbar > colab-connect-button\").shadowRoot.querySelector(\"#connect\").click()\n",
        "}\n",
        "setInterval(ConnectButton,60000);\n",
        "```"
      ]
    },
    {
      "cell_type": "code",
      "metadata": {
        "id": "jWNtljj3Wr9h",
        "colab": {
          "base_uri": "https://localhost:8080/",
          "height": 67,
          "referenced_widgets": [
            "694b59d5cde644128f6d9a2489ed0ffc",
            "8f62b76965e64ce0888a966267e3df3f",
            "b1d16a21425c4d8db49898710bed2eed",
            "05adeb9f14844068a617363826472d96",
            "ee5170c6e7ff4e0c96d3fa42c7627c74",
            "44bb6f222d964818bb3d96a8c4166ae6",
            "c6f459e12a6f4f3c8a55b85f0433b08f",
            "d46f363afcb5482f8d29e80773bdea99"
          ]
        },
        "outputId": "56ebb9b0-8ec1-4e48-beff-05ea4b9125eb"
      },
      "source": [
        "results = validation_dataset.map(evaluate)"
      ],
      "execution_count": null,
      "outputs": [
        {
          "output_type": "display_data",
          "data": {
            "application/vnd.jupyter.widget-view+json": {
              "model_id": "694b59d5cde644128f6d9a2489ed0ffc",
              "version_minor": 0,
              "version_major": 2
            },
            "text/plain": [
              "HBox(children=(FloatProgress(value=0.0, max=531.0), HTML(value='')))"
            ]
          },
          "metadata": {
            "tags": []
          }
        },
        {
          "output_type": "stream",
          "text": [
            "\n"
          ],
          "name": "stdout"
        }
      ]
    },
    {
      "cell_type": "markdown",
      "metadata": {
        "id": "FqcT8AEGezGx"
      },
      "source": [
        "Finally, let's print out the score."
      ]
    },
    {
      "cell_type": "code",
      "metadata": {
        "id": "wyDYG4YDXFV7",
        "colab": {
          "base_uri": "https://localhost:8080/"
        },
        "outputId": "eb7e9847-30c9-4660-b240-b82482fe2166"
      },
      "source": [
        "print(\"Exact Match (EM): {:.2f}\".format(100 * sum(results['match'])/len(results)))"
      ],
      "execution_count": null,
      "outputs": [
        {
          "output_type": "stream",
          "text": [
            "Exact Match (EM): 62.15\n"
          ],
          "name": "stdout"
        }
      ]
    },
    {
      "cell_type": "markdown",
      "metadata": {
        "id": "e80MqFyP4JIj"
      },
      "source": [
        "Here, we now see a slight degradation, which is expected since the added data samples all have a longer context than the model can handle. It is still a very good score though.\n",
        "\n",
        "**Note**: *BigBird* reached a new SOTA on TriviaQA - see Table 2 in [paper](https://arxiv.org/pdf/2007.14062.pdf). Running the notebook on the full validation set should give you an Exact Match score (EM) of TODO: Fill in.\n",
        "This score is somewhat close to the reported EM of **75.77** and F-score of **79.5**. The reported EM is still significantly better because the [official evaluation script](https://github.com/tensorflow/models/tree/f540d472d5cdaa701615e7ceb138ef66f3da2770/official/nlp/projects/triviaqa) contain more improvements, such as splitting long contexts, etc..."
      ]
    },
    {
      "cell_type": "markdown",
      "metadata": {
        "id": "suv6-Rb5Xe9X"
      },
      "source": [
        "🤗 🤗 **Finish** 🤗🤗"
      ]
    }
  ]
}